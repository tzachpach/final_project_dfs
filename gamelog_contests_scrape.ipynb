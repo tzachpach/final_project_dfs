{
 "metadata": {
  "kernelspec": {
   "language": "python",
   "display_name": "Python 3",
   "name": "python3"
  },
  "language_info": {
   "pygments_lexer": "ipython3",
   "nbconvert_exporter": "python",
   "version": "3.6.4",
   "file_extension": ".py",
   "codemirror_mode": {
    "name": "ipython",
    "version": 3
   },
   "name": "python",
   "mimetype": "text/x-python"
  },
  "kaggle": {
   "accelerator": "none",
   "dataSources": [
    {
     "sourceId": 2514614,
     "sourceType": "datasetVersion",
     "datasetId": 1523149
    }
   ],
   "dockerImageVersionId": 30120,
   "isInternetEnabled": true,
   "language": "python",
   "sourceType": "notebook",
   "isGpuEnabled": false
  }
 },
 "nbformat_minor": 4,
 "nbformat": 4,
 "cells": [
  {
   "cell_type": "markdown",
   "source": [
    "<h1>NBA Data Generator</h1>\n",
    "<p>\n",
    "This notebook generates data relating to the NBA using the nba_api library (https://github.com/swar/nba_api)\n",
    "\n",
    "</p>"
   ],
   "metadata": {}
  },
  {
   "cell_type": "markdown",
   "source": [
    "<h2>Configuration</h2>"
   ],
   "metadata": {}
  },
  {
   "cell_type": "code",
   "execution_count": 1,
   "outputs": [
    {
     "name": "stderr",
     "output_type": "stream",
     "text": [
      "/Users/admin/.local/lib/python3.10/site-packages/pandas/core/arrays/masked.py:60: UserWarning: Pandas requires version '1.3.6' or newer of 'bottleneck' (version '1.3.5' currently installed).\n",
      "  from pandas.core import (\n",
      "/Users/yafo/miniconda3/envs/nlp/lib/python3.10/site-packages/fuzzywuzzy/fuzz.py:11: UserWarning: Using slow pure-python SequenceMatcher. Install python-Levenshtein to remove this warning\n",
      "  warnings.warn('Using slow pure-python SequenceMatcher. Install python-Levenshtein to remove this warning')\n"
     ]
    }
   ],
   "source": [
    "import pandas as pd\n",
    "import numpy as np\n",
    "import os\n",
    "import time\n",
    "from pathlib import Path\n",
    "from fuzzywuzzy import process\n",
    "import warnings\n",
    "from nba_api.stats.endpoints import leaguegamefinder, boxscoretraditionalv2, boxscoreadvancedv2, playergamelogs\n",
    "from nba_api.stats.library.parameters import Season, SeasonType\n",
    "import requests\n",
    "from requests import get\n",
    "from bs4 import BeautifulSoup\n",
    "# import unidecode, os, sys, unicodedata\n",
    "from urllib.request import urlopen\n",
    "from urllib import request\n",
    "from tqdm import tqdm\n",
    "from datetime import date, datetime\n",
    "from dateutil import rrule\n",
    "import ssl\n",
    "warnings.filterwarnings(\"ignore\")\n",
    "get_new_games, get_new_pbp, get_new_rosters, get_new_shotcharts = False, False, False, False"
   ],
   "metadata": {
    "collapsed": false
   }
  },
  {
   "cell_type": "markdown",
   "source": [
    "# Player Gamelogs"
   ],
   "metadata": {}
  },
  {
   "cell_type": "code",
   "source": [
    "### Retrieves game-by-game stats for all players in a specified season\n",
    "\n",
    "latest_season = 24\n",
    "number_of_seasons = 10\n",
    "\n",
    "box_score_types = ['Base', 'Advanced', 'Scoring', 'Usage'] #'Four Factors', 'Misc', 'Opponent' not applicable\n",
    "\n",
    "def gamelog_scrape(box_score_type):\n",
    "\n",
    "# if get_new_player_gamelogs:\n",
    "#     # Iterate through the seasons and save each season to a csv\n",
    "    for n in range(0, number_of_seasons):\n",
    "        # construct the season name with multiple-year convention\n",
    "        season_name = f\"20{latest_season-(n+1)}-{latest_season-n}\"\n",
    "        # request the gamelogs for the season\n",
    "        playergamefinder = playergamelogs.PlayerGameLogs(season_nullable=season_name, measure_type_player_game_logs_nullable=box_score_type, league_id_nullable='00')\n",
    "        gamelog_df = playergamefinder.get_data_frames()\n",
    "        # save the returned results to csv\n",
    "        gamelog_df[0].to_csv(f\"data/gamelogs_2015-24/player_gamelogs_{box_score_type}_{season_name}.csv\")\n",
    "        # print(f\"Player gamelogs obtained for 20{latest_season-n}\")\n",
    "\n",
    "for type in box_score_types:\n",
    "    gamelog_scrape(type)\n"
   ],
   "metadata": {},
   "execution_count": 7,
   "outputs": []
  },
  {
   "cell_type": "markdown",
   "source": [
    "## Merge Gamelogs"
   ],
   "metadata": {
    "collapsed": false
   }
  },
  {
   "cell_type": "code",
   "execution_count": 12,
   "outputs": [
    {
     "name": "stdout",
     "output_type": "stream",
     "text": [
      "all columns for 4 gamelog types merged, after cleaning: \n",
      "\n"
     ]
    },
    {
     "data": {
      "text/plain": "['SEASON_YEAR',\n 'PLAYER_ID',\n 'PLAYER_NAME',\n 'TEAM_ID',\n 'TEAM_ABBREVIATION',\n 'GAME_ID',\n 'GAME_DATE',\n 'WL',\n 'MIN',\n 'FGM',\n 'FGA',\n 'FG_PCT',\n 'FG3M',\n 'FG3A',\n 'FG3_PCT',\n 'FTM',\n 'FTA',\n 'FT_PCT',\n 'OREB',\n 'DREB',\n 'REB',\n 'AST',\n 'TOV',\n 'STL',\n 'BLK',\n 'BLKA',\n 'PF',\n 'PFD',\n 'PTS',\n 'PLUS_MINUS',\n 'NBA_FANTASY_PTS',\n 'DD2',\n 'TD3',\n 'WNBA_FANTASY_PTS',\n 'AVAILABLE_FLAG',\n 'E_OFF_RATING',\n 'OFF_RATING',\n 'sp_work_OFF_RATING',\n 'E_DEF_RATING',\n 'DEF_RATING',\n 'sp_work_DEF_RATING',\n 'E_NET_RATING',\n 'NET_RATING',\n 'sp_work_NET_RATING',\n 'AST_PCT',\n 'AST_TO',\n 'AST_RATIO',\n 'OREB_PCT',\n 'DREB_PCT',\n 'REB_PCT',\n 'TM_TOV_PCT',\n 'E_TOV_PCT',\n 'EFG_PCT',\n 'TS_PCT',\n 'USG_PCT_x',\n 'E_USG_PCT',\n 'E_PACE',\n 'PACE',\n 'PACE_PER40',\n 'sp_work_PACE',\n 'PIE',\n 'POSS',\n 'FGM_PG',\n 'FGA_PG',\n 'PCT_FGA_2PT',\n 'PCT_FGA_3PT',\n 'PCT_PTS_2PT',\n 'PCT_PTS_2PT_MR',\n 'PCT_PTS_3PT',\n 'PCT_PTS_FB',\n 'PCT_PTS_FT',\n 'PCT_PTS_OFF_TOV',\n 'PCT_PTS_PAINT',\n 'PCT_AST_2PM',\n 'PCT_UAST_2PM',\n 'PCT_AST_3PM',\n 'PCT_UAST_3PM',\n 'PCT_AST_FGM',\n 'PCT_UAST_FGM',\n 'PCT_FGM',\n 'PCT_FGA',\n 'PCT_FG3M',\n 'PCT_FG3A',\n 'PCT_FTM',\n 'PCT_FTA',\n 'PCT_OREB',\n 'PCT_DREB',\n 'PCT_REB',\n 'PCT_AST',\n 'PCT_TOV',\n 'PCT_STL',\n 'PCT_BLK',\n 'PCT_BLKA',\n 'PCT_PF',\n 'PCT_PFD',\n 'PCT_PTS']"
     },
     "metadata": {},
     "output_type": "display_data"
    }
   ],
   "source": [
    "# Define the directories containing the CSV files for basic and advanced game logs\n",
    "season_names = []\n",
    "for n in range(0, number_of_seasons):\n",
    "    # construct the season name with multiple-year convention\n",
    "    season_name = f\"20{latest_season-(n+1)}-{latest_season-n}\"\n",
    "    season_names.append(season_name)\n",
    "\n",
    "base_dir = 'data/gamelogs_2015-24/base'\n",
    "adv_dir = 'data/gamelogs_2015-24/advanced'\n",
    "scoring_dir = 'data/gamelogs_2015-24/scoring'\n",
    "usage_dir = 'data/gamelogs_2015-24/usage'\n",
    "output_dir = 'data/gamelogs_2015-24'\n",
    "\n",
    "# Ensure the output directory exists\n",
    "os.makedirs(output_dir, exist_ok=True)\n",
    "\n",
    "# Iterate through each season\n",
    "for season in season_names:\n",
    "    base_file = os.path.join(base_dir, f'player_gamelogs_Base_{season}.csv')\n",
    "    adv_file = os.path.join(adv_dir, f'player_gamelogs_Advanced_{season}.csv')\n",
    "    scoring_file = os.path.join(scoring_dir, f'player_gamelogs_Scoring_{season}.csv')\n",
    "    usage_file = os.path.join(usage_dir, f'player_gamelogs_Usage_{season}.csv')\n",
    "\n",
    "    # Load the CSV files as dataframes\n",
    "    df1, df2, df3, df4 = pd.read_csv(base_file), pd.read_csv(adv_file), pd.read_csv(scoring_file), pd.read_csv(usage_file)\n",
    "    unique_cols_2 = [col for col in df2.columns if col not in df1.columns or col in ['PLAYER_ID', 'GAME_ID']]\n",
    "    unique_cols_3 = [col for col in df3.columns if col not in df1.columns or col in ['PLAYER_ID', 'GAME_ID']]\n",
    "    unique_cols_4 = [col for col in df4.columns if col not in df1.columns or col in ['PLAYER_ID', 'GAME_ID']]\n",
    "\n",
    "    # Sequentially merge the 4 dataframes on 'PLAYER_ID' and 'GAME_ID'\n",
    "    merged_df = pd.merge(df1, df2[unique_cols_2], on=['PLAYER_ID', 'GAME_ID'], how='outer')\n",
    "    merged_df = pd.merge(merged_df, df3[unique_cols_3], on=['PLAYER_ID', 'GAME_ID'], how='outer')\n",
    "    merged_df = pd.merge(merged_df, df4[unique_cols_4], on=['PLAYER_ID', 'GAME_ID'], how='outer')\n",
    "\n",
    "    # Data cleaning:\n",
    "    # index, nickname, team name full, matchup, RANK columns, USG_PCT dupe\n",
    "\n",
    "    merged_df.drop(merged_df.columns[[0, 4, 7, 10, 155]], axis=1, inplace=True)\n",
    "    merged_df.drop(merged_df.loc[:, 'GP_RANK':'WNBA_FANTASY_PTS_RANK'], axis=1, inplace=True)\n",
    "    merged_df.drop(merged_df.loc[:, 'E_OFF_RATING_RANK':'FGA_PG_RANK'], axis=1, inplace=True)\n",
    "    merged_df.drop(merged_df.loc[:, 'PCT_FGA_2PT_RANK':'PCT_UAST_FGM_RANK'], axis=1, inplace=True)\n",
    "    merged_df.drop(merged_df.loc[:, 'USG_PCT_RANK_y':'PCT_PTS_RANK'], axis=1, inplace=True)\n",
    "\n",
    "    # Write the merged dataframe to a new CSV file\n",
    "    output_file = os.path.join(output_dir, f'player_gamelogs_merged_{season}.csv')\n",
    "    merged_df.to_csv(output_file, index=False)\n",
    "\n",
    "print(f'all columns for 4 gamelog types merged, after cleaning: \\n')\n",
    "display(merged_df.columns)\n",
    "    # print(f'Merged CSV for season {season} has been created.')\n",
    "\n",
    "# print(\"All seasons have been processed.\")\n",
    "\n"
   ],
   "metadata": {
    "collapsed": false
   }
  },
  {
   "cell_type": "markdown",
   "source": [
    "## Gamelogs & Salaries Data Merge"
   ],
   "metadata": {
    "collapsed": false
   }
  },
  {
   "cell_type": "code",
   "execution_count": 5,
   "outputs": [],
   "source": [
    "\n",
    "gamelogs_dir = 'data/gamelogs_2015-24/'\n",
    "salaries_dir = 'data/salaries_data/'\n",
    "output_dir = 'data/gamelogs_salaries_2016-24/'\n",
    "\n",
    "# Ensure the output directory exists\n",
    "os.makedirs(output_dir, exist_ok=True)\n",
    "\n",
    "# List of seasons to process\n",
    "seasons = ['2016-17', '2017-18', '2018-19', '2019-20', '2020-21', '2021-22', '2022-23', '2023-24']\n",
    "\n",
    "# Iterate through each season\n",
    "for season in seasons:\n",
    "    gamelogs_file = os.path.join(gamelogs_dir, f'player_gamelogs_merged_{season}.csv')\n",
    "    salaries_file = os.path.join(salaries_dir, f'NBA-{season}-DFS-Dataset.csv')\n",
    "\n",
    "    # Load the CSV files\n",
    "    if os.path.exists(gamelogs_file) and os.path.exists(salaries_file):\n",
    "        gamelogs_df = pd.read_csv(gamelogs_file)\n",
    "        salaries_df = pd.read_csv(salaries_file, header=1)\n",
    "        salaries_df.rename(columns={'PLAYER ID': 'PLAYER_ID', 'GAME ID': 'GAME_ID'}, inplace=True)\n",
    "\n",
    "        unique_cols_salaries = [col for col in salaries_df.columns if col not in gamelogs_df.columns or col in ['PLAYER_ID', 'GAME_ID']]\n",
    "        # Merge the dataframes on 'PLAYER_ID' and 'GAME_ID'\n",
    "        merged_df = pd.merge(gamelogs_df, salaries_df[unique_cols_salaries], on=['PLAYER_ID', 'GAME_ID'], how='outer')\n",
    "\n",
    "        # Write the merged dataframe to a new CSV file\n",
    "        output_file = os.path.join(output_dir, f'gamelogs_salaries_{season}.csv')\n",
    "        merged_df.to_csv(output_file, index=False)\n",
    "\n",
    "        # print(f'Merged CSV for season {season} has been created.')\n",
    "    else:\n",
    "        print(f'Files for season {season} not found. Skipping...')\n",
    "\n",
    "# print(\"All seasons have been processed.\")\n"
   ],
   "metadata": {
    "collapsed": false
   }
  },
  {
   "cell_type": "markdown",
   "source": [
    "## DFS Contest Scraper"
   ],
   "metadata": {
    "collapsed": false
   }
  },
  {
   "cell_type": "code",
   "execution_count": 3,
   "outputs": [
    {
     "name": "stderr",
     "output_type": "stream",
     "text": [
      "100%|██████████| 174/174 [12:29<00:00,  4.31s/it]\n",
      "100%|██████████| 80/80 [05:20<00:00,  4.00s/it]\n"
     ]
    }
   ],
   "source": [
    "# Contest Scrape Filters\n",
    "min_buyin = 1\n",
    "max_buyin = 1000\n",
    "min_entrants = 500\n",
    "min_prizepool = 10000\n",
    "\n",
    "# nba_season = '2021-22'\n",
    "# start_date = datetime.strptime('2021-10-19', '%Y-%m-%d')\n",
    "# end_date = datetime.strptime('2022-04-10', '%Y-%m-%d')\n",
    "nba_season = '2022-23'\n",
    "# start_date = datetime.strptime('2022-10-18', '%Y-%m-%d')\n",
    "# end_date = datetime.strptime('2023-04-09', '%Y-%m-%d')\n",
    "start_date = datetime.strptime('2023-01-11', '%Y-%m-%d')\n",
    "end_date = datetime.strptime('2023-03-31', '%Y-%m-%d')\n",
    "\n",
    "today = date.today()\n",
    "\n",
    "dates = []\n",
    "for dt in rrule.rrule(rrule.DAILY, dtstart=start_date, until=end_date):\n",
    "    dates.append(dt.date().strftime('%Y-%m-%d'))\n",
    "\n",
    "dfs_contests_df = pd.DataFrame()\n",
    "\n",
    "for x in tqdm(dates):\n",
    "    url = (\"https://www.fantasycruncher.com/funcs/tournament-analyzer/get-contests.php\")\n",
    "\n",
    "    data = {\n",
    "        \"sites[]\": \"fanduel\",\n",
    "        \"leagues[]\": \"NBA\",\n",
    "        \"periods[]\": x,}\n",
    "    # print(x)\n",
    "    try:\n",
    "        data = requests.post(url, data=data).json()\n",
    "\n",
    "        df = pd.json_normalize(data)\n",
    "        df = df[df.Title == 'Main']\n",
    "        df = df[df.cost >= min_buyin]\n",
    "        df = df[df.cost <= max_buyin]\n",
    "        df = df[df.max_entrants >= min_entrants]\n",
    "        df = df[df.prizepool >= min_prizepool]\n",
    "        df = df.sort_values('prizepool', ascending=False)\n",
    "    except:\n",
    "        pass\n",
    "    try:\n",
    "        df = df.iloc[0,:]\n",
    "        dfs_contests_df = pd.concat([dfs_contests_df, df], axis=1)\n",
    "    except:\n",
    "        pass\n",
    "\n",
    "dfs_contests_df = dfs_contests_df.T\n",
    "# print(dfs_contests_df)\n",
    "dfs_contests_df.to_csv(f'data/contests_data/dfs_contests_fanduel_{nba_season}_Jan-Mar.csv', index=False)"
   ],
   "metadata": {
    "collapsed": false
   }
  },
  {
   "cell_type": "code",
   "execution_count": 4,
   "outputs": [
    {
     "name": "stderr",
     "output_type": "stream",
     "text": [
      "  1%|▏         | 1/80 [00:04<05:47,  4.40s/it]"
     ]
    },
    {
     "name": "stdout",
     "output_type": "stream",
     "text": [
      "Error fetching data for 2023-01-11: HTTPSConnectionPool(host='www.fantasycruncher.com', port=443): Max retries exceeded with url: /funcs/tournament-analyzer/get-contests.php (Caused by SSLError(SSLEOFError(8, '[SSL: UNEXPECTED_EOF_WHILE_READING] EOF occurred in violation of protocol (_ssl.c:1007)')))\n"
     ]
    },
    {
     "name": "stderr",
     "output_type": "stream",
     "text": [
      "  2%|▎         | 2/80 [00:07<04:59,  3.84s/it]"
     ]
    },
    {
     "name": "stdout",
     "output_type": "stream",
     "text": [
      "Error fetching data for 2023-01-12: HTTPSConnectionPool(host='www.fantasycruncher.com', port=443): Max retries exceeded with url: /funcs/tournament-analyzer/get-contests.php (Caused by SSLError(SSLEOFError(8, '[SSL: UNEXPECTED_EOF_WHILE_READING] EOF occurred in violation of protocol (_ssl.c:1007)')))\n"
     ]
    },
    {
     "name": "stderr",
     "output_type": "stream",
     "text": [
      "  4%|▍         | 3/80 [00:12<05:14,  4.09s/it]"
     ]
    },
    {
     "name": "stdout",
     "output_type": "stream",
     "text": [
      "Error fetching data for 2023-01-13: HTTPSConnectionPool(host='www.fantasycruncher.com', port=443): Max retries exceeded with url: /funcs/tournament-analyzer/get-contests.php (Caused by SSLError(SSLEOFError(8, '[SSL: UNEXPECTED_EOF_WHILE_READING] EOF occurred in violation of protocol (_ssl.c:1007)')))\n"
     ]
    },
    {
     "name": "stderr",
     "output_type": "stream",
     "text": [
      "  5%|▌         | 4/80 [00:15<04:50,  3.82s/it]"
     ]
    },
    {
     "name": "stdout",
     "output_type": "stream",
     "text": [
      "Error fetching data for 2023-01-14: HTTPSConnectionPool(host='www.fantasycruncher.com', port=443): Max retries exceeded with url: /funcs/tournament-analyzer/get-contests.php (Caused by SSLError(SSLEOFError(8, '[SSL: UNEXPECTED_EOF_WHILE_READING] EOF occurred in violation of protocol (_ssl.c:1007)')))\n"
     ]
    },
    {
     "name": "stderr",
     "output_type": "stream",
     "text": [
      "  6%|▋         | 5/80 [00:20<05:03,  4.04s/it]"
     ]
    },
    {
     "name": "stdout",
     "output_type": "stream",
     "text": [
      "Error fetching data for 2023-01-15: HTTPSConnectionPool(host='www.fantasycruncher.com', port=443): Max retries exceeded with url: /funcs/tournament-analyzer/get-contests.php (Caused by SSLError(SSLEOFError(8, '[SSL: UNEXPECTED_EOF_WHILE_READING] EOF occurred in violation of protocol (_ssl.c:1007)')))\n"
     ]
    },
    {
     "name": "stderr",
     "output_type": "stream",
     "text": [
      "  8%|▊         | 6/80 [00:23<04:43,  3.83s/it]"
     ]
    },
    {
     "name": "stdout",
     "output_type": "stream",
     "text": [
      "Error fetching data for 2023-01-16: HTTPSConnectionPool(host='www.fantasycruncher.com', port=443): Max retries exceeded with url: /funcs/tournament-analyzer/get-contests.php (Caused by SSLError(SSLEOFError(8, '[SSL: UNEXPECTED_EOF_WHILE_READING] EOF occurred in violation of protocol (_ssl.c:1007)')))\n"
     ]
    },
    {
     "name": "stderr",
     "output_type": "stream",
     "text": [
      "  9%|▉         | 7/80 [00:27<04:53,  4.02s/it]"
     ]
    },
    {
     "name": "stdout",
     "output_type": "stream",
     "text": [
      "Error fetching data for 2023-01-17: HTTPSConnectionPool(host='www.fantasycruncher.com', port=443): Max retries exceeded with url: /funcs/tournament-analyzer/get-contests.php (Caused by SSLError(SSLEOFError(8, '[SSL: UNEXPECTED_EOF_WHILE_READING] EOF occurred in violation of protocol (_ssl.c:1007)')))\n"
     ]
    },
    {
     "name": "stderr",
     "output_type": "stream",
     "text": [
      " 10%|█         | 8/80 [00:32<04:57,  4.14s/it]"
     ]
    },
    {
     "name": "stdout",
     "output_type": "stream",
     "text": [
      "Error fetching data for 2023-01-18: HTTPSConnectionPool(host='www.fantasycruncher.com', port=443): Max retries exceeded with url: /funcs/tournament-analyzer/get-contests.php (Caused by SSLError(SSLEOFError(8, '[SSL: UNEXPECTED_EOF_WHILE_READING] EOF occurred in violation of protocol (_ssl.c:1007)')))\n"
     ]
    },
    {
     "name": "stderr",
     "output_type": "stream",
     "text": [
      " 11%|█▏        | 9/80 [00:35<04:38,  3.92s/it]"
     ]
    },
    {
     "name": "stdout",
     "output_type": "stream",
     "text": [
      "Error fetching data for 2023-01-19: HTTPSConnectionPool(host='www.fantasycruncher.com', port=443): Max retries exceeded with url: /funcs/tournament-analyzer/get-contests.php (Caused by SSLError(SSLEOFError(8, '[SSL: UNEXPECTED_EOF_WHILE_READING] EOF occurred in violation of protocol (_ssl.c:1007)')))\n"
     ]
    },
    {
     "name": "stderr",
     "output_type": "stream",
     "text": [
      " 12%|█▎        | 10/80 [00:40<04:44,  4.07s/it]"
     ]
    },
    {
     "name": "stdout",
     "output_type": "stream",
     "text": [
      "Error fetching data for 2023-01-20: HTTPSConnectionPool(host='www.fantasycruncher.com', port=443): Max retries exceeded with url: /funcs/tournament-analyzer/get-contests.php (Caused by SSLError(SSLEOFError(8, '[SSL: UNEXPECTED_EOF_WHILE_READING] EOF occurred in violation of protocol (_ssl.c:1007)')))\n"
     ]
    },
    {
     "name": "stderr",
     "output_type": "stream",
     "text": [
      " 14%|█▍        | 11/80 [00:43<04:25,  3.85s/it]"
     ]
    },
    {
     "name": "stdout",
     "output_type": "stream",
     "text": [
      "Error fetching data for 2023-01-21: HTTPSConnectionPool(host='www.fantasycruncher.com', port=443): Max retries exceeded with url: /funcs/tournament-analyzer/get-contests.php (Caused by SSLError(SSLEOFError(8, '[SSL: UNEXPECTED_EOF_WHILE_READING] EOF occurred in violation of protocol (_ssl.c:1007)')))\n"
     ]
    },
    {
     "name": "stderr",
     "output_type": "stream",
     "text": [
      " 15%|█▌        | 12/80 [00:47<04:32,  4.01s/it]"
     ]
    },
    {
     "name": "stdout",
     "output_type": "stream",
     "text": [
      "Error fetching data for 2023-01-22: HTTPSConnectionPool(host='www.fantasycruncher.com', port=443): Max retries exceeded with url: /funcs/tournament-analyzer/get-contests.php (Caused by SSLError(SSLEOFError(8, '[SSL: UNEXPECTED_EOF_WHILE_READING] EOF occurred in violation of protocol (_ssl.c:1007)')))\n"
     ]
    },
    {
     "name": "stderr",
     "output_type": "stream",
     "text": [
      " 16%|█▋        | 13/80 [00:52<04:37,  4.15s/it]"
     ]
    },
    {
     "name": "stdout",
     "output_type": "stream",
     "text": [
      "Error fetching data for 2023-01-23: HTTPSConnectionPool(host='www.fantasycruncher.com', port=443): Max retries exceeded with url: /funcs/tournament-analyzer/get-contests.php (Caused by SSLError(SSLEOFError(8, '[SSL: UNEXPECTED_EOF_WHILE_READING] EOF occurred in violation of protocol (_ssl.c:1007)')))\n"
     ]
    },
    {
     "name": "stderr",
     "output_type": "stream",
     "text": [
      " 18%|█▊        | 14/80 [00:55<04:18,  3.92s/it]"
     ]
    },
    {
     "name": "stdout",
     "output_type": "stream",
     "text": [
      "Error fetching data for 2023-01-24: HTTPSConnectionPool(host='www.fantasycruncher.com', port=443): Max retries exceeded with url: /funcs/tournament-analyzer/get-contests.php (Caused by SSLError(SSLEOFError(8, '[SSL: UNEXPECTED_EOF_WHILE_READING] EOF occurred in violation of protocol (_ssl.c:1007)')))\n"
     ]
    },
    {
     "name": "stderr",
     "output_type": "stream",
     "text": [
      " 19%|█▉        | 15/80 [01:00<04:25,  4.08s/it]"
     ]
    },
    {
     "name": "stdout",
     "output_type": "stream",
     "text": [
      "Error fetching data for 2023-01-25: HTTPSConnectionPool(host='www.fantasycruncher.com', port=443): Max retries exceeded with url: /funcs/tournament-analyzer/get-contests.php (Caused by SSLError(SSLEOFError(8, '[SSL: UNEXPECTED_EOF_WHILE_READING] EOF occurred in violation of protocol (_ssl.c:1007)')))\n"
     ]
    },
    {
     "name": "stderr",
     "output_type": "stream",
     "text": [
      " 20%|██        | 16/80 [01:03<04:08,  3.88s/it]"
     ]
    },
    {
     "name": "stdout",
     "output_type": "stream",
     "text": [
      "Error fetching data for 2023-01-26: HTTPSConnectionPool(host='www.fantasycruncher.com', port=443): Max retries exceeded with url: /funcs/tournament-analyzer/get-contests.php (Caused by SSLError(SSLEOFError(8, '[SSL: UNEXPECTED_EOF_WHILE_READING] EOF occurred in violation of protocol (_ssl.c:1007)')))\n"
     ]
    },
    {
     "name": "stderr",
     "output_type": "stream",
     "text": [
      " 21%|██▏       | 17/80 [01:08<04:15,  4.05s/it]"
     ]
    },
    {
     "name": "stdout",
     "output_type": "stream",
     "text": [
      "Error fetching data for 2023-01-27: HTTPSConnectionPool(host='www.fantasycruncher.com', port=443): Max retries exceeded with url: /funcs/tournament-analyzer/get-contests.php (Caused by SSLError(SSLEOFError(8, '[SSL: UNEXPECTED_EOF_WHILE_READING] EOF occurred in violation of protocol (_ssl.c:1007)')))\n"
     ]
    },
    {
     "name": "stderr",
     "output_type": "stream",
     "text": [
      " 22%|██▎       | 18/80 [01:11<03:59,  3.86s/it]"
     ]
    },
    {
     "name": "stdout",
     "output_type": "stream",
     "text": [
      "Error fetching data for 2023-01-28: HTTPSConnectionPool(host='www.fantasycruncher.com', port=443): Max retries exceeded with url: /funcs/tournament-analyzer/get-contests.php (Caused by SSLError(SSLEOFError(8, '[SSL: UNEXPECTED_EOF_WHILE_READING] EOF occurred in violation of protocol (_ssl.c:1007)')))\n"
     ]
    },
    {
     "name": "stderr",
     "output_type": "stream",
     "text": [
      " 24%|██▍       | 19/80 [01:15<04:06,  4.04s/it]"
     ]
    },
    {
     "name": "stdout",
     "output_type": "stream",
     "text": [
      "Error fetching data for 2023-01-29: HTTPSConnectionPool(host='www.fantasycruncher.com', port=443): Max retries exceeded with url: /funcs/tournament-analyzer/get-contests.php (Caused by SSLError(SSLEOFError(8, '[SSL: UNEXPECTED_EOF_WHILE_READING] EOF occurred in violation of protocol (_ssl.c:1007)')))\n"
     ]
    },
    {
     "name": "stderr",
     "output_type": "stream",
     "text": [
      " 25%|██▌       | 20/80 [01:20<04:09,  4.16s/it]"
     ]
    },
    {
     "name": "stdout",
     "output_type": "stream",
     "text": [
      "Error fetching data for 2023-01-30: HTTPSConnectionPool(host='www.fantasycruncher.com', port=443): Max retries exceeded with url: /funcs/tournament-analyzer/get-contests.php (Caused by SSLError(SSLEOFError(8, '[SSL: UNEXPECTED_EOF_WHILE_READING] EOF occurred in violation of protocol (_ssl.c:1007)')))\n"
     ]
    },
    {
     "name": "stderr",
     "output_type": "stream",
     "text": [
      " 26%|██▋       | 21/80 [01:23<03:52,  3.94s/it]"
     ]
    },
    {
     "name": "stdout",
     "output_type": "stream",
     "text": [
      "Error fetching data for 2023-01-31: HTTPSConnectionPool(host='www.fantasycruncher.com', port=443): Max retries exceeded with url: /funcs/tournament-analyzer/get-contests.php (Caused by SSLError(SSLEOFError(8, '[SSL: UNEXPECTED_EOF_WHILE_READING] EOF occurred in violation of protocol (_ssl.c:1007)')))\n"
     ]
    },
    {
     "name": "stderr",
     "output_type": "stream",
     "text": [
      " 28%|██▊       | 22/80 [01:28<03:56,  4.08s/it]"
     ]
    },
    {
     "name": "stdout",
     "output_type": "stream",
     "text": [
      "Error fetching data for 2023-02-01: HTTPSConnectionPool(host='www.fantasycruncher.com', port=443): Max retries exceeded with url: /funcs/tournament-analyzer/get-contests.php (Caused by SSLError(SSLEOFError(8, '[SSL: UNEXPECTED_EOF_WHILE_READING] EOF occurred in violation of protocol (_ssl.c:1007)')))\n"
     ]
    },
    {
     "name": "stderr",
     "output_type": "stream",
     "text": [
      " 29%|██▉       | 23/80 [01:31<03:41,  3.89s/it]"
     ]
    },
    {
     "name": "stdout",
     "output_type": "stream",
     "text": [
      "Error fetching data for 2023-02-02: HTTPSConnectionPool(host='www.fantasycruncher.com', port=443): Max retries exceeded with url: /funcs/tournament-analyzer/get-contests.php (Caused by SSLError(SSLEOFError(8, '[SSL: UNEXPECTED_EOF_WHILE_READING] EOF occurred in violation of protocol (_ssl.c:1007)')))\n"
     ]
    },
    {
     "name": "stderr",
     "output_type": "stream",
     "text": [
      " 30%|███       | 24/80 [01:36<03:46,  4.05s/it]"
     ]
    },
    {
     "name": "stdout",
     "output_type": "stream",
     "text": [
      "Error fetching data for 2023-02-03: HTTPSConnectionPool(host='www.fantasycruncher.com', port=443): Max retries exceeded with url: /funcs/tournament-analyzer/get-contests.php (Caused by SSLError(SSLEOFError(8, '[SSL: UNEXPECTED_EOF_WHILE_READING] EOF occurred in violation of protocol (_ssl.c:1007)')))\n"
     ]
    },
    {
     "name": "stderr",
     "output_type": "stream",
     "text": [
      " 31%|███▏      | 25/80 [01:39<03:32,  3.87s/it]"
     ]
    },
    {
     "name": "stdout",
     "output_type": "stream",
     "text": [
      "Error fetching data for 2023-02-04: HTTPSConnectionPool(host='www.fantasycruncher.com', port=443): Max retries exceeded with url: /funcs/tournament-analyzer/get-contests.php (Caused by SSLError(SSLEOFError(8, '[SSL: UNEXPECTED_EOF_WHILE_READING] EOF occurred in violation of protocol (_ssl.c:1007)')))\n"
     ]
    },
    {
     "name": "stderr",
     "output_type": "stream",
     "text": [
      " 32%|███▎      | 26/80 [01:43<03:37,  4.04s/it]"
     ]
    },
    {
     "name": "stdout",
     "output_type": "stream",
     "text": [
      "Error fetching data for 2023-02-05: HTTPSConnectionPool(host='www.fantasycruncher.com', port=443): Max retries exceeded with url: /funcs/tournament-analyzer/get-contests.php (Caused by SSLError(SSLEOFError(8, '[SSL: UNEXPECTED_EOF_WHILE_READING] EOF occurred in violation of protocol (_ssl.c:1007)')))\n"
     ]
    },
    {
     "name": "stderr",
     "output_type": "stream",
     "text": [
      " 34%|███▍      | 27/80 [01:48<03:39,  4.14s/it]"
     ]
    },
    {
     "name": "stdout",
     "output_type": "stream",
     "text": [
      "Error fetching data for 2023-02-06: HTTPSConnectionPool(host='www.fantasycruncher.com', port=443): Max retries exceeded with url: /funcs/tournament-analyzer/get-contests.php (Caused by SSLError(SSLEOFError(8, '[SSL: UNEXPECTED_EOF_WHILE_READING] EOF occurred in violation of protocol (_ssl.c:1007)')))\n"
     ]
    },
    {
     "name": "stderr",
     "output_type": "stream",
     "text": [
      " 35%|███▌      | 28/80 [01:51<03:24,  3.93s/it]"
     ]
    },
    {
     "name": "stdout",
     "output_type": "stream",
     "text": [
      "Error fetching data for 2023-02-07: HTTPSConnectionPool(host='www.fantasycruncher.com', port=443): Max retries exceeded with url: /funcs/tournament-analyzer/get-contests.php (Caused by SSLError(SSLEOFError(8, '[SSL: UNEXPECTED_EOF_WHILE_READING] EOF occurred in violation of protocol (_ssl.c:1007)')))\n"
     ]
    },
    {
     "name": "stderr",
     "output_type": "stream",
     "text": [
      " 36%|███▋      | 29/80 [01:56<03:27,  4.06s/it]"
     ]
    },
    {
     "name": "stdout",
     "output_type": "stream",
     "text": [
      "Error fetching data for 2023-02-08: HTTPSConnectionPool(host='www.fantasycruncher.com', port=443): Max retries exceeded with url: /funcs/tournament-analyzer/get-contests.php (Caused by SSLError(SSLEOFError(8, '[SSL: UNEXPECTED_EOF_WHILE_READING] EOF occurred in violation of protocol (_ssl.c:1007)')))\n"
     ]
    },
    {
     "name": "stderr",
     "output_type": "stream",
     "text": [
      " 38%|███▊      | 30/80 [01:59<03:12,  3.85s/it]"
     ]
    },
    {
     "name": "stdout",
     "output_type": "stream",
     "text": [
      "Error fetching data for 2023-02-09: HTTPSConnectionPool(host='www.fantasycruncher.com', port=443): Max retries exceeded with url: /funcs/tournament-analyzer/get-contests.php (Caused by SSLError(SSLEOFError(8, '[SSL: UNEXPECTED_EOF_WHILE_READING] EOF occurred in violation of protocol (_ssl.c:1007)')))\n"
     ]
    },
    {
     "name": "stderr",
     "output_type": "stream",
     "text": [
      " 39%|███▉      | 31/80 [02:03<03:16,  4.01s/it]"
     ]
    },
    {
     "name": "stdout",
     "output_type": "stream",
     "text": [
      "Error fetching data for 2023-02-10: HTTPSConnectionPool(host='www.fantasycruncher.com', port=443): Max retries exceeded with url: /funcs/tournament-analyzer/get-contests.php (Caused by SSLError(SSLEOFError(8, '[SSL: UNEXPECTED_EOF_WHILE_READING] EOF occurred in violation of protocol (_ssl.c:1007)')))\n"
     ]
    },
    {
     "name": "stderr",
     "output_type": "stream",
     "text": [
      " 40%|████      | 32/80 [02:08<03:19,  4.15s/it]"
     ]
    },
    {
     "name": "stdout",
     "output_type": "stream",
     "text": [
      "Error fetching data for 2023-02-11: HTTPSConnectionPool(host='www.fantasycruncher.com', port=443): Max retries exceeded with url: /funcs/tournament-analyzer/get-contests.php (Caused by SSLError(SSLEOFError(8, '[SSL: UNEXPECTED_EOF_WHILE_READING] EOF occurred in violation of protocol (_ssl.c:1007)')))\n"
     ]
    },
    {
     "name": "stderr",
     "output_type": "stream",
     "text": [
      " 41%|████▏     | 33/80 [02:11<03:04,  3.93s/it]"
     ]
    },
    {
     "name": "stdout",
     "output_type": "stream",
     "text": [
      "Error fetching data for 2023-02-12: HTTPSConnectionPool(host='www.fantasycruncher.com', port=443): Max retries exceeded with url: /funcs/tournament-analyzer/get-contests.php (Caused by SSLError(SSLEOFError(8, '[SSL: UNEXPECTED_EOF_WHILE_READING] EOF occurred in violation of protocol (_ssl.c:1007)')))\n"
     ]
    },
    {
     "name": "stderr",
     "output_type": "stream",
     "text": [
      " 42%|████▎     | 34/80 [02:16<03:07,  4.09s/it]"
     ]
    },
    {
     "name": "stdout",
     "output_type": "stream",
     "text": [
      "Error fetching data for 2023-02-13: HTTPSConnectionPool(host='www.fantasycruncher.com', port=443): Max retries exceeded with url: /funcs/tournament-analyzer/get-contests.php (Caused by SSLError(SSLEOFError(8, '[SSL: UNEXPECTED_EOF_WHILE_READING] EOF occurred in violation of protocol (_ssl.c:1007)')))\n"
     ]
    },
    {
     "name": "stderr",
     "output_type": "stream",
     "text": [
      " 44%|████▍     | 35/80 [02:19<02:54,  3.87s/it]"
     ]
    },
    {
     "name": "stdout",
     "output_type": "stream",
     "text": [
      "Error fetching data for 2023-02-14: HTTPSConnectionPool(host='www.fantasycruncher.com', port=443): Max retries exceeded with url: /funcs/tournament-analyzer/get-contests.php (Caused by SSLError(SSLEOFError(8, '[SSL: UNEXPECTED_EOF_WHILE_READING] EOF occurred in violation of protocol (_ssl.c:1007)')))\n"
     ]
    },
    {
     "name": "stderr",
     "output_type": "stream",
     "text": [
      " 45%|████▌     | 36/80 [02:23<02:57,  4.03s/it]"
     ]
    },
    {
     "name": "stdout",
     "output_type": "stream",
     "text": [
      "Error fetching data for 2023-02-15: HTTPSConnectionPool(host='www.fantasycruncher.com', port=443): Max retries exceeded with url: /funcs/tournament-analyzer/get-contests.php (Caused by SSLError(SSLEOFError(8, '[SSL: UNEXPECTED_EOF_WHILE_READING] EOF occurred in violation of protocol (_ssl.c:1007)')))\n"
     ]
    },
    {
     "name": "stderr",
     "output_type": "stream",
     "text": [
      " 46%|████▋     | 37/80 [02:28<02:57,  4.13s/it]"
     ]
    },
    {
     "name": "stdout",
     "output_type": "stream",
     "text": [
      "Error fetching data for 2023-02-16: HTTPSConnectionPool(host='www.fantasycruncher.com', port=443): Max retries exceeded with url: /funcs/tournament-analyzer/get-contests.php (Caused by SSLError(SSLEOFError(8, '[SSL: UNEXPECTED_EOF_WHILE_READING] EOF occurred in violation of protocol (_ssl.c:1007)')))\n"
     ]
    },
    {
     "name": "stderr",
     "output_type": "stream",
     "text": [
      " 48%|████▊     | 38/80 [02:31<02:43,  3.90s/it]"
     ]
    },
    {
     "name": "stdout",
     "output_type": "stream",
     "text": [
      "Error fetching data for 2023-02-17: HTTPSConnectionPool(host='www.fantasycruncher.com', port=443): Max retries exceeded with url: /funcs/tournament-analyzer/get-contests.php (Caused by SSLError(SSLEOFError(8, '[SSL: UNEXPECTED_EOF_WHILE_READING] EOF occurred in violation of protocol (_ssl.c:1007)')))\n"
     ]
    },
    {
     "name": "stderr",
     "output_type": "stream",
     "text": [
      " 49%|████▉     | 39/80 [02:36<02:48,  4.11s/it]"
     ]
    },
    {
     "name": "stdout",
     "output_type": "stream",
     "text": [
      "Error fetching data for 2023-02-18: HTTPSConnectionPool(host='www.fantasycruncher.com', port=443): Max retries exceeded with url: /funcs/tournament-analyzer/get-contests.php (Caused by SSLError(SSLEOFError(8, '[SSL: UNEXPECTED_EOF_WHILE_READING] EOF occurred in violation of protocol (_ssl.c:1007)')))\n"
     ]
    },
    {
     "name": "stderr",
     "output_type": "stream",
     "text": [
      " 50%|█████     | 40/80 [02:40<02:40,  4.00s/it]"
     ]
    },
    {
     "name": "stdout",
     "output_type": "stream",
     "text": [
      "Error fetching data for 2023-02-19: HTTPSConnectionPool(host='www.fantasycruncher.com', port=443): Max retries exceeded with url: /funcs/tournament-analyzer/get-contests.php (Caused by SSLError(SSLEOFError(8, '[SSL: UNEXPECTED_EOF_WHILE_READING] EOF occurred in violation of protocol (_ssl.c:1007)')))\n"
     ]
    },
    {
     "name": "stderr",
     "output_type": "stream",
     "text": [
      " 51%|█████▏    | 41/80 [02:43<02:29,  3.82s/it]"
     ]
    },
    {
     "name": "stdout",
     "output_type": "stream",
     "text": [
      "Error fetching data for 2023-02-20: HTTPSConnectionPool(host='www.fantasycruncher.com', port=443): Max retries exceeded with url: /funcs/tournament-analyzer/get-contests.php (Caused by SSLError(SSLEOFError(8, '[SSL: UNEXPECTED_EOF_WHILE_READING] EOF occurred in violation of protocol (_ssl.c:1007)')))\n"
     ]
    },
    {
     "name": "stderr",
     "output_type": "stream",
     "text": [
      " 52%|█████▎    | 42/80 [02:47<02:32,  4.01s/it]"
     ]
    },
    {
     "name": "stdout",
     "output_type": "stream",
     "text": [
      "Error fetching data for 2023-02-21: HTTPSConnectionPool(host='www.fantasycruncher.com', port=443): Max retries exceeded with url: /funcs/tournament-analyzer/get-contests.php (Caused by SSLError(SSLEOFError(8, '[SSL: UNEXPECTED_EOF_WHILE_READING] EOF occurred in violation of protocol (_ssl.c:1007)')))\n"
     ]
    },
    {
     "name": "stderr",
     "output_type": "stream",
     "text": [
      " 54%|█████▍    | 43/80 [02:52<02:32,  4.12s/it]"
     ]
    },
    {
     "name": "stdout",
     "output_type": "stream",
     "text": [
      "Error fetching data for 2023-02-22: HTTPSConnectionPool(host='www.fantasycruncher.com', port=443): Max retries exceeded with url: /funcs/tournament-analyzer/get-contests.php (Caused by SSLError(SSLEOFError(8, '[SSL: UNEXPECTED_EOF_WHILE_READING] EOF occurred in violation of protocol (_ssl.c:1007)')))\n"
     ]
    },
    {
     "name": "stderr",
     "output_type": "stream",
     "text": [
      " 55%|█████▌    | 44/80 [02:55<02:21,  3.93s/it]"
     ]
    },
    {
     "name": "stdout",
     "output_type": "stream",
     "text": [
      "Error fetching data for 2023-02-23: HTTPSConnectionPool(host='www.fantasycruncher.com', port=443): Max retries exceeded with url: /funcs/tournament-analyzer/get-contests.php (Caused by SSLError(SSLEOFError(8, '[SSL: UNEXPECTED_EOF_WHILE_READING] EOF occurred in violation of protocol (_ssl.c:1007)')))\n"
     ]
    },
    {
     "name": "stderr",
     "output_type": "stream",
     "text": [
      " 56%|█████▋    | 45/80 [03:00<02:22,  4.07s/it]"
     ]
    },
    {
     "name": "stdout",
     "output_type": "stream",
     "text": [
      "Error fetching data for 2023-02-24: HTTPSConnectionPool(host='www.fantasycruncher.com', port=443): Max retries exceeded with url: /funcs/tournament-analyzer/get-contests.php (Caused by SSLError(SSLEOFError(8, '[SSL: UNEXPECTED_EOF_WHILE_READING] EOF occurred in violation of protocol (_ssl.c:1007)')))\n"
     ]
    },
    {
     "name": "stderr",
     "output_type": "stream",
     "text": [
      " 57%|█████▊    | 46/80 [03:03<02:12,  3.89s/it]"
     ]
    },
    {
     "name": "stdout",
     "output_type": "stream",
     "text": [
      "Error fetching data for 2023-02-25: HTTPSConnectionPool(host='www.fantasycruncher.com', port=443): Max retries exceeded with url: /funcs/tournament-analyzer/get-contests.php (Caused by SSLError(SSLEOFError(8, '[SSL: UNEXPECTED_EOF_WHILE_READING] EOF occurred in violation of protocol (_ssl.c:1007)')))\n"
     ]
    },
    {
     "name": "stderr",
     "output_type": "stream",
     "text": [
      " 59%|█████▉    | 47/80 [03:08<02:14,  4.06s/it]"
     ]
    },
    {
     "name": "stdout",
     "output_type": "stream",
     "text": [
      "Error fetching data for 2023-02-26: HTTPSConnectionPool(host='www.fantasycruncher.com', port=443): Max retries exceeded with url: /funcs/tournament-analyzer/get-contests.php (Caused by SSLError(SSLEOFError(8, '[SSL: UNEXPECTED_EOF_WHILE_READING] EOF occurred in violation of protocol (_ssl.c:1007)')))\n"
     ]
    },
    {
     "name": "stderr",
     "output_type": "stream",
     "text": [
      " 60%|██████    | 48/80 [03:11<02:03,  3.87s/it]"
     ]
    },
    {
     "name": "stdout",
     "output_type": "stream",
     "text": [
      "Error fetching data for 2023-02-27: HTTPSConnectionPool(host='www.fantasycruncher.com', port=443): Max retries exceeded with url: /funcs/tournament-analyzer/get-contests.php (Caused by SSLError(SSLEOFError(8, '[SSL: UNEXPECTED_EOF_WHILE_READING] EOF occurred in violation of protocol (_ssl.c:1007)')))\n"
     ]
    },
    {
     "name": "stderr",
     "output_type": "stream",
     "text": [
      " 61%|██████▏   | 49/80 [03:15<02:05,  4.04s/it]"
     ]
    },
    {
     "name": "stdout",
     "output_type": "stream",
     "text": [
      "Error fetching data for 2023-02-28: HTTPSConnectionPool(host='www.fantasycruncher.com', port=443): Max retries exceeded with url: /funcs/tournament-analyzer/get-contests.php (Caused by SSLError(SSLEOFError(8, '[SSL: UNEXPECTED_EOF_WHILE_READING] EOF occurred in violation of protocol (_ssl.c:1007)')))\n"
     ]
    },
    {
     "name": "stderr",
     "output_type": "stream",
     "text": [
      " 62%|██████▎   | 50/80 [03:20<02:04,  4.16s/it]"
     ]
    },
    {
     "name": "stdout",
     "output_type": "stream",
     "text": [
      "Error fetching data for 2023-03-01: HTTPSConnectionPool(host='www.fantasycruncher.com', port=443): Max retries exceeded with url: /funcs/tournament-analyzer/get-contests.php (Caused by SSLError(SSLEOFError(8, '[SSL: UNEXPECTED_EOF_WHILE_READING] EOF occurred in violation of protocol (_ssl.c:1007)')))\n"
     ]
    },
    {
     "name": "stderr",
     "output_type": "stream",
     "text": [
      " 64%|██████▍   | 51/80 [03:23<01:54,  3.94s/it]"
     ]
    },
    {
     "name": "stdout",
     "output_type": "stream",
     "text": [
      "Error fetching data for 2023-03-02: HTTPSConnectionPool(host='www.fantasycruncher.com', port=443): Max retries exceeded with url: /funcs/tournament-analyzer/get-contests.php (Caused by SSLError(SSLEOFError(8, '[SSL: UNEXPECTED_EOF_WHILE_READING] EOF occurred in violation of protocol (_ssl.c:1007)')))\n"
     ]
    },
    {
     "name": "stderr",
     "output_type": "stream",
     "text": [
      " 65%|██████▌   | 52/80 [03:28<01:54,  4.08s/it]"
     ]
    },
    {
     "name": "stdout",
     "output_type": "stream",
     "text": [
      "Error fetching data for 2023-03-03: HTTPSConnectionPool(host='www.fantasycruncher.com', port=443): Max retries exceeded with url: /funcs/tournament-analyzer/get-contests.php (Caused by SSLError(SSLEOFError(8, '[SSL: UNEXPECTED_EOF_WHILE_READING] EOF occurred in violation of protocol (_ssl.c:1007)')))\n"
     ]
    },
    {
     "name": "stderr",
     "output_type": "stream",
     "text": [
      " 66%|██████▋   | 53/80 [03:31<01:45,  3.89s/it]"
     ]
    },
    {
     "name": "stdout",
     "output_type": "stream",
     "text": [
      "Error fetching data for 2023-03-04: HTTPSConnectionPool(host='www.fantasycruncher.com', port=443): Max retries exceeded with url: /funcs/tournament-analyzer/get-contests.php (Caused by SSLError(SSLEOFError(8, '[SSL: UNEXPECTED_EOF_WHILE_READING] EOF occurred in violation of protocol (_ssl.c:1007)')))\n"
     ]
    },
    {
     "name": "stderr",
     "output_type": "stream",
     "text": [
      " 68%|██████▊   | 54/80 [03:36<01:45,  4.06s/it]"
     ]
    },
    {
     "name": "stdout",
     "output_type": "stream",
     "text": [
      "Error fetching data for 2023-03-05: HTTPSConnectionPool(host='www.fantasycruncher.com', port=443): Max retries exceeded with url: /funcs/tournament-analyzer/get-contests.php (Caused by SSLError(SSLEOFError(8, '[SSL: UNEXPECTED_EOF_WHILE_READING] EOF occurred in violation of protocol (_ssl.c:1007)')))\n"
     ]
    },
    {
     "name": "stderr",
     "output_type": "stream",
     "text": [
      " 69%|██████▉   | 55/80 [03:39<01:36,  3.87s/it]"
     ]
    },
    {
     "name": "stdout",
     "output_type": "stream",
     "text": [
      "Error fetching data for 2023-03-06: HTTPSConnectionPool(host='www.fantasycruncher.com', port=443): Max retries exceeded with url: /funcs/tournament-analyzer/get-contests.php (Caused by SSLError(SSLEOFError(8, '[SSL: UNEXPECTED_EOF_WHILE_READING] EOF occurred in violation of protocol (_ssl.c:1007)')))\n"
     ]
    },
    {
     "name": "stderr",
     "output_type": "stream",
     "text": [
      " 70%|███████   | 56/80 [03:44<01:36,  4.04s/it]"
     ]
    },
    {
     "name": "stdout",
     "output_type": "stream",
     "text": [
      "Error fetching data for 2023-03-07: HTTPSConnectionPool(host='www.fantasycruncher.com', port=443): Max retries exceeded with url: /funcs/tournament-analyzer/get-contests.php (Caused by SSLError(SSLEOFError(8, '[SSL: UNEXPECTED_EOF_WHILE_READING] EOF occurred in violation of protocol (_ssl.c:1007)')))\n"
     ]
    },
    {
     "name": "stderr",
     "output_type": "stream",
     "text": [
      " 71%|███████▏  | 57/80 [03:48<01:35,  4.14s/it]"
     ]
    },
    {
     "name": "stdout",
     "output_type": "stream",
     "text": [
      "Error fetching data for 2023-03-08: HTTPSConnectionPool(host='www.fantasycruncher.com', port=443): Max retries exceeded with url: /funcs/tournament-analyzer/get-contests.php (Caused by SSLError(SSLEOFError(8, '[SSL: UNEXPECTED_EOF_WHILE_READING] EOF occurred in violation of protocol (_ssl.c:1007)')))\n"
     ]
    },
    {
     "name": "stderr",
     "output_type": "stream",
     "text": [
      " 72%|███████▎  | 58/80 [03:51<01:26,  3.95s/it]"
     ]
    },
    {
     "name": "stdout",
     "output_type": "stream",
     "text": [
      "Error fetching data for 2023-03-09: HTTPSConnectionPool(host='www.fantasycruncher.com', port=443): Max retries exceeded with url: /funcs/tournament-analyzer/get-contests.php (Caused by SSLError(SSLEOFError(8, '[SSL: UNEXPECTED_EOF_WHILE_READING] EOF occurred in violation of protocol (_ssl.c:1007)')))\n"
     ]
    },
    {
     "name": "stderr",
     "output_type": "stream",
     "text": [
      " 74%|███████▍  | 59/80 [03:56<01:26,  4.10s/it]"
     ]
    },
    {
     "name": "stdout",
     "output_type": "stream",
     "text": [
      "Error fetching data for 2023-03-10: HTTPSConnectionPool(host='www.fantasycruncher.com', port=443): Max retries exceeded with url: /funcs/tournament-analyzer/get-contests.php (Caused by SSLError(SSLEOFError(8, '[SSL: UNEXPECTED_EOF_WHILE_READING] EOF occurred in violation of protocol (_ssl.c:1007)')))\n"
     ]
    },
    {
     "name": "stderr",
     "output_type": "stream",
     "text": [
      " 75%|███████▌  | 60/80 [03:59<01:17,  3.89s/it]"
     ]
    },
    {
     "name": "stdout",
     "output_type": "stream",
     "text": [
      "Error fetching data for 2023-03-11: HTTPSConnectionPool(host='www.fantasycruncher.com', port=443): Max retries exceeded with url: /funcs/tournament-analyzer/get-contests.php (Caused by SSLError(SSLEOFError(8, '[SSL: UNEXPECTED_EOF_WHILE_READING] EOF occurred in violation of protocol (_ssl.c:1007)')))\n"
     ]
    },
    {
     "name": "stderr",
     "output_type": "stream",
     "text": [
      " 76%|███████▋  | 61/80 [04:04<01:17,  4.06s/it]"
     ]
    },
    {
     "name": "stdout",
     "output_type": "stream",
     "text": [
      "Error fetching data for 2023-03-12: HTTPSConnectionPool(host='www.fantasycruncher.com', port=443): Max retries exceeded with url: /funcs/tournament-analyzer/get-contests.php (Caused by SSLError(SSLEOFError(8, '[SSL: UNEXPECTED_EOF_WHILE_READING] EOF occurred in violation of protocol (_ssl.c:1007)')))\n"
     ]
    },
    {
     "name": "stderr",
     "output_type": "stream",
     "text": [
      " 78%|███████▊  | 62/80 [04:07<01:09,  3.86s/it]"
     ]
    },
    {
     "name": "stdout",
     "output_type": "stream",
     "text": [
      "Error fetching data for 2023-03-13: HTTPSConnectionPool(host='www.fantasycruncher.com', port=443): Max retries exceeded with url: /funcs/tournament-analyzer/get-contests.php (Caused by SSLError(SSLEOFError(8, '[SSL: UNEXPECTED_EOF_WHILE_READING] EOF occurred in violation of protocol (_ssl.c:1007)')))\n"
     ]
    },
    {
     "name": "stderr",
     "output_type": "stream",
     "text": [
      " 79%|███████▉  | 63/80 [04:12<01:08,  4.04s/it]"
     ]
    },
    {
     "name": "stdout",
     "output_type": "stream",
     "text": [
      "Error fetching data for 2023-03-14: HTTPSConnectionPool(host='www.fantasycruncher.com', port=443): Max retries exceeded with url: /funcs/tournament-analyzer/get-contests.php (Caused by SSLError(SSLEOFError(8, '[SSL: UNEXPECTED_EOF_WHILE_READING] EOF occurred in violation of protocol (_ssl.c:1007)')))\n"
     ]
    },
    {
     "name": "stderr",
     "output_type": "stream",
     "text": [
      " 80%|████████  | 64/80 [04:15<01:01,  3.85s/it]"
     ]
    },
    {
     "name": "stdout",
     "output_type": "stream",
     "text": [
      "Error fetching data for 2023-03-15: HTTPSConnectionPool(host='www.fantasycruncher.com', port=443): Max retries exceeded with url: /funcs/tournament-analyzer/get-contests.php (Caused by SSLError(SSLEOFError(8, '[SSL: UNEXPECTED_EOF_WHILE_READING] EOF occurred in violation of protocol (_ssl.c:1007)')))\n"
     ]
    },
    {
     "name": "stderr",
     "output_type": "stream",
     "text": [
      " 81%|████████▏ | 65/80 [04:19<01:00,  4.01s/it]"
     ]
    },
    {
     "name": "stdout",
     "output_type": "stream",
     "text": [
      "Error fetching data for 2023-03-16: HTTPSConnectionPool(host='www.fantasycruncher.com', port=443): Max retries exceeded with url: /funcs/tournament-analyzer/get-contests.php (Caused by SSLError(SSLEOFError(8, '[SSL: UNEXPECTED_EOF_WHILE_READING] EOF occurred in violation of protocol (_ssl.c:1007)')))\n"
     ]
    },
    {
     "name": "stderr",
     "output_type": "stream",
     "text": [
      " 82%|████████▎ | 66/80 [04:24<00:58,  4.15s/it]"
     ]
    },
    {
     "name": "stdout",
     "output_type": "stream",
     "text": [
      "Error fetching data for 2023-03-17: HTTPSConnectionPool(host='www.fantasycruncher.com', port=443): Max retries exceeded with url: /funcs/tournament-analyzer/get-contests.php (Caused by SSLError(SSLEOFError(8, '[SSL: UNEXPECTED_EOF_WHILE_READING] EOF occurred in violation of protocol (_ssl.c:1007)')))\n"
     ]
    },
    {
     "name": "stderr",
     "output_type": "stream",
     "text": [
      " 84%|████████▍ | 67/80 [04:27<00:51,  3.94s/it]"
     ]
    },
    {
     "name": "stdout",
     "output_type": "stream",
     "text": [
      "Error fetching data for 2023-03-18: HTTPSConnectionPool(host='www.fantasycruncher.com', port=443): Max retries exceeded with url: /funcs/tournament-analyzer/get-contests.php (Caused by SSLError(SSLEOFError(8, '[SSL: UNEXPECTED_EOF_WHILE_READING] EOF occurred in violation of protocol (_ssl.c:1007)')))\n"
     ]
    },
    {
     "name": "stderr",
     "output_type": "stream",
     "text": [
      " 85%|████████▌ | 68/80 [04:32<00:49,  4.09s/it]"
     ]
    },
    {
     "name": "stdout",
     "output_type": "stream",
     "text": [
      "Error fetching data for 2023-03-19: HTTPSConnectionPool(host='www.fantasycruncher.com', port=443): Max retries exceeded with url: /funcs/tournament-analyzer/get-contests.php (Caused by SSLError(SSLEOFError(8, '[SSL: UNEXPECTED_EOF_WHILE_READING] EOF occurred in violation of protocol (_ssl.c:1007)')))\n"
     ]
    },
    {
     "name": "stderr",
     "output_type": "stream",
     "text": [
      " 86%|████████▋ | 69/80 [04:35<00:42,  3.89s/it]"
     ]
    },
    {
     "name": "stdout",
     "output_type": "stream",
     "text": [
      "Error fetching data for 2023-03-20: HTTPSConnectionPool(host='www.fantasycruncher.com', port=443): Max retries exceeded with url: /funcs/tournament-analyzer/get-contests.php (Caused by SSLError(SSLEOFError(8, '[SSL: UNEXPECTED_EOF_WHILE_READING] EOF occurred in violation of protocol (_ssl.c:1007)')))\n"
     ]
    },
    {
     "name": "stderr",
     "output_type": "stream",
     "text": [
      " 88%|████████▊ | 70/80 [04:40<00:40,  4.06s/it]"
     ]
    },
    {
     "name": "stdout",
     "output_type": "stream",
     "text": [
      "Error fetching data for 2023-03-21: HTTPSConnectionPool(host='www.fantasycruncher.com', port=443): Max retries exceeded with url: /funcs/tournament-analyzer/get-contests.php (Caused by SSLError(SSLEOFError(8, '[SSL: UNEXPECTED_EOF_WHILE_READING] EOF occurred in violation of protocol (_ssl.c:1007)')))\n"
     ]
    },
    {
     "name": "stderr",
     "output_type": "stream",
     "text": [
      " 89%|████████▉ | 71/80 [04:43<00:34,  3.87s/it]"
     ]
    },
    {
     "name": "stdout",
     "output_type": "stream",
     "text": [
      "Error fetching data for 2023-03-22: HTTPSConnectionPool(host='www.fantasycruncher.com', port=443): Max retries exceeded with url: /funcs/tournament-analyzer/get-contests.php (Caused by SSLError(SSLEOFError(8, '[SSL: UNEXPECTED_EOF_WHILE_READING] EOF occurred in violation of protocol (_ssl.c:1007)')))\n"
     ]
    },
    {
     "name": "stderr",
     "output_type": "stream",
     "text": [
      " 90%|█████████ | 72/80 [04:47<00:32,  4.04s/it]"
     ]
    },
    {
     "name": "stdout",
     "output_type": "stream",
     "text": [
      "Error fetching data for 2023-03-23: HTTPSConnectionPool(host='www.fantasycruncher.com', port=443): Max retries exceeded with url: /funcs/tournament-analyzer/get-contests.php (Caused by SSLError(SSLEOFError(8, '[SSL: UNEXPECTED_EOF_WHILE_READING] EOF occurred in violation of protocol (_ssl.c:1007)')))\n"
     ]
    },
    {
     "name": "stderr",
     "output_type": "stream",
     "text": [
      " 91%|█████████▏| 73/80 [04:52<00:28,  4.14s/it]"
     ]
    },
    {
     "name": "stdout",
     "output_type": "stream",
     "text": [
      "Error fetching data for 2023-03-24: HTTPSConnectionPool(host='www.fantasycruncher.com', port=443): Max retries exceeded with url: /funcs/tournament-analyzer/get-contests.php (Caused by SSLError(SSLEOFError(8, '[SSL: UNEXPECTED_EOF_WHILE_READING] EOF occurred in violation of protocol (_ssl.c:1007)')))\n"
     ]
    },
    {
     "name": "stderr",
     "output_type": "stream",
     "text": [
      " 92%|█████████▎| 74/80 [04:55<00:23,  3.95s/it]"
     ]
    },
    {
     "name": "stdout",
     "output_type": "stream",
     "text": [
      "Error fetching data for 2023-03-25: HTTPSConnectionPool(host='www.fantasycruncher.com', port=443): Max retries exceeded with url: /funcs/tournament-analyzer/get-contests.php (Caused by SSLError(SSLEOFError(8, '[SSL: UNEXPECTED_EOF_WHILE_READING] EOF occurred in violation of protocol (_ssl.c:1007)')))\n"
     ]
    },
    {
     "name": "stderr",
     "output_type": "stream",
     "text": [
      " 94%|█████████▍| 75/80 [05:00<00:20,  4.10s/it]"
     ]
    },
    {
     "name": "stdout",
     "output_type": "stream",
     "text": [
      "Error fetching data for 2023-03-26: HTTPSConnectionPool(host='www.fantasycruncher.com', port=443): Max retries exceeded with url: /funcs/tournament-analyzer/get-contests.php (Caused by SSLError(SSLEOFError(8, '[SSL: UNEXPECTED_EOF_WHILE_READING] EOF occurred in violation of protocol (_ssl.c:1007)')))\n"
     ]
    },
    {
     "name": "stderr",
     "output_type": "stream",
     "text": [
      " 95%|█████████▌| 76/80 [05:03<00:15,  3.89s/it]"
     ]
    },
    {
     "name": "stdout",
     "output_type": "stream",
     "text": [
      "Error fetching data for 2023-03-27: HTTPSConnectionPool(host='www.fantasycruncher.com', port=443): Max retries exceeded with url: /funcs/tournament-analyzer/get-contests.php (Caused by SSLError(SSLEOFError(8, '[SSL: UNEXPECTED_EOF_WHILE_READING] EOF occurred in violation of protocol (_ssl.c:1007)')))\n"
     ]
    },
    {
     "name": "stderr",
     "output_type": "stream",
     "text": [
      " 96%|█████████▋| 77/80 [05:08<00:12,  4.06s/it]"
     ]
    },
    {
     "name": "stdout",
     "output_type": "stream",
     "text": [
      "Error fetching data for 2023-03-28: HTTPSConnectionPool(host='www.fantasycruncher.com', port=443): Max retries exceeded with url: /funcs/tournament-analyzer/get-contests.php (Caused by SSLError(SSLEOFError(8, '[SSL: UNEXPECTED_EOF_WHILE_READING] EOF occurred in violation of protocol (_ssl.c:1007)')))\n"
     ]
    },
    {
     "name": "stderr",
     "output_type": "stream",
     "text": [
      " 98%|█████████▊| 78/80 [05:11<00:07,  3.86s/it]"
     ]
    },
    {
     "name": "stdout",
     "output_type": "stream",
     "text": [
      "Error fetching data for 2023-03-29: HTTPSConnectionPool(host='www.fantasycruncher.com', port=443): Max retries exceeded with url: /funcs/tournament-analyzer/get-contests.php (Caused by SSLError(SSLEOFError(8, '[SSL: UNEXPECTED_EOF_WHILE_READING] EOF occurred in violation of protocol (_ssl.c:1007)')))\n"
     ]
    },
    {
     "name": "stderr",
     "output_type": "stream",
     "text": [
      " 99%|█████████▉| 79/80 [05:16<00:04,  4.04s/it]"
     ]
    },
    {
     "name": "stdout",
     "output_type": "stream",
     "text": [
      "Error fetching data for 2023-03-30: HTTPSConnectionPool(host='www.fantasycruncher.com', port=443): Max retries exceeded with url: /funcs/tournament-analyzer/get-contests.php (Caused by SSLError(SSLEOFError(8, '[SSL: UNEXPECTED_EOF_WHILE_READING] EOF occurred in violation of protocol (_ssl.c:1007)')))\n"
     ]
    },
    {
     "name": "stderr",
     "output_type": "stream",
     "text": [
      "100%|██████████| 80/80 [05:19<00:00,  3.99s/it]"
     ]
    },
    {
     "name": "stdout",
     "output_type": "stream",
     "text": [
      "Error fetching data for 2023-03-31: HTTPSConnectionPool(host='www.fantasycruncher.com', port=443): Max retries exceeded with url: /funcs/tournament-analyzer/get-contests.php (Caused by SSLError(SSLEOFError(8, '[SSL: UNEXPECTED_EOF_WHILE_READING] EOF occurred in violation of protocol (_ssl.c:1007)')))\n"
     ]
    },
    {
     "name": "stderr",
     "output_type": "stream",
     "text": [
      "\n"
     ]
    },
    {
     "ename": "KeyError",
     "evalue": "'DateTime'",
     "output_type": "error",
     "traceback": [
      "\u001B[0;31m---------------------------------------------------------------------------\u001B[0m",
      "\u001B[0;31mKeyError\u001B[0m                                  Traceback (most recent call last)",
      "Input \u001B[0;32mIn [4]\u001B[0m, in \u001B[0;36m<cell line: 52>\u001B[0;34m()\u001B[0m\n\u001B[1;32m     49\u001B[0m         \u001B[38;5;28mprint\u001B[39m(\u001B[38;5;124mf\u001B[39m\u001B[38;5;124m\"\u001B[39m\u001B[38;5;124mError processing data for \u001B[39m\u001B[38;5;132;01m{\u001B[39;00mx\u001B[38;5;132;01m}\u001B[39;00m\u001B[38;5;124m: \u001B[39m\u001B[38;5;132;01m{\u001B[39;00me\u001B[38;5;132;01m}\u001B[39;00m\u001B[38;5;124m\"\u001B[39m)\n\u001B[1;32m     51\u001B[0m \u001B[38;5;66;03m# Add a date column\u001B[39;00m\n\u001B[0;32m---> 52\u001B[0m dfs_contests_df[\u001B[38;5;124m'\u001B[39m\u001B[38;5;124mdate\u001B[39m\u001B[38;5;124m'\u001B[39m] \u001B[38;5;241m=\u001B[39m pd\u001B[38;5;241m.\u001B[39mto_datetime(\u001B[43mdfs_contests_df\u001B[49m\u001B[43m[\u001B[49m\u001B[38;5;124;43m'\u001B[39;49m\u001B[38;5;124;43mDateTime\u001B[39;49m\u001B[38;5;124;43m'\u001B[39;49m\u001B[43m]\u001B[49m)\u001B[38;5;241m.\u001B[39mdt\u001B[38;5;241m.\u001B[39mdate\n\u001B[1;32m     54\u001B[0m \u001B[38;5;66;03m# Sort the dataframe by date and site\u001B[39;00m\n\u001B[1;32m     55\u001B[0m dfs_contests_df \u001B[38;5;241m=\u001B[39m dfs_contests_df\u001B[38;5;241m.\u001B[39msort_values([\u001B[38;5;124m'\u001B[39m\u001B[38;5;124mdate\u001B[39m\u001B[38;5;124m'\u001B[39m, \u001B[38;5;124m'\u001B[39m\u001B[38;5;124msite\u001B[39m\u001B[38;5;124m'\u001B[39m])\n",
      "File \u001B[0;32m~/.local/lib/python3.10/site-packages/pandas/core/frame.py:4102\u001B[0m, in \u001B[0;36mDataFrame.__getitem__\u001B[0;34m(self, key)\u001B[0m\n\u001B[1;32m   4100\u001B[0m \u001B[38;5;28;01mif\u001B[39;00m \u001B[38;5;28mself\u001B[39m\u001B[38;5;241m.\u001B[39mcolumns\u001B[38;5;241m.\u001B[39mnlevels \u001B[38;5;241m>\u001B[39m \u001B[38;5;241m1\u001B[39m:\n\u001B[1;32m   4101\u001B[0m     \u001B[38;5;28;01mreturn\u001B[39;00m \u001B[38;5;28mself\u001B[39m\u001B[38;5;241m.\u001B[39m_getitem_multilevel(key)\n\u001B[0;32m-> 4102\u001B[0m indexer \u001B[38;5;241m=\u001B[39m \u001B[38;5;28;43mself\u001B[39;49m\u001B[38;5;241;43m.\u001B[39;49m\u001B[43mcolumns\u001B[49m\u001B[38;5;241;43m.\u001B[39;49m\u001B[43mget_loc\u001B[49m\u001B[43m(\u001B[49m\u001B[43mkey\u001B[49m\u001B[43m)\u001B[49m\n\u001B[1;32m   4103\u001B[0m \u001B[38;5;28;01mif\u001B[39;00m is_integer(indexer):\n\u001B[1;32m   4104\u001B[0m     indexer \u001B[38;5;241m=\u001B[39m [indexer]\n",
      "File \u001B[0;32m~/.local/lib/python3.10/site-packages/pandas/core/indexes/range.py:417\u001B[0m, in \u001B[0;36mRangeIndex.get_loc\u001B[0;34m(self, key)\u001B[0m\n\u001B[1;32m    415\u001B[0m         \u001B[38;5;28;01mraise\u001B[39;00m \u001B[38;5;167;01mKeyError\u001B[39;00m(key) \u001B[38;5;28;01mfrom\u001B[39;00m \u001B[38;5;21;01merr\u001B[39;00m\n\u001B[1;32m    416\u001B[0m \u001B[38;5;28;01mif\u001B[39;00m \u001B[38;5;28misinstance\u001B[39m(key, Hashable):\n\u001B[0;32m--> 417\u001B[0m     \u001B[38;5;28;01mraise\u001B[39;00m \u001B[38;5;167;01mKeyError\u001B[39;00m(key)\n\u001B[1;32m    418\u001B[0m \u001B[38;5;28mself\u001B[39m\u001B[38;5;241m.\u001B[39m_check_indexing_error(key)\n\u001B[1;32m    419\u001B[0m \u001B[38;5;28;01mraise\u001B[39;00m \u001B[38;5;167;01mKeyError\u001B[39;00m(key)\n",
      "\u001B[0;31mKeyError\u001B[0m: 'DateTime'"
     ]
    }
   ],
   "source": [
    "\n",
    "# Contest Scrape Filters\n",
    "min_buyin = 1\n",
    "max_buyin = 1000\n",
    "min_entrants = 500\n",
    "min_prizepool = 10000\n",
    "\n",
    "nba_season = '2022-23'\n",
    "start_date = datetime.strptime('2023-01-11', '%Y-%m-%d')\n",
    "end_date = datetime.strptime('2023-03-31', '%Y-%m-%d')\n",
    "\n",
    "today = date.today()\n",
    "\n",
    "dates = []\n",
    "for dt in rrule.rrule(rrule.DAILY, dtstart=start_date, until=end_date):\n",
    "    dates.append(dt.date().strftime('%Y-%m-%d'))\n",
    "\n",
    "dfs_contests_df = pd.DataFrame()\n",
    "\n",
    "for x in tqdm(dates):\n",
    "    url = \"https://www.fantasycruncher.com/funcs/tournament-analyzer/get-contests.php\"\n",
    "\n",
    "    data = {\n",
    "        \"sites[]\": \"fanduel\",\n",
    "        \"leagues[]\": \"NBA\",\n",
    "        \"periods[]\": x,\n",
    "    }\n",
    "\n",
    "    try:\n",
    "        response = requests.post(url, data=data)\n",
    "        response.raise_for_status()  # Raise an exception for bad status codes\n",
    "        data = response.json()\n",
    "\n",
    "        df = pd.json_normalize(data)\n",
    "        df = df[df.Title == 'Main']\n",
    "        df = df[\n",
    "            (df.cost >= min_buyin) &\n",
    "            (df.cost <= max_buyin) &\n",
    "            (df.max_entrants >= min_entrants) &\n",
    "            (df.prizepool >= min_prizepool)\n",
    "        ]\n",
    "        df = df.sort_values('prizepool', ascending=False)\n",
    "\n",
    "        if not df.empty:\n",
    "            dfs_contests_df = pd.concat([dfs_contests_df, df], ignore_index=True)\n",
    "\n",
    "    except requests.RequestException as e:\n",
    "        print(f\"Error fetching data for {x}: {e}\")\n",
    "    except Exception as e:\n",
    "        print(f\"Error processing data for {x}: {e}\")\n",
    "\n",
    "# Add a date column\n",
    "dfs_contests_df['date'] = pd.to_datetime(dfs_contests_df['DateTime']).dt.date\n",
    "\n",
    "# Sort the dataframe by date and site\n",
    "dfs_contests_df = dfs_contests_df.sort_values(['date', 'site'])\n",
    "\n",
    "# Save to CSV\n",
    "dfs_contests_df.to_csv(f'data/contest_data/dfs_contests_{nba_season}_Jan-Mar.csv', index=False)\n",
    "\n",
    "# print(f\"Scraped {len(dfs_contests_df)} contests.\")\n",
    "print(dfs_contests_df['site'].value_counts())"
   ],
   "metadata": {
    "collapsed": false
   }
  },
  {
   "cell_type": "code",
   "execution_count": 5,
   "outputs": [
    {
     "name": "stderr",
     "output_type": "stream",
     "text": [
      " 78%|███████▊  | 136/174 [18:49<1:35:55, 151.47s/it]"
     ]
    },
    {
     "name": "stdout",
     "output_type": "stream",
     "text": [
      "Error fetching data: HTTPSConnectionPool(host='www.fantasycruncher.com', port=443): Max retries exceeded with url: /funcs/tournament-analyzer/get-contests.php (Caused by ConnectTimeoutError(<urllib3.connection.HTTPSConnection object at 0x13b390340>, 'Connection to www.fantasycruncher.com timed out. (connect timeout=None)'))\n"
     ]
    },
    {
     "name": "stderr",
     "output_type": "stream",
     "text": [
      "100%|██████████| 174/174 [41:37<00:00, 14.36s/it]   "
     ]
    },
    {
     "name": "stdout",
     "output_type": "stream",
     "text": [
      "Scraped 838 contests for fanduel.\n",
      "No data scraped for draftkings.\n",
      "No data scraped for yahoo.\n",
      "Scraping completed.\n"
     ]
    },
    {
     "name": "stderr",
     "output_type": "stream",
     "text": [
      "\n"
     ]
    }
   ],
   "source": [
    "\n",
    "# Contest Scrape Filters\n",
    "min_buyin = 1\n",
    "max_buyin = 1000\n",
    "min_entrants = 500\n",
    "min_prizepool = 10000\n",
    "\n",
    "nba_season = '2022-23'\n",
    "start_date = datetime.strptime('2022-10-18', '%Y-%m-%d')\n",
    "end_date = datetime.strptime('2023-04-09', '%Y-%m-%d')\n",
    "\n",
    "dates = []\n",
    "for dt in rrule.rrule(rrule.DAILY, dtstart=start_date, until=end_date):\n",
    "    dates.append(dt.date().strftime('%Y-%m-%d'))\n",
    "\n",
    "dfs_contests_df = {site: pd.DataFrame() for site in [\"fanduel\", \"draftkings\", \"yahoo\"]}\n",
    "\n",
    "def fetch_data(url, data):\n",
    "    max_retries = 3\n",
    "    for _ in range(max_retries):\n",
    "        try:\n",
    "            response = requests.post(url, data=data)\n",
    "            response.raise_for_status()\n",
    "            return response.json()\n",
    "        except requests.RequestException as e:\n",
    "            print(f\"Error fetching data: {e}\")\n",
    "            time.sleep(5)  # Wait for 5 seconds before retrying\n",
    "    return None\n",
    "\n",
    "for x in tqdm(dates):\n",
    "    url = \"https://www.fantasycruncher.com/funcs/tournament-analyzer/get-contests.php\"\n",
    "\n",
    "    for site in [\"fanduel\", \"draftkings\", \"yahoo\"]:\n",
    "        data = {\n",
    "            \"sites[]\": [site],\n",
    "            \"leagues[]\": \"NBA\",\n",
    "            \"periods[]\": x,\n",
    "        }\n",
    "\n",
    "        json_data = fetch_data(url, data)\n",
    "\n",
    "        if json_data:\n",
    "            df = pd.json_normalize(json_data)\n",
    "            if not df.empty:\n",
    "                df = df[df.Title == 'Main']\n",
    "                df = df[\n",
    "                    (df.cost >= min_buyin) &\n",
    "                    (df.cost <= max_buyin) &\n",
    "                    (df.max_entrants >= min_entrants) &\n",
    "                    (df.prizepool >= min_prizepool)\n",
    "                ]\n",
    "                df = df.sort_values('prizepool', ascending=False)\n",
    "\n",
    "                if not df.empty:\n",
    "                    dfs_contests_df[site] = pd.concat([dfs_contests_df[site], df], ignore_index=True)\n",
    "\n",
    "        time.sleep(1)  # Add a 1-second delay between requests\n",
    "\n",
    "# Process and save data for each site\n",
    "for site, df in dfs_contests_df.items():\n",
    "    if not df.empty:\n",
    "        df['date'] = pd.to_datetime(df['DateTime']).dt.date\n",
    "        df = df.sort_values(['date', 'site'])\n",
    "        df.to_csv(f'dfs_contests_{nba_season}_{site}.csv', index=False)\n",
    "        print(f\"Scraped {len(df)} contests for {site}.\")\n",
    "    else:\n",
    "        print(f\"No data scraped for {site}.\")\n",
    "\n",
    "print(\"Scraping completed.\")"
   ],
   "metadata": {
    "collapsed": false
   }
  },
  {
   "cell_type": "markdown",
   "source": [
    "## Contests Season Dates:"
   ],
   "metadata": {
    "collapsed": false
   }
  },
  {
   "cell_type": "code",
   "execution_count": null,
   "outputs": [],
   "source": [
    "nba_season = '2016-17'\n",
    "start_date = datetime.strptime('2016-10-25', '%Y-%m-%d')\n",
    "end_date = datetime.strptime('2017-04-12', '%Y-%m-%d')\n",
    "\n",
    "nba_season = '2017-18'\n",
    "start_date = datetime.strptime('2017-10-17', '%Y-%m-%d')\n",
    "end_date = datetime.strptime('2018-04-11', '%Y-%m-%d')\n",
    "\n",
    "nba_season = '2018-19'\n",
    "start_date = datetime.strptime('2018-10-16', '%Y-%m-%d')\n",
    "end_date = datetime.strptime('2019-04-10', '%Y-%m-%d')\n",
    "\n",
    "nba_season = '2019-20'\n",
    "start_date = datetime.strptime('2019-10-22', '%Y-%m-%d')\n",
    "end_date = datetime.strptime('2020-08-14', '%Y-%m-%d')\n",
    "\n",
    "nba_season = '2020-21'\n",
    "start_date = datetime.strptime('2020-12-22', '%Y-%m-%d')\n",
    "end_date = datetime.strptime('2021-05-16', '%Y-%m-%d')\n",
    "\n",
    "nba_season = '2021-22'\n",
    "start_date = datetime.strptime('2021-10-19', '%Y-%m-%d')\n",
    "end_date = datetime.strptime('2022-04-10', '%Y-%m-%d')\n",
    "\n",
    "nba_season = '2022-23'\n",
    "start_date = datetime.strptime('2022-10-18', '%Y-%m-%d')\n",
    "end_date = datetime.strptime('2023-04-09', '%Y-%m-%d')\n",
    "\n",
    "nba_season = '2023-24'\n",
    "start_date = datetime.strptime('2023-10-24', '%Y-%m-%d')\n",
    "end_date = datetime.strptime('2024-04-14', '%Y-%m-%d')"
   ],
   "metadata": {
    "collapsed": false
   }
  },
  {
   "cell_type": "markdown",
   "source": [
    "# Other data pulls"
   ],
   "metadata": {
    "collapsed": false
   }
  },
  {
   "cell_type": "markdown",
   "source": [
    "## Games"
   ],
   "metadata": {
    "collapsed": false
   }
  },
  {
   "cell_type": "code",
   "execution_count": 8,
   "outputs": [
    {
     "name": "stdout",
     "output_type": "stream",
     "text": [
      "2788 games loaded for season 2019\n",
      "2785 games loaded for season 2018\n",
      "2829 games loaded for season 2017\n",
      "2856 games loaded for season 2016\n",
      "2864 games loaded for season 2015\n",
      "COMPLETE: Games Loaded\n"
     ]
    }
   ],
   "source": [
    "#### Get the game data\n",
    "### This needs to be run for the current season at the conclusion of every set of games\n",
    "if get_new_games:\n",
    "    # Initialise empty array to hold the new games\n",
    "    games = []\n",
    "    # Iterate through the seasons and save each season to a csv\n",
    "    for n in range(0, number_of_seasons):\n",
    "        season_name = f\"20{latest_season-(n+1)}-{latest_season-n}\"\n",
    "        gamefinder = leaguegamefinder.LeagueGameFinder(season_nullable=season_name, league_id_nullable='00')\n",
    "        game_df = gamefinder.get_data_frames()\n",
    "        games.append(game_df[0])\n",
    "        game_df[0].to_csv(f\"games_20{latest_season-n}.csv\")\n",
    "        print(f\"{len(game_df[0])} games loaded for 20{latest_season-n} season\")\n",
    "    # print(\"COMPLETE: Games Loaded\")\n"
   ],
   "metadata": {
    "collapsed": false
   }
  },
  {
   "cell_type": "markdown",
   "source": [
    "## Play-by-Play"
   ],
   "metadata": {
    "collapsed": false
   }
  },
  {
   "cell_type": "code",
   "execution_count": null,
   "outputs": [],
   "source": [
    "#### Get the play by play data\n",
    "###  Pulls a play by play account of individual games\n",
    "### This needs to be run when new games are pulled through in above\n",
    "#### YAFO NOTE 5.Jul.2024 - not touching play-by-play data yet\n",
    "\n",
    "# from nba_api.stats.endpoints import playbyplay\n",
    "#\n",
    "# all_pbp = pd.DataFrame()\n",
    "#\n",
    "# if get_new_pbp:\n",
    "#     # Iterate through the seasons and save each season to a csv\n",
    "#     for n in range(0, number_of_seasons):\n",
    "#         # Load the csv containing the games\n",
    "#         games_file = Path(f\"Data/Games/games_20{latest_season-n}.csv\")\n",
    "#         if games_file.is_file():\n",
    "#             games_df = pd.read_csv(games_file, index_col=None, header=0, low_memory=False)\n",
    "#             # get the list of unique game ids for season\n",
    "#             unique_game_ids = games_df['GAME_ID'].unique()\n",
    "#             # initiate an empty array and dataframe\n",
    "#             play_by_play = []\n",
    "#             existing_pbp = pd.DataFrame()\n",
    "#             # Check if a file already exists for the season(s) being searched for\n",
    "#             season_file = Path(f\"Data/PBP/play_by_play_20{latest_season-n}.csv\")\n",
    "#             if season_file.is_file():\n",
    "#                 existing_pbp = pd.read_csv(season_file, index_col=None, header=0, low_memory=False)\n",
    "#                 # Do a set difference to get a list of game ids that do not already exist\n",
    "#                 unique_game_ids = np.setdiff1d(unique_game_ids, existing_pbp['GAME_ID'].unique())\n",
    "#             # Check if there are any new games\n",
    "#             if len(unique_game_ids) > 0:\n",
    "#                 # Iterate through each unique game id to get the play by play data\n",
    "#                 for g_id in unique_game_ids:\n",
    "#                     # throttles requests to prevent api from blocking them\n",
    "#                     time.sleep(.600)\n",
    "#                     # make the request (the request expects a string which is padded with 2 00's)\n",
    "#                     game_id_padded = f\"00{g_id}\"\n",
    "#                     game_df = playbyplay.PlayByPlay(game_id_padded, timeout=1000).get_data_frames()[0]\n",
    "#                     play_by_play.append(game_df)\n",
    "#                 # Concatenate all the returned entries\n",
    "#                 all_pbp = pd.concat(play_by_play, axis=0, ignore_index=True)\n",
    "#                 # If there is an existing file, concatenate with those entries\n",
    "#                 if season_file.is_file():\n",
    "#                     all_pbp = pd.concat([all_pbp, existing_pbp], axis=0, ignore_index=True)\n",
    "#                 all_pbp = all_pbp.drop(\"Unnamed: 0\", axis=1)\n",
    "#                 all_pbp.to_csv(f\"Data/PBP/play_by_play_20{latest_season-n}.csv\")\n",
    "#                 print(f\"{len(unique_game_ids)} games loaded for 20{latest_season-n}\")\n",
    "#                 print(f\"{len(all_pbp)} plays in total for 20{latest_season-n}\")\n",
    "#             else:\n",
    "#                 print(f\"All play by plays loaded for games in 20{latest_season-n}\")\n",
    "#         else:\n",
    "#             print(f\"ERROR: No games found for season 20{latest_season-n}\")\n",
    "#     print(\"COMPLETE: Play by play loaded\")\n",
    "# else:\n",
    "#     print(\"Play by Play not requested (as per configuration)\")"
   ],
   "metadata": {
    "collapsed": false
   }
  },
  {
   "cell_type": "markdown",
   "source": [
    "## Rosters"
   ],
   "metadata": {
    "collapsed": false
   }
  },
  {
   "cell_type": "code",
   "execution_count": null,
   "outputs": [],
   "source": [
    "#### Get the rosters\n",
    "### Retrieves the player rosters for teams\n",
    "### Does not need to be run often\n",
    "#\n",
    "# from nba_api.stats.static import teams\n",
    "# from nba_api.stats.endpoints import commonteamroster\n",
    "#\n",
    "# if get_new_rosters:\n",
    "#     # Get the team ids\n",
    "#     nba_teams = teams.get_teams()\n",
    "#     nba_team_ids = [team['id'] for team in nba_teams]\n",
    "#     # Iterate through the required seasons and teams to get the rosters, save each season to a csv\n",
    "#     for n in range(0, number_of_seasons):\n",
    "#         season_name = f\"20{latest_season-(n+1)}-{latest_season-n}\"\n",
    "#         rosters = []\n",
    "#         for team in nba_team_ids:\n",
    "#             # throttles requests to prevent api from blocking them\n",
    "#             time.sleep(.600)\n",
    "#             roster = commonteamroster.CommonTeamRoster(team_id=team, season=season_name, timeout=1000).get_data_frames()[0]\n",
    "#             rosters.append(roster)\n",
    "#         # concatenate all the returned entries and save to csv\n",
    "#         season_rosters = pd.concat(rosters, axis=0, ignore_index=True)\n",
    "#         season_rosters.to_csv(f\"Data/Rosters/rosters_20{latest_season-n}.csv\")\n",
    "#         print(f\"All rosters loaded for 20{latest_season-n}\")\n",
    "#     print(\"COMPLETE: Rosters loaded\")\n",
    "# else:\n",
    "#     print(\"Rosters not requested (as per configuration)\")"
   ],
   "metadata": {
    "collapsed": false
   }
  },
  {
   "cell_type": "markdown",
   "source": [
    "## Shot Charts"
   ],
   "metadata": {
    "collapsed": false
   }
  },
  {
   "cell_type": "code",
   "execution_count": null,
   "outputs": [],
   "source": [
    "#### Get the shot charts\n",
    "### Retrieves shot chart based on team and player (mandatory inputs)\n",
    "# from nba_api.stats.endpoints import shotchartdetail\n",
    "#\n",
    "# if get_new_shotcharts:\n",
    "#     for n in range(0, number_of_seasons):\n",
    "#         # Load the csv containing the rosters\n",
    "#         rosters_file = Path(f\"Data/Rosters/rosters_20{latest_season-n}.csv\")\n",
    "#         if rosters_file.is_file():\n",
    "#             rosters_df = pd.read_csv(rosters_file, index_col=None, header=0, low_memory=False)\n",
    "#             shotcharts = []\n",
    "#             # Iterate through the players and teams to get shot charts\n",
    "#             # *may end up with duplicate shot charts where a player is at the same team more than one season\n",
    "#             for row in rosters_df.itertuples():\n",
    "#                 player_id = row.PLAYER_ID\n",
    "#                 team_id = row.TeamID\n",
    "#                 # throttles requests to prevent api from blocking them\n",
    "#                 time.sleep(.600)\n",
    "#                 # requests shotchartdetail for player and team team with context field goals attempted (FGA)\n",
    "#                 sc_df = shotchartdetail.ShotChartDetail(player_id=player_id, team_id=team_id, context_measure_simple='FGA').get_data_frames()[0]\n",
    "#                 shotcharts.append(sc_df)\n",
    "#             # concatenate the results together and save to csv\n",
    "#             season_shotchart = pd.concat(shotcharts, axis=0, ignore_index=True)\n",
    "#             season_shotchart.to_csv(f\"Data/ShotCharts/shotchart_20{latest_season-n}.csv\")\n",
    "#             print(f\"Shotcharts obtained for 20{latest_season-n}\")\n",
    "#         else:\n",
    "#             print(f\"ERROR: No roster file found for 20{latest_season-n}\")\n",
    "#     print(\"COMPLETE: Shotcharts obtained\")\n",
    "# else:\n",
    "#     print(\"Shotcharts not requested (as per configuration)\")"
   ],
   "metadata": {
    "collapsed": false
   }
  }
 ]
}
