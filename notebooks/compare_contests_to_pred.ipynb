{
 "cells": [
  {
   "cell_type": "code",
   "id": "initial_id",
   "metadata": {
    "collapsed": true,
    "ExecuteTime": {
     "end_time": "2025-02-05T14:18:40.598716Z",
     "start_time": "2025-02-05T14:18:40.580992Z"
    }
   },
   "source": [
    "import numpy as np\n",
    "import pandas as pd\n",
    "import seaborn as sns\n",
    "import matplotlib.pyplot as plt"
   ],
   "outputs": [],
   "execution_count": 91
  },
  {
   "metadata": {},
   "cell_type": "markdown",
   "source": "# Load the data",
   "id": "f112548721067a9c"
  },
  {
   "metadata": {
    "ExecuteTime": {
     "end_time": "2025-02-05T14:18:41.114755Z",
     "start_time": "2025-02-05T14:18:40.819433Z"
    }
   },
   "cell_type": "code",
   "source": [
    "contests_path = \"../data/contests_data/fanduel_nba_contests.csv\"  # Adjust path based on your working directory\n",
    "contests_df = pd.read_csv(contests_path)"
   ],
   "id": "3a544b09577d27ca",
   "outputs": [],
   "execution_count": 92
  },
  {
   "metadata": {
    "ExecuteTime": {
     "end_time": "2025-02-05T14:18:41.130472Z",
     "start_time": "2025-02-05T14:18:41.121524Z"
    }
   },
   "cell_type": "code",
   "source": [
    "pred_path = \"../output_csv/final_lineup.csv\"\n",
    "pred_df = pd.read_csv(pred_path)"
   ],
   "id": "db2140d7709c1e92",
   "outputs": [],
   "execution_count": 93
  },
  {
   "metadata": {
    "ExecuteTime": {
     "end_time": "2025-02-05T14:18:41.192880Z",
     "start_time": "2025-02-05T14:18:41.161199Z"
    }
   },
   "cell_type": "code",
   "source": "pred_df.head()",
   "id": "90deaedd2e11dcf7",
   "outputs": [
    {
     "data": {
      "text/plain": [
       "         date  fanduel_player_pool_count  \\\n",
       "0  2019-11-01                        166   \n",
       "1  2019-11-02                        164   \n",
       "2  2019-11-05                        129   \n",
       "3  2019-11-06                        191   \n",
       "4  2019-11-08                        229   \n",
       "\n",
       "                                  fanduel_GT_players  \\\n",
       "0  ['Malcolm Brogdon', 'Terrence Ross', 'Kemba Wa...   \n",
       "1  ['Josh Richardson', 'Furkan Korkmaz', 'Jeff Te...   \n",
       "2  ['Daniel Theis', 'JaKarr Sampson', 'Trae Young...   \n",
       "3  ['Buddy Hield', 'Montrezl Harrell', 'Nikola Vu...   \n",
       "4  ['Taj Gibson', 'Evan Fournier', 'Kristaps Porz...   \n",
       "\n",
       "                           fanduel_predicted_players  fanduel_GT_points  \\\n",
       "0  ['Garrett Temple', 'Robin Lopez', 'Tristan Tho...              317.4   \n",
       "1  ['Eric Paschall', 'Bruce Brown', 'Torrey Craig...              360.5   \n",
       "2  ['Zach LaVine', 'Rudy Gay', 'DeMar DeRozan', '...              336.6   \n",
       "3  ['Markieff Morris', 'Pascal Siakam', 'Montrezl...              395.0   \n",
       "4  ['Caris LeVert', 'Eric Bledsoe', 'Luke Kennard...              400.3   \n",
       "\n",
       "   fanduel_predicted_points  fanduel_predicted_lineup_GT_points  \\\n",
       "0                273.986700                               289.0   \n",
       "1                292.369013                               337.4   \n",
       "2                253.446236                               282.8   \n",
       "3                291.069014                               366.2   \n",
       "4                298.630707                               304.0   \n",
       "\n",
       "   fanduel_GT_lineup_predicted_points  fanduel_GT_salary  \\\n",
       "0                          258.808281            57100.0   \n",
       "1                          308.208597            53500.0   \n",
       "2                          269.927535            57200.0   \n",
       "3                          274.757454            57800.0   \n",
       "4                          257.374601            58100.0   \n",
       "\n",
       "   fanduel_predicted_salary  fanduel_GT_duplicates  \\\n",
       "0                   59000.0                      0   \n",
       "1                   52700.0                      0   \n",
       "2                   55100.0                      0   \n",
       "3                   53400.0                      0   \n",
       "4                   51500.0                      0   \n",
       "\n",
       "   fanduel_predicted_duplicates                   fanduel_overlap_players  \\\n",
       "0                             0  ['Russell Westbrook', 'Marquese Chriss']   \n",
       "1                             1  ['Bruce Brown', 'Giannis Antetokounmpo']   \n",
       "2                             0           ['DeMar DeRozan', 'Trae Young']   \n",
       "3                             0                      ['Montrezl Harrell']   \n",
       "4                             1                          ['Luke Kennard']   \n",
       "\n",
       "   fanduel_overlap_count  fanduel_overlap_GT_points  \\\n",
       "0                      2                       78.2   \n",
       "1                      2                      118.9   \n",
       "2                      2                       98.7   \n",
       "3                      1                       62.1   \n",
       "4                      1                       42.7   \n",
       "\n",
       "   fanduel_overlap_predicted_points  \n",
       "0                         66.800542  \n",
       "1                         95.611177  \n",
       "2                         83.235892  \n",
       "3                         35.728135  \n",
       "4                         35.295896  "
      ],
      "text/html": [
       "<div>\n",
       "<style scoped>\n",
       "    .dataframe tbody tr th:only-of-type {\n",
       "        vertical-align: middle;\n",
       "    }\n",
       "\n",
       "    .dataframe tbody tr th {\n",
       "        vertical-align: top;\n",
       "    }\n",
       "\n",
       "    .dataframe thead th {\n",
       "        text-align: right;\n",
       "    }\n",
       "</style>\n",
       "<table border=\"1\" class=\"dataframe\">\n",
       "  <thead>\n",
       "    <tr style=\"text-align: right;\">\n",
       "      <th></th>\n",
       "      <th>date</th>\n",
       "      <th>fanduel_player_pool_count</th>\n",
       "      <th>fanduel_GT_players</th>\n",
       "      <th>fanduel_predicted_players</th>\n",
       "      <th>fanduel_GT_points</th>\n",
       "      <th>fanduel_predicted_points</th>\n",
       "      <th>fanduel_predicted_lineup_GT_points</th>\n",
       "      <th>fanduel_GT_lineup_predicted_points</th>\n",
       "      <th>fanduel_GT_salary</th>\n",
       "      <th>fanduel_predicted_salary</th>\n",
       "      <th>fanduel_GT_duplicates</th>\n",
       "      <th>fanduel_predicted_duplicates</th>\n",
       "      <th>fanduel_overlap_players</th>\n",
       "      <th>fanduel_overlap_count</th>\n",
       "      <th>fanduel_overlap_GT_points</th>\n",
       "      <th>fanduel_overlap_predicted_points</th>\n",
       "    </tr>\n",
       "  </thead>\n",
       "  <tbody>\n",
       "    <tr>\n",
       "      <th>0</th>\n",
       "      <td>2019-11-01</td>\n",
       "      <td>166</td>\n",
       "      <td>['Malcolm Brogdon', 'Terrence Ross', 'Kemba Wa...</td>\n",
       "      <td>['Garrett Temple', 'Robin Lopez', 'Tristan Tho...</td>\n",
       "      <td>317.4</td>\n",
       "      <td>273.986700</td>\n",
       "      <td>289.0</td>\n",
       "      <td>258.808281</td>\n",
       "      <td>57100.0</td>\n",
       "      <td>59000.0</td>\n",
       "      <td>0</td>\n",
       "      <td>0</td>\n",
       "      <td>['Russell Westbrook', 'Marquese Chriss']</td>\n",
       "      <td>2</td>\n",
       "      <td>78.2</td>\n",
       "      <td>66.800542</td>\n",
       "    </tr>\n",
       "    <tr>\n",
       "      <th>1</th>\n",
       "      <td>2019-11-02</td>\n",
       "      <td>164</td>\n",
       "      <td>['Josh Richardson', 'Furkan Korkmaz', 'Jeff Te...</td>\n",
       "      <td>['Eric Paschall', 'Bruce Brown', 'Torrey Craig...</td>\n",
       "      <td>360.5</td>\n",
       "      <td>292.369013</td>\n",
       "      <td>337.4</td>\n",
       "      <td>308.208597</td>\n",
       "      <td>53500.0</td>\n",
       "      <td>52700.0</td>\n",
       "      <td>0</td>\n",
       "      <td>1</td>\n",
       "      <td>['Bruce Brown', 'Giannis Antetokounmpo']</td>\n",
       "      <td>2</td>\n",
       "      <td>118.9</td>\n",
       "      <td>95.611177</td>\n",
       "    </tr>\n",
       "    <tr>\n",
       "      <th>2</th>\n",
       "      <td>2019-11-05</td>\n",
       "      <td>129</td>\n",
       "      <td>['Daniel Theis', 'JaKarr Sampson', 'Trae Young...</td>\n",
       "      <td>['Zach LaVine', 'Rudy Gay', 'DeMar DeRozan', '...</td>\n",
       "      <td>336.6</td>\n",
       "      <td>253.446236</td>\n",
       "      <td>282.8</td>\n",
       "      <td>269.927535</td>\n",
       "      <td>57200.0</td>\n",
       "      <td>55100.0</td>\n",
       "      <td>0</td>\n",
       "      <td>0</td>\n",
       "      <td>['DeMar DeRozan', 'Trae Young']</td>\n",
       "      <td>2</td>\n",
       "      <td>98.7</td>\n",
       "      <td>83.235892</td>\n",
       "    </tr>\n",
       "    <tr>\n",
       "      <th>3</th>\n",
       "      <td>2019-11-06</td>\n",
       "      <td>191</td>\n",
       "      <td>['Buddy Hield', 'Montrezl Harrell', 'Nikola Vu...</td>\n",
       "      <td>['Markieff Morris', 'Pascal Siakam', 'Montrezl...</td>\n",
       "      <td>395.0</td>\n",
       "      <td>291.069014</td>\n",
       "      <td>366.2</td>\n",
       "      <td>274.757454</td>\n",
       "      <td>57800.0</td>\n",
       "      <td>53400.0</td>\n",
       "      <td>0</td>\n",
       "      <td>0</td>\n",
       "      <td>['Montrezl Harrell']</td>\n",
       "      <td>1</td>\n",
       "      <td>62.1</td>\n",
       "      <td>35.728135</td>\n",
       "    </tr>\n",
       "    <tr>\n",
       "      <th>4</th>\n",
       "      <td>2019-11-08</td>\n",
       "      <td>229</td>\n",
       "      <td>['Taj Gibson', 'Evan Fournier', 'Kristaps Porz...</td>\n",
       "      <td>['Caris LeVert', 'Eric Bledsoe', 'Luke Kennard...</td>\n",
       "      <td>400.3</td>\n",
       "      <td>298.630707</td>\n",
       "      <td>304.0</td>\n",
       "      <td>257.374601</td>\n",
       "      <td>58100.0</td>\n",
       "      <td>51500.0</td>\n",
       "      <td>0</td>\n",
       "      <td>1</td>\n",
       "      <td>['Luke Kennard']</td>\n",
       "      <td>1</td>\n",
       "      <td>42.7</td>\n",
       "      <td>35.295896</td>\n",
       "    </tr>\n",
       "  </tbody>\n",
       "</table>\n",
       "</div>"
      ]
     },
     "execution_count": 94,
     "metadata": {},
     "output_type": "execute_result"
    }
   ],
   "execution_count": 94
  },
  {
   "metadata": {
    "ExecuteTime": {
     "end_time": "2025-02-05T14:18:41.313755Z",
     "start_time": "2025-02-05T14:18:41.303175Z"
    }
   },
   "cell_type": "code",
   "source": "pred_df.shape",
   "id": "ab1d7074442d2ee4",
   "outputs": [
    {
     "data": {
      "text/plain": [
       "(280, 16)"
      ]
     },
     "execution_count": 95,
     "metadata": {},
     "output_type": "execute_result"
    }
   ],
   "execution_count": 95
  },
  {
   "metadata": {
    "ExecuteTime": {
     "end_time": "2025-02-05T14:18:41.538756Z",
     "start_time": "2025-02-05T14:18:41.531683Z"
    }
   },
   "cell_type": "code",
   "source": [
    "print(pred_df['date'].min())\n",
    "print(pred_df['date'].max())"
   ],
   "id": "bd7bad4507ab5191",
   "outputs": [
    {
     "name": "stdout",
     "output_type": "stream",
     "text": [
      "2019-11-01\n",
      "2021-05-16\n"
     ]
    }
   ],
   "execution_count": 96
  },
  {
   "metadata": {},
   "cell_type": "markdown",
   "source": "## Filter contests data",
   "id": "9abd742fe3eb62c7"
  },
  {
   "metadata": {
    "ExecuteTime": {
     "end_time": "2025-02-05T14:18:41.811612Z",
     "start_time": "2025-02-05T14:18:41.762141Z"
    }
   },
   "cell_type": "code",
   "source": [
    "contests_df['period'] = pd.to_datetime(contests_df['period'])\n",
    "\n",
    "print(contests_df['period'].max())\n",
    "\n",
    "print(contests_df['period'].min())"
   ],
   "id": "cb43b0a6c3b4ebc0",
   "outputs": [
    {
     "name": "stdout",
     "output_type": "stream",
     "text": [
      "2021-12-17 00:00:00\n",
      "2017-10-17 00:00:00\n"
     ]
    }
   ],
   "execution_count": 97
  },
  {
   "metadata": {
    "ExecuteTime": {
     "end_time": "2025-02-05T14:18:41.962549Z",
     "start_time": "2025-02-05T14:18:41.939860Z"
    }
   },
   "cell_type": "code",
   "source": "contests_dff = contests_df[contests_df['period'].isin(pred_df['date'].unique())]",
   "id": "ca5b8fcb5b540cb5",
   "outputs": [
    {
     "name": "stderr",
     "output_type": "stream",
     "text": [
      "/var/folders/0x/w7cw7fzn00l3g7zbhq5476380000gn/T/ipykernel_13441/2031948090.py:1: FutureWarning: The behavior of 'isin' with dtype=datetime64[ns] and castable values (e.g. strings) is deprecated. In a future version, these will not be considered matching by isin. Explicitly cast to the appropriate dtype before calling isin instead.\n",
      "  contests_dff = contests_df[contests_df['period'].isin(pred_df['date'].unique())]\n"
     ]
    }
   ],
   "execution_count": 98
  },
  {
   "metadata": {
    "ExecuteTime": {
     "end_time": "2025-02-05T14:18:42.089383Z",
     "start_time": "2025-02-05T14:18:42.085987Z"
    }
   },
   "cell_type": "code",
   "source": "contests_dff.shape[0] / contests_df.shape[0]",
   "id": "d1a575e68df8a91c",
   "outputs": [
    {
     "data": {
      "text/plain": [
       "0.4495672961102978"
      ]
     },
     "execution_count": 99,
     "metadata": {},
     "output_type": "execute_result"
    }
   ],
   "execution_count": 99
  },
  {
   "metadata": {
    "ExecuteTime": {
     "end_time": "2025-02-05T14:18:42.493296Z",
     "start_time": "2025-02-05T14:18:42.458895Z"
    }
   },
   "cell_type": "code",
   "source": "contests_dff['Title'].value_counts()",
   "id": "e16adc24197e54f9",
   "outputs": [
    {
     "data": {
      "text/plain": [
       "Title\n",
       "Main                        21143\n",
       "After Hours                  6539\n",
       "Express                      2884\n",
       "Late Night                   1409\n",
       "Express II                   1031\n",
       "                            ...  \n",
       "4TH QTR ONLY (MEM @ GS)         2\n",
       "4TH QTR ONLY (NY @ SAC)         2\n",
       "NO @ PHO (2ND HALF ONLY)        1\n",
       "4TH QTR ONLY (NO @ PHO)         1\n",
       "4TH QTR ONLY (HOU @ OKC)        1\n",
       "Name: count, Length: 787, dtype: int64"
      ]
     },
     "execution_count": 100,
     "metadata": {},
     "output_type": "execute_result"
    }
   ],
   "execution_count": 100
  },
  {
   "metadata": {
    "ExecuteTime": {
     "end_time": "2025-02-05T14:18:42.585387Z",
     "start_time": "2025-02-05T14:18:42.560981Z"
    }
   },
   "cell_type": "code",
   "source": [
    "contests_dff = contests_dff[contests_dff['Title'].isin(['Main', 'After Hours', 'Express'])]\n",
    "\n",
    "print(contests_dff.shape[0] / contests_df.shape[0])"
   ],
   "id": "62c4298c9d758362",
   "outputs": [
    {
     "name": "stdout",
     "output_type": "stream",
     "text": [
      "0.28321257157682117\n"
     ]
    }
   ],
   "execution_count": 101
  },
  {
   "metadata": {
    "ExecuteTime": {
     "end_time": "2025-02-05T14:18:42.666785Z",
     "start_time": "2025-02-05T14:18:42.659322Z"
    }
   },
   "cell_type": "code",
   "source": "contests_dff['total_entrants'].value_counts()\n",
   "id": "4eae521ef472701c",
   "outputs": [
    {
     "data": {
      "text/plain": [
       "total_entrants\n",
       "100       5340\n",
       "20        2261\n",
       "3         1205\n",
       "56         999\n",
       "396        884\n",
       "          ... \n",
       "17354        1\n",
       "209308       1\n",
       "111753       1\n",
       "3903         1\n",
       "885          1\n",
       "Name: count, Length: 1741, dtype: int64"
      ]
     },
     "execution_count": 102,
     "metadata": {},
     "output_type": "execute_result"
    }
   ],
   "execution_count": 102
  },
  {
   "metadata": {
    "ExecuteTime": {
     "end_time": "2025-02-05T14:18:43.419091Z",
     "start_time": "2025-02-05T14:18:43.408439Z"
    }
   },
   "cell_type": "code",
   "source": [
    "contests_dff = contests_dff[contests_dff['total_entrants'] > 50]\n",
    "\n",
    "print(contests_dff.shape[0] / contests_df.shape[0])"
   ],
   "id": "d61bf15346b58cca",
   "outputs": [
    {
     "name": "stdout",
     "output_type": "stream",
     "text": [
      "0.2077441950966403\n"
     ]
    }
   ],
   "execution_count": 103
  },
  {
   "metadata": {
    "ExecuteTime": {
     "end_time": "2025-02-05T14:18:43.622833Z",
     "start_time": "2025-02-05T14:18:43.616183Z"
    }
   },
   "cell_type": "code",
   "source": "contests_dff['cost'].value_counts()",
   "id": "92a2c9125d0f31da",
   "outputs": [
    {
     "data": {
      "text/plain": [
       "cost\n",
       "2.00       4647\n",
       "5.00       4309\n",
       "1.00       2806\n",
       "10.00      1876\n",
       "3.00       1349\n",
       "           ... \n",
       "3333.00       1\n",
       "2020.00       1\n",
       "5.25          1\n",
       "0.02          1\n",
       "20.20         1\n",
       "Name: count, Length: 63, dtype: int64"
      ]
     },
     "execution_count": 104,
     "metadata": {},
     "output_type": "execute_result"
    }
   ],
   "execution_count": 104
  },
  {
   "metadata": {
    "ExecuteTime": {
     "end_time": "2025-02-05T14:18:44.374443Z",
     "start_time": "2025-02-05T14:18:44.330686Z"
    }
   },
   "cell_type": "code",
   "source": [
    "contests_dff = contests_dff[contests_dff['cost'] >= 1]\n",
    "\n",
    "print(contests_dff.shape[0] / contests_df.shape[0])"
   ],
   "id": "96d0ce85070d6cc",
   "outputs": [
    {
     "name": "stdout",
     "output_type": "stream",
     "text": [
      "0.1948650000926561\n"
     ]
    }
   ],
   "execution_count": 105
  },
  {
   "metadata": {
    "ExecuteTime": {
     "end_time": "2025-02-05T14:18:49.505938Z",
     "start_time": "2025-02-05T14:18:49.479120Z"
    }
   },
   "cell_type": "code",
   "source": "contests_dff.head()",
   "id": "7c7dfda03834cf36",
   "outputs": [
    {
     "data": {
      "text/plain": [
       "              id     site league  slate  \\\n",
       "30909  455276327  fanduel    NBA  39998   \n",
       "30911  455277264  fanduel    NBA  40000   \n",
       "30912  454930502  fanduel    NBA  39997   \n",
       "30913  454930703  fanduel    NBA  39997   \n",
       "30914  454930668  fanduel    NBA  39997   \n",
       "\n",
       "                                           name     period  max_entries  \\\n",
       "30909                      $500 NBA Small Layup 2019-11-01            3   \n",
       "30911                      $500 NBA Small Layup 2019-11-01            3   \n",
       "30912                      $500 NBA Small Layup 2019-11-01            3   \n",
       "30913                   $300 NBA Triple Up ($2) 2019-11-01            1   \n",
       "30914  NBA Beat The Score: 300 ($3K Guaranteed) 2019-11-01            4   \n",
       "\n",
       "       max_entrants  cost  prizepool  places_paid  total_entrants  \\\n",
       "30909           119   5.0      500.0           30              98   \n",
       "30911           119   5.0      500.0           30              99   \n",
       "30912           119   5.0      500.0           30             119   \n",
       "30913           170   2.0      300.0           50             170   \n",
       "30914           141  25.0     3000.0            0             141   \n",
       "\n",
       "       winning_score  mincash_score  winning_payout  mincash_payout  \\\n",
       "30909          357.7          324.2            50.0            10.0   \n",
       "30911          291.4          260.6            50.0            10.0   \n",
       "30912          358.3          310.4            50.0            10.0   \n",
       "30913          347.2          310.1             6.0             6.0   \n",
       "30914          348.6          300.0             NaN             NaN   \n",
       "\n",
       "            DateTime        Title  game_cnt winner  \n",
       "30909  11/1/19 19:30      Express       2.0    NaN  \n",
       "30911  11/1/19 22:00  After Hours       2.0    NaN  \n",
       "30912  11/1/19 19:00         Main       8.0    NaN  \n",
       "30913  11/1/19 19:00         Main       8.0    NaN  \n",
       "30914  11/1/19 19:00         Main       8.0    NaN  "
      ],
      "text/html": [
       "<div>\n",
       "<style scoped>\n",
       "    .dataframe tbody tr th:only-of-type {\n",
       "        vertical-align: middle;\n",
       "    }\n",
       "\n",
       "    .dataframe tbody tr th {\n",
       "        vertical-align: top;\n",
       "    }\n",
       "\n",
       "    .dataframe thead th {\n",
       "        text-align: right;\n",
       "    }\n",
       "</style>\n",
       "<table border=\"1\" class=\"dataframe\">\n",
       "  <thead>\n",
       "    <tr style=\"text-align: right;\">\n",
       "      <th></th>\n",
       "      <th>id</th>\n",
       "      <th>site</th>\n",
       "      <th>league</th>\n",
       "      <th>slate</th>\n",
       "      <th>name</th>\n",
       "      <th>period</th>\n",
       "      <th>max_entries</th>\n",
       "      <th>max_entrants</th>\n",
       "      <th>cost</th>\n",
       "      <th>prizepool</th>\n",
       "      <th>places_paid</th>\n",
       "      <th>total_entrants</th>\n",
       "      <th>winning_score</th>\n",
       "      <th>mincash_score</th>\n",
       "      <th>winning_payout</th>\n",
       "      <th>mincash_payout</th>\n",
       "      <th>DateTime</th>\n",
       "      <th>Title</th>\n",
       "      <th>game_cnt</th>\n",
       "      <th>winner</th>\n",
       "    </tr>\n",
       "  </thead>\n",
       "  <tbody>\n",
       "    <tr>\n",
       "      <th>30909</th>\n",
       "      <td>455276327</td>\n",
       "      <td>fanduel</td>\n",
       "      <td>NBA</td>\n",
       "      <td>39998</td>\n",
       "      <td>$500 NBA Small Layup</td>\n",
       "      <td>2019-11-01</td>\n",
       "      <td>3</td>\n",
       "      <td>119</td>\n",
       "      <td>5.0</td>\n",
       "      <td>500.0</td>\n",
       "      <td>30</td>\n",
       "      <td>98</td>\n",
       "      <td>357.7</td>\n",
       "      <td>324.2</td>\n",
       "      <td>50.0</td>\n",
       "      <td>10.0</td>\n",
       "      <td>11/1/19 19:30</td>\n",
       "      <td>Express</td>\n",
       "      <td>2.0</td>\n",
       "      <td>NaN</td>\n",
       "    </tr>\n",
       "    <tr>\n",
       "      <th>30911</th>\n",
       "      <td>455277264</td>\n",
       "      <td>fanduel</td>\n",
       "      <td>NBA</td>\n",
       "      <td>40000</td>\n",
       "      <td>$500 NBA Small Layup</td>\n",
       "      <td>2019-11-01</td>\n",
       "      <td>3</td>\n",
       "      <td>119</td>\n",
       "      <td>5.0</td>\n",
       "      <td>500.0</td>\n",
       "      <td>30</td>\n",
       "      <td>99</td>\n",
       "      <td>291.4</td>\n",
       "      <td>260.6</td>\n",
       "      <td>50.0</td>\n",
       "      <td>10.0</td>\n",
       "      <td>11/1/19 22:00</td>\n",
       "      <td>After Hours</td>\n",
       "      <td>2.0</td>\n",
       "      <td>NaN</td>\n",
       "    </tr>\n",
       "    <tr>\n",
       "      <th>30912</th>\n",
       "      <td>454930502</td>\n",
       "      <td>fanduel</td>\n",
       "      <td>NBA</td>\n",
       "      <td>39997</td>\n",
       "      <td>$500 NBA Small Layup</td>\n",
       "      <td>2019-11-01</td>\n",
       "      <td>3</td>\n",
       "      <td>119</td>\n",
       "      <td>5.0</td>\n",
       "      <td>500.0</td>\n",
       "      <td>30</td>\n",
       "      <td>119</td>\n",
       "      <td>358.3</td>\n",
       "      <td>310.4</td>\n",
       "      <td>50.0</td>\n",
       "      <td>10.0</td>\n",
       "      <td>11/1/19 19:00</td>\n",
       "      <td>Main</td>\n",
       "      <td>8.0</td>\n",
       "      <td>NaN</td>\n",
       "    </tr>\n",
       "    <tr>\n",
       "      <th>30913</th>\n",
       "      <td>454930703</td>\n",
       "      <td>fanduel</td>\n",
       "      <td>NBA</td>\n",
       "      <td>39997</td>\n",
       "      <td>$300 NBA Triple Up ($2)</td>\n",
       "      <td>2019-11-01</td>\n",
       "      <td>1</td>\n",
       "      <td>170</td>\n",
       "      <td>2.0</td>\n",
       "      <td>300.0</td>\n",
       "      <td>50</td>\n",
       "      <td>170</td>\n",
       "      <td>347.2</td>\n",
       "      <td>310.1</td>\n",
       "      <td>6.0</td>\n",
       "      <td>6.0</td>\n",
       "      <td>11/1/19 19:00</td>\n",
       "      <td>Main</td>\n",
       "      <td>8.0</td>\n",
       "      <td>NaN</td>\n",
       "    </tr>\n",
       "    <tr>\n",
       "      <th>30914</th>\n",
       "      <td>454930668</td>\n",
       "      <td>fanduel</td>\n",
       "      <td>NBA</td>\n",
       "      <td>39997</td>\n",
       "      <td>NBA Beat The Score: 300 ($3K Guaranteed)</td>\n",
       "      <td>2019-11-01</td>\n",
       "      <td>4</td>\n",
       "      <td>141</td>\n",
       "      <td>25.0</td>\n",
       "      <td>3000.0</td>\n",
       "      <td>0</td>\n",
       "      <td>141</td>\n",
       "      <td>348.6</td>\n",
       "      <td>300.0</td>\n",
       "      <td>NaN</td>\n",
       "      <td>NaN</td>\n",
       "      <td>11/1/19 19:00</td>\n",
       "      <td>Main</td>\n",
       "      <td>8.0</td>\n",
       "      <td>NaN</td>\n",
       "    </tr>\n",
       "  </tbody>\n",
       "</table>\n",
       "</div>"
      ]
     },
     "execution_count": 106,
     "metadata": {},
     "output_type": "execute_result"
    }
   ],
   "execution_count": 106
  },
  {
   "metadata": {
    "ExecuteTime": {
     "end_time": "2025-02-05T14:18:49.640392Z",
     "start_time": "2025-02-05T14:18:49.629201Z"
    }
   },
   "cell_type": "code",
   "source": "contests_dff = contests_dff[['period', 'Title', 'winning_score', 'mincash_score', 'total_entrants',  'cost', 'prizepool', 'mincash_payout']]",
   "id": "8b2cb58b99f2f0a7",
   "outputs": [],
   "execution_count": 107
  },
  {
   "metadata": {
    "ExecuteTime": {
     "end_time": "2025-02-05T14:18:51.343565Z",
     "start_time": "2025-02-05T14:18:51.309178Z"
    }
   },
   "cell_type": "code",
   "source": "contests_dff.head()",
   "id": "afe52b7c784e0d70",
   "outputs": [
    {
     "data": {
      "text/plain": [
       "          period        Title  winning_score  mincash_score  total_entrants  \\\n",
       "30909 2019-11-01      Express          357.7          324.2              98   \n",
       "30911 2019-11-01  After Hours          291.4          260.6              99   \n",
       "30912 2019-11-01         Main          358.3          310.4             119   \n",
       "30913 2019-11-01         Main          347.2          310.1             170   \n",
       "30914 2019-11-01         Main          348.6          300.0             141   \n",
       "\n",
       "       cost  prizepool  mincash_payout  \n",
       "30909   5.0      500.0            10.0  \n",
       "30911   5.0      500.0            10.0  \n",
       "30912   5.0      500.0            10.0  \n",
       "30913   2.0      300.0             6.0  \n",
       "30914  25.0     3000.0             NaN  "
      ],
      "text/html": [
       "<div>\n",
       "<style scoped>\n",
       "    .dataframe tbody tr th:only-of-type {\n",
       "        vertical-align: middle;\n",
       "    }\n",
       "\n",
       "    .dataframe tbody tr th {\n",
       "        vertical-align: top;\n",
       "    }\n",
       "\n",
       "    .dataframe thead th {\n",
       "        text-align: right;\n",
       "    }\n",
       "</style>\n",
       "<table border=\"1\" class=\"dataframe\">\n",
       "  <thead>\n",
       "    <tr style=\"text-align: right;\">\n",
       "      <th></th>\n",
       "      <th>period</th>\n",
       "      <th>Title</th>\n",
       "      <th>winning_score</th>\n",
       "      <th>mincash_score</th>\n",
       "      <th>total_entrants</th>\n",
       "      <th>cost</th>\n",
       "      <th>prizepool</th>\n",
       "      <th>mincash_payout</th>\n",
       "    </tr>\n",
       "  </thead>\n",
       "  <tbody>\n",
       "    <tr>\n",
       "      <th>30909</th>\n",
       "      <td>2019-11-01</td>\n",
       "      <td>Express</td>\n",
       "      <td>357.7</td>\n",
       "      <td>324.2</td>\n",
       "      <td>98</td>\n",
       "      <td>5.0</td>\n",
       "      <td>500.0</td>\n",
       "      <td>10.0</td>\n",
       "    </tr>\n",
       "    <tr>\n",
       "      <th>30911</th>\n",
       "      <td>2019-11-01</td>\n",
       "      <td>After Hours</td>\n",
       "      <td>291.4</td>\n",
       "      <td>260.6</td>\n",
       "      <td>99</td>\n",
       "      <td>5.0</td>\n",
       "      <td>500.0</td>\n",
       "      <td>10.0</td>\n",
       "    </tr>\n",
       "    <tr>\n",
       "      <th>30912</th>\n",
       "      <td>2019-11-01</td>\n",
       "      <td>Main</td>\n",
       "      <td>358.3</td>\n",
       "      <td>310.4</td>\n",
       "      <td>119</td>\n",
       "      <td>5.0</td>\n",
       "      <td>500.0</td>\n",
       "      <td>10.0</td>\n",
       "    </tr>\n",
       "    <tr>\n",
       "      <th>30913</th>\n",
       "      <td>2019-11-01</td>\n",
       "      <td>Main</td>\n",
       "      <td>347.2</td>\n",
       "      <td>310.1</td>\n",
       "      <td>170</td>\n",
       "      <td>2.0</td>\n",
       "      <td>300.0</td>\n",
       "      <td>6.0</td>\n",
       "    </tr>\n",
       "    <tr>\n",
       "      <th>30914</th>\n",
       "      <td>2019-11-01</td>\n",
       "      <td>Main</td>\n",
       "      <td>348.6</td>\n",
       "      <td>300.0</td>\n",
       "      <td>141</td>\n",
       "      <td>25.0</td>\n",
       "      <td>3000.0</td>\n",
       "      <td>NaN</td>\n",
       "    </tr>\n",
       "  </tbody>\n",
       "</table>\n",
       "</div>"
      ]
     },
     "execution_count": 108,
     "metadata": {},
     "output_type": "execute_result"
    }
   ],
   "execution_count": 108
  },
  {
   "metadata": {
    "ExecuteTime": {
     "end_time": "2025-02-05T14:18:51.714040Z",
     "start_time": "2025-02-05T14:18:51.705354Z"
    }
   },
   "cell_type": "code",
   "source": "pred_df.head()",
   "id": "e3e1707157ebc3ee",
   "outputs": [
    {
     "data": {
      "text/plain": [
       "         date  fanduel_player_pool_count  \\\n",
       "0  2019-11-01                        166   \n",
       "1  2019-11-02                        164   \n",
       "2  2019-11-05                        129   \n",
       "3  2019-11-06                        191   \n",
       "4  2019-11-08                        229   \n",
       "\n",
       "                                  fanduel_GT_players  \\\n",
       "0  ['Malcolm Brogdon', 'Terrence Ross', 'Kemba Wa...   \n",
       "1  ['Josh Richardson', 'Furkan Korkmaz', 'Jeff Te...   \n",
       "2  ['Daniel Theis', 'JaKarr Sampson', 'Trae Young...   \n",
       "3  ['Buddy Hield', 'Montrezl Harrell', 'Nikola Vu...   \n",
       "4  ['Taj Gibson', 'Evan Fournier', 'Kristaps Porz...   \n",
       "\n",
       "                           fanduel_predicted_players  fanduel_GT_points  \\\n",
       "0  ['Garrett Temple', 'Robin Lopez', 'Tristan Tho...              317.4   \n",
       "1  ['Eric Paschall', 'Bruce Brown', 'Torrey Craig...              360.5   \n",
       "2  ['Zach LaVine', 'Rudy Gay', 'DeMar DeRozan', '...              336.6   \n",
       "3  ['Markieff Morris', 'Pascal Siakam', 'Montrezl...              395.0   \n",
       "4  ['Caris LeVert', 'Eric Bledsoe', 'Luke Kennard...              400.3   \n",
       "\n",
       "   fanduel_predicted_points  fanduel_predicted_lineup_GT_points  \\\n",
       "0                273.986700                               289.0   \n",
       "1                292.369013                               337.4   \n",
       "2                253.446236                               282.8   \n",
       "3                291.069014                               366.2   \n",
       "4                298.630707                               304.0   \n",
       "\n",
       "   fanduel_GT_lineup_predicted_points  fanduel_GT_salary  \\\n",
       "0                          258.808281            57100.0   \n",
       "1                          308.208597            53500.0   \n",
       "2                          269.927535            57200.0   \n",
       "3                          274.757454            57800.0   \n",
       "4                          257.374601            58100.0   \n",
       "\n",
       "   fanduel_predicted_salary  fanduel_GT_duplicates  \\\n",
       "0                   59000.0                      0   \n",
       "1                   52700.0                      0   \n",
       "2                   55100.0                      0   \n",
       "3                   53400.0                      0   \n",
       "4                   51500.0                      0   \n",
       "\n",
       "   fanduel_predicted_duplicates                   fanduel_overlap_players  \\\n",
       "0                             0  ['Russell Westbrook', 'Marquese Chriss']   \n",
       "1                             1  ['Bruce Brown', 'Giannis Antetokounmpo']   \n",
       "2                             0           ['DeMar DeRozan', 'Trae Young']   \n",
       "3                             0                      ['Montrezl Harrell']   \n",
       "4                             1                          ['Luke Kennard']   \n",
       "\n",
       "   fanduel_overlap_count  fanduel_overlap_GT_points  \\\n",
       "0                      2                       78.2   \n",
       "1                      2                      118.9   \n",
       "2                      2                       98.7   \n",
       "3                      1                       62.1   \n",
       "4                      1                       42.7   \n",
       "\n",
       "   fanduel_overlap_predicted_points  \n",
       "0                         66.800542  \n",
       "1                         95.611177  \n",
       "2                         83.235892  \n",
       "3                         35.728135  \n",
       "4                         35.295896  "
      ],
      "text/html": [
       "<div>\n",
       "<style scoped>\n",
       "    .dataframe tbody tr th:only-of-type {\n",
       "        vertical-align: middle;\n",
       "    }\n",
       "\n",
       "    .dataframe tbody tr th {\n",
       "        vertical-align: top;\n",
       "    }\n",
       "\n",
       "    .dataframe thead th {\n",
       "        text-align: right;\n",
       "    }\n",
       "</style>\n",
       "<table border=\"1\" class=\"dataframe\">\n",
       "  <thead>\n",
       "    <tr style=\"text-align: right;\">\n",
       "      <th></th>\n",
       "      <th>date</th>\n",
       "      <th>fanduel_player_pool_count</th>\n",
       "      <th>fanduel_GT_players</th>\n",
       "      <th>fanduel_predicted_players</th>\n",
       "      <th>fanduel_GT_points</th>\n",
       "      <th>fanduel_predicted_points</th>\n",
       "      <th>fanduel_predicted_lineup_GT_points</th>\n",
       "      <th>fanduel_GT_lineup_predicted_points</th>\n",
       "      <th>fanduel_GT_salary</th>\n",
       "      <th>fanduel_predicted_salary</th>\n",
       "      <th>fanduel_GT_duplicates</th>\n",
       "      <th>fanduel_predicted_duplicates</th>\n",
       "      <th>fanduel_overlap_players</th>\n",
       "      <th>fanduel_overlap_count</th>\n",
       "      <th>fanduel_overlap_GT_points</th>\n",
       "      <th>fanduel_overlap_predicted_points</th>\n",
       "    </tr>\n",
       "  </thead>\n",
       "  <tbody>\n",
       "    <tr>\n",
       "      <th>0</th>\n",
       "      <td>2019-11-01</td>\n",
       "      <td>166</td>\n",
       "      <td>['Malcolm Brogdon', 'Terrence Ross', 'Kemba Wa...</td>\n",
       "      <td>['Garrett Temple', 'Robin Lopez', 'Tristan Tho...</td>\n",
       "      <td>317.4</td>\n",
       "      <td>273.986700</td>\n",
       "      <td>289.0</td>\n",
       "      <td>258.808281</td>\n",
       "      <td>57100.0</td>\n",
       "      <td>59000.0</td>\n",
       "      <td>0</td>\n",
       "      <td>0</td>\n",
       "      <td>['Russell Westbrook', 'Marquese Chriss']</td>\n",
       "      <td>2</td>\n",
       "      <td>78.2</td>\n",
       "      <td>66.800542</td>\n",
       "    </tr>\n",
       "    <tr>\n",
       "      <th>1</th>\n",
       "      <td>2019-11-02</td>\n",
       "      <td>164</td>\n",
       "      <td>['Josh Richardson', 'Furkan Korkmaz', 'Jeff Te...</td>\n",
       "      <td>['Eric Paschall', 'Bruce Brown', 'Torrey Craig...</td>\n",
       "      <td>360.5</td>\n",
       "      <td>292.369013</td>\n",
       "      <td>337.4</td>\n",
       "      <td>308.208597</td>\n",
       "      <td>53500.0</td>\n",
       "      <td>52700.0</td>\n",
       "      <td>0</td>\n",
       "      <td>1</td>\n",
       "      <td>['Bruce Brown', 'Giannis Antetokounmpo']</td>\n",
       "      <td>2</td>\n",
       "      <td>118.9</td>\n",
       "      <td>95.611177</td>\n",
       "    </tr>\n",
       "    <tr>\n",
       "      <th>2</th>\n",
       "      <td>2019-11-05</td>\n",
       "      <td>129</td>\n",
       "      <td>['Daniel Theis', 'JaKarr Sampson', 'Trae Young...</td>\n",
       "      <td>['Zach LaVine', 'Rudy Gay', 'DeMar DeRozan', '...</td>\n",
       "      <td>336.6</td>\n",
       "      <td>253.446236</td>\n",
       "      <td>282.8</td>\n",
       "      <td>269.927535</td>\n",
       "      <td>57200.0</td>\n",
       "      <td>55100.0</td>\n",
       "      <td>0</td>\n",
       "      <td>0</td>\n",
       "      <td>['DeMar DeRozan', 'Trae Young']</td>\n",
       "      <td>2</td>\n",
       "      <td>98.7</td>\n",
       "      <td>83.235892</td>\n",
       "    </tr>\n",
       "    <tr>\n",
       "      <th>3</th>\n",
       "      <td>2019-11-06</td>\n",
       "      <td>191</td>\n",
       "      <td>['Buddy Hield', 'Montrezl Harrell', 'Nikola Vu...</td>\n",
       "      <td>['Markieff Morris', 'Pascal Siakam', 'Montrezl...</td>\n",
       "      <td>395.0</td>\n",
       "      <td>291.069014</td>\n",
       "      <td>366.2</td>\n",
       "      <td>274.757454</td>\n",
       "      <td>57800.0</td>\n",
       "      <td>53400.0</td>\n",
       "      <td>0</td>\n",
       "      <td>0</td>\n",
       "      <td>['Montrezl Harrell']</td>\n",
       "      <td>1</td>\n",
       "      <td>62.1</td>\n",
       "      <td>35.728135</td>\n",
       "    </tr>\n",
       "    <tr>\n",
       "      <th>4</th>\n",
       "      <td>2019-11-08</td>\n",
       "      <td>229</td>\n",
       "      <td>['Taj Gibson', 'Evan Fournier', 'Kristaps Porz...</td>\n",
       "      <td>['Caris LeVert', 'Eric Bledsoe', 'Luke Kennard...</td>\n",
       "      <td>400.3</td>\n",
       "      <td>298.630707</td>\n",
       "      <td>304.0</td>\n",
       "      <td>257.374601</td>\n",
       "      <td>58100.0</td>\n",
       "      <td>51500.0</td>\n",
       "      <td>0</td>\n",
       "      <td>1</td>\n",
       "      <td>['Luke Kennard']</td>\n",
       "      <td>1</td>\n",
       "      <td>42.7</td>\n",
       "      <td>35.295896</td>\n",
       "    </tr>\n",
       "  </tbody>\n",
       "</table>\n",
       "</div>"
      ]
     },
     "execution_count": 109,
     "metadata": {},
     "output_type": "execute_result"
    }
   ],
   "execution_count": 109
  },
  {
   "metadata": {},
   "cell_type": "markdown",
   "source": "## Merge the data",
   "id": "a7530e73445e53f7"
  },
  {
   "metadata": {
    "ExecuteTime": {
     "end_time": "2025-02-05T00:19:46.301583Z",
     "start_time": "2025-02-05T00:19:46.284102Z"
    }
   },
   "cell_type": "code",
   "source": [
    "# Ensure correct column names\n",
    "contests_dff.rename(columns={'period': 'game_date'}, inplace=True)\n",
    "pred_df.rename(columns={'date': 'game_date'}, inplace=True)"
   ],
   "id": "a2432f1bd1f2d1a2",
   "outputs": [],
   "execution_count": 65
  },
  {
   "metadata": {
    "ExecuteTime": {
     "end_time": "2025-02-05T00:19:46.706761Z",
     "start_time": "2025-02-05T00:19:46.687167Z"
    }
   },
   "cell_type": "code",
   "source": [
    "# Convert game_date to datetime for proper merging\n",
    "contests_dff['game_date'] = pd.to_datetime(contests_dff['game_date'])\n",
    "pred_df['game_date'] = pd.to_datetime(pred_df['game_date'])\n"
   ],
   "id": "10896a93a4841b2d",
   "outputs": [],
   "execution_count": 66
  },
  {
   "metadata": {
    "ExecuteTime": {
     "end_time": "2025-02-05T00:19:47.199910Z",
     "start_time": "2025-02-05T00:19:47.180288Z"
    }
   },
   "cell_type": "code",
   "source": [
    "# Merge on game_date using a left join to keep all contests\n",
    "merged_df = contests_dff.merge(pred_df, on='game_date', how='left')\n"
   ],
   "id": "21bbc37b9f0e54de",
   "outputs": [],
   "execution_count": 67
  },
  {
   "metadata": {
    "ExecuteTime": {
     "end_time": "2025-02-05T00:19:47.837560Z",
     "start_time": "2025-02-05T00:19:47.827380Z"
    }
   },
   "cell_type": "code",
   "source": "merged_df.columns",
   "id": "1dffc8609af8a004",
   "outputs": [
    {
     "data": {
      "text/plain": [
       "Index(['game_date', 'Title', 'winning_score', 'mincash_score',\n",
       "       'total_entrants', 'cost', 'prizepool', 'mincash_payout',\n",
       "       'fanduel_player_pool_count', 'fanduel_GT_players',\n",
       "       'fanduel_predicted_players', 'fanduel_GT_points',\n",
       "       'fanduel_predicted_points', 'fanduel_predicted_lineup_GT_points',\n",
       "       'fanduel_GT_lineup_predicted_points', 'fanduel_GT_salary',\n",
       "       'fanduel_predicted_salary', 'fanduel_GT_duplicates',\n",
       "       'fanduel_predicted_duplicates', 'fanduel_overlap_players',\n",
       "       'fanduel_overlap_count', 'fanduel_overlap_GT_points',\n",
       "       'fanduel_overlap_predicted_points'],\n",
       "      dtype='object')"
      ]
     },
     "execution_count": 68,
     "metadata": {},
     "output_type": "execute_result"
    }
   ],
   "execution_count": 68
  },
  {
   "metadata": {
    "ExecuteTime": {
     "end_time": "2025-02-05T00:22:00.048325Z",
     "start_time": "2025-02-05T00:22:00.018616Z"
    }
   },
   "cell_type": "code",
   "source": [
    "# Compare actual contest scores vs. predicted lineup performance\n",
    "merged_df['winning_score_vs_pred'] = merged_df['winning_score'] - merged_df['fanduel_predicted_lineup_GT_points']\n",
    "merged_df['winning_score_vs_gt'] = merged_df['winning_score'] - merged_df['fanduel_GT_points']\n",
    "merged_df['cash_line_vs_pred'] = merged_df['mincash_score'] - merged_df['fanduel_predicted_lineup_GT_points']\n",
    "merged_df['cash_line_vs_gt'] = merged_df['mincash_score'] - merged_df['fanduel_GT_points']\n",
    "\n",
    "# Determine if the predicted lineup would have cashed\n",
    "merged_df['pred_lineup_would_win'] = merged_df['fanduel_predicted_lineup_GT_points'] >= merged_df['winning_score']\n",
    "merged_df['actual_lineup_would_win'] = merged_df['fanduel_GT_points'] >= merged_df['winning_score']\n",
    "\n",
    "merged_df['pred_lineup_would_cash'] = merged_df['fanduel_predicted_lineup_GT_points'] >= merged_df['mincash_score']\n",
    "merged_df['actual_lineup_would_cash'] = merged_df['fanduel_GT_points'] >= merged_df['mincash_score']\n",
    "\n",
    "# Calculate percentile ranking\n",
    "merged_df['predicted_percentile'] = 100 * (merged_df['fanduel_predicted_lineup_GT_points'] - merged_df['mincash_score']) / (merged_df['winning_score'] - merged_df['mincash_score'])\n",
    "merged_df['actual_percentile'] = 100 * (merged_df['fanduel_GT_points'] - merged_df['mincash_score']) / (merged_df['mincash_score'] - merged_df['mincash_score'])\n",
    "\n",
    "# Handle any NaNs after division\n",
    "merged_df.fillna(0, inplace=True)"
   ],
   "id": "4ae86cee4b393b27",
   "outputs": [],
   "execution_count": 74
  },
  {
   "metadata": {
    "ExecuteTime": {
     "end_time": "2025-02-05T00:22:20.412400Z",
     "start_time": "2025-02-05T00:22:20.396373Z"
    }
   },
   "cell_type": "code",
   "source": "merged_df = merged_df[['game_date', 'winning_score', 'mincash_score', 'fanduel_predicted_lineup_GT_points', 'fanduel_GT_points', 'prizepool', 'mincash_payout', 'total_entrants', 'cost', 'actual_vs_pred', 'actual_vs_gt', 'cash_line_vs_pred', 'cash_line_vs_gt', 'pred_lineup_would_win', 'actual_lineup_would_win','pred_lineup_would_cash', 'actual_lineup_would_cash', 'predicted_percentile', 'actual_percentile', 'Title', 'fanduel_GT_players', 'fanduel_predicted_players']]",
   "id": "cc97b98d5555d31a",
   "outputs": [],
   "execution_count": 75
  },
  {
   "metadata": {},
   "cell_type": "markdown",
   "source": "## Analyze data",
   "id": "744c7792836c7c63"
  },
  {
   "metadata": {
    "ExecuteTime": {
     "end_time": "2025-02-05T00:23:05.681781Z",
     "start_time": "2025-02-05T00:23:05.655331Z"
    }
   },
   "cell_type": "code",
   "source": "len(merged_df[merged_df['pred_lineup_would_cash'] == True]) /  len(merged_df)",
   "id": "7a6836bf6a2d0733",
   "outputs": [
    {
     "data": {
      "text/plain": [
       "0.3463691265282074"
      ]
     },
     "execution_count": 77,
     "metadata": {},
     "output_type": "execute_result"
    }
   ],
   "execution_count": 77
  },
  {
   "metadata": {
    "ExecuteTime": {
     "end_time": "2025-02-05T00:23:06.914037Z",
     "start_time": "2025-02-05T00:23:06.906447Z"
    }
   },
   "cell_type": "code",
   "source": "len(merged_df[merged_df['pred_lineup_would_win'] == True]) /  len(merged_df)",
   "id": "ab08a46550ad73b",
   "outputs": [
    {
     "data": {
      "text/plain": [
       "0.06046545883046104"
      ]
     },
     "execution_count": 78,
     "metadata": {},
     "output_type": "execute_result"
    }
   ],
   "execution_count": 78
  },
  {
   "metadata": {
    "ExecuteTime": {
     "end_time": "2025-02-05T00:19:56.177733Z",
     "start_time": "2025-02-05T00:19:56.157055Z"
    }
   },
   "cell_type": "code",
   "source": "merged_df[merged_df['fanduel_predicted_lineup_GT_points'] > merged_df['winning_score']]",
   "id": "fe2ef5bb9394e6c0",
   "outputs": [
    {
     "data": {
      "text/plain": [
       "       game_date  winning_score  mincash_score  \\\n",
       "77    2019-11-02          328.1          289.9   \n",
       "95    2019-11-03          309.6          266.9   \n",
       "96    2019-11-03          339.2          270.5   \n",
       "98    2019-11-03          315.1          269.4   \n",
       "99    2019-11-03          334.6          316.7   \n",
       "...          ...            ...            ...   \n",
       "13483 2021-05-14          282.7          258.8   \n",
       "13494 2021-05-14          293.8          258.8   \n",
       "13553 2021-05-16          313.7          275.5   \n",
       "13561 2021-05-16          304.3          292.8   \n",
       "13567 2021-05-16          302.6          273.4   \n",
       "\n",
       "       fanduel_predicted_lineup_GT_points  fanduel_GT_points  prizepool  \\\n",
       "77                                  337.4              360.5     1000.0   \n",
       "95                                  340.4              322.3     2500.0   \n",
       "96                                  340.4              322.3     5000.0   \n",
       "98                                  340.4              322.3      500.0   \n",
       "99                                  340.4              322.3     3000.0   \n",
       "...                                   ...                ...        ...   \n",
       "13483                               305.4              357.5      500.0   \n",
       "13494                               305.4              357.5      250.0   \n",
       "13553                               314.1              371.8     7000.0   \n",
       "13561                               314.1              371.8      450.0   \n",
       "13567                               314.1              371.8      250.0   \n",
       "\n",
       "       mincash_payout  total_entrants  cost  actual_vs_pred  actual_vs_gt  \\\n",
       "77               20.0             117  10.0            -9.3         -32.4   \n",
       "95               30.0             196  15.0           -30.8         -12.7   \n",
       "96               50.0             235  25.0            -1.2          16.9   \n",
       "98               10.0             119   5.0           -25.3          -7.2   \n",
       "99               50.0             141  25.0            -5.8          12.3   \n",
       "...               ...             ...   ...             ...           ...   \n",
       "13483            10.0             119   5.0           -22.7         -74.8   \n",
       "13494            10.0              56   5.0           -11.6         -63.7   \n",
       "13553            65.0             249  33.0            -0.4         -58.1   \n",
       "13561            15.0             100   5.0            -9.8         -67.5   \n",
       "13567            10.0              56   5.0           -11.5         -69.2   \n",
       "\n",
       "       cash_line_vs_pred  cash_line_vs_gt  pred_lineup_would_cash  \\\n",
       "77                 -47.5            -70.6                    True   \n",
       "95                 -73.5            -55.4                    True   \n",
       "96                 -69.9            -51.8                    True   \n",
       "98                 -71.0            -52.9                    True   \n",
       "99                 -23.7             -5.6                    True   \n",
       "...                  ...              ...                     ...   \n",
       "13483              -46.6            -98.7                    True   \n",
       "13494              -46.6            -98.7                    True   \n",
       "13553              -38.6            -96.3                    True   \n",
       "13561              -21.3            -79.0                    True   \n",
       "13567              -40.7            -98.4                    True   \n",
       "\n",
       "       actual_lineup_would_cash  predicted_percentile  actual_percentile  \\\n",
       "77                         True            124.345550                inf   \n",
       "95                         True            172.131148                inf   \n",
       "96                         True            101.746725                inf   \n",
       "98                         True            155.361050                inf   \n",
       "99                         True            132.402235                inf   \n",
       "...                         ...                   ...                ...   \n",
       "13483                      True            194.979079                inf   \n",
       "13494                      True            133.142857                inf   \n",
       "13553                      True            101.047120                inf   \n",
       "13561                      True            185.217391                inf   \n",
       "13567                      True            139.383562                inf   \n",
       "\n",
       "             Title                                 fanduel_GT_players  \\\n",
       "77     After Hours  ['Josh Richardson', 'Furkan Korkmaz', 'Jeff Te...   \n",
       "95            Main  ['Wendell Carter Jr.', 'Delon Wright', 'Jimmy ...   \n",
       "96            Main  ['Wendell Carter Jr.', 'Delon Wright', 'Jimmy ...   \n",
       "98            Main  ['Wendell Carter Jr.', 'Delon Wright', 'Jimmy ...   \n",
       "99     After Hours  ['Wendell Carter Jr.', 'Delon Wright', 'Jimmy ...   \n",
       "...            ...                                                ...   \n",
       "13483      Express  ['Hamidou Diallo', 'Paul Reed', 'Russell Westb...   \n",
       "13494      Express  ['Hamidou Diallo', 'Paul Reed', 'Russell Westb...   \n",
       "13553  After Hours  ['Nathan Knight', 'Bradley Beal', 'Tyrese Maxe...   \n",
       "13561  After Hours  ['Nathan Knight', 'Bradley Beal', 'Tyrese Maxe...   \n",
       "13567  After Hours  ['Nathan Knight', 'Bradley Beal', 'Tyrese Maxe...   \n",
       "\n",
       "                               fanduel_predicted_players  \n",
       "77     ['Eric Paschall', 'Bruce Brown', 'Torrey Craig...  \n",
       "95     ['Jimmy Butler', 'Kevin Love', 'Dwight Howard'...  \n",
       "96     ['Jimmy Butler', 'Kevin Love', 'Dwight Howard'...  \n",
       "98     ['Jimmy Butler', 'Kevin Love', 'Dwight Howard'...  \n",
       "99     ['Jimmy Butler', 'Kevin Love', 'Dwight Howard'...  \n",
       "...                                                  ...  \n",
       "13483  ['R.J. Hampton', 'Kelly Olynyk', 'John Konchar...  \n",
       "13494  ['R.J. Hampton', 'Kelly Olynyk', 'John Konchar...  \n",
       "13553  ['Saddiq Bey', 'KZ Okpala', 'Shake Milton', \"D...  \n",
       "13561  ['Saddiq Bey', 'KZ Okpala', 'Shake Milton', \"D...  \n",
       "13567  ['Saddiq Bey', 'KZ Okpala', 'Shake Milton', \"D...  \n",
       "\n",
       "[817 rows x 20 columns]"
      ],
      "text/html": [
       "<div>\n",
       "<style scoped>\n",
       "    .dataframe tbody tr th:only-of-type {\n",
       "        vertical-align: middle;\n",
       "    }\n",
       "\n",
       "    .dataframe tbody tr th {\n",
       "        vertical-align: top;\n",
       "    }\n",
       "\n",
       "    .dataframe thead th {\n",
       "        text-align: right;\n",
       "    }\n",
       "</style>\n",
       "<table border=\"1\" class=\"dataframe\">\n",
       "  <thead>\n",
       "    <tr style=\"text-align: right;\">\n",
       "      <th></th>\n",
       "      <th>game_date</th>\n",
       "      <th>winning_score</th>\n",
       "      <th>mincash_score</th>\n",
       "      <th>fanduel_predicted_lineup_GT_points</th>\n",
       "      <th>fanduel_GT_points</th>\n",
       "      <th>prizepool</th>\n",
       "      <th>mincash_payout</th>\n",
       "      <th>total_entrants</th>\n",
       "      <th>cost</th>\n",
       "      <th>actual_vs_pred</th>\n",
       "      <th>actual_vs_gt</th>\n",
       "      <th>cash_line_vs_pred</th>\n",
       "      <th>cash_line_vs_gt</th>\n",
       "      <th>pred_lineup_would_cash</th>\n",
       "      <th>actual_lineup_would_cash</th>\n",
       "      <th>predicted_percentile</th>\n",
       "      <th>actual_percentile</th>\n",
       "      <th>Title</th>\n",
       "      <th>fanduel_GT_players</th>\n",
       "      <th>fanduel_predicted_players</th>\n",
       "    </tr>\n",
       "  </thead>\n",
       "  <tbody>\n",
       "    <tr>\n",
       "      <th>77</th>\n",
       "      <td>2019-11-02</td>\n",
       "      <td>328.1</td>\n",
       "      <td>289.9</td>\n",
       "      <td>337.4</td>\n",
       "      <td>360.5</td>\n",
       "      <td>1000.0</td>\n",
       "      <td>20.0</td>\n",
       "      <td>117</td>\n",
       "      <td>10.0</td>\n",
       "      <td>-9.3</td>\n",
       "      <td>-32.4</td>\n",
       "      <td>-47.5</td>\n",
       "      <td>-70.6</td>\n",
       "      <td>True</td>\n",
       "      <td>True</td>\n",
       "      <td>124.345550</td>\n",
       "      <td>inf</td>\n",
       "      <td>After Hours</td>\n",
       "      <td>['Josh Richardson', 'Furkan Korkmaz', 'Jeff Te...</td>\n",
       "      <td>['Eric Paschall', 'Bruce Brown', 'Torrey Craig...</td>\n",
       "    </tr>\n",
       "    <tr>\n",
       "      <th>95</th>\n",
       "      <td>2019-11-03</td>\n",
       "      <td>309.6</td>\n",
       "      <td>266.9</td>\n",
       "      <td>340.4</td>\n",
       "      <td>322.3</td>\n",
       "      <td>2500.0</td>\n",
       "      <td>30.0</td>\n",
       "      <td>196</td>\n",
       "      <td>15.0</td>\n",
       "      <td>-30.8</td>\n",
       "      <td>-12.7</td>\n",
       "      <td>-73.5</td>\n",
       "      <td>-55.4</td>\n",
       "      <td>True</td>\n",
       "      <td>True</td>\n",
       "      <td>172.131148</td>\n",
       "      <td>inf</td>\n",
       "      <td>Main</td>\n",
       "      <td>['Wendell Carter Jr.', 'Delon Wright', 'Jimmy ...</td>\n",
       "      <td>['Jimmy Butler', 'Kevin Love', 'Dwight Howard'...</td>\n",
       "    </tr>\n",
       "    <tr>\n",
       "      <th>96</th>\n",
       "      <td>2019-11-03</td>\n",
       "      <td>339.2</td>\n",
       "      <td>270.5</td>\n",
       "      <td>340.4</td>\n",
       "      <td>322.3</td>\n",
       "      <td>5000.0</td>\n",
       "      <td>50.0</td>\n",
       "      <td>235</td>\n",
       "      <td>25.0</td>\n",
       "      <td>-1.2</td>\n",
       "      <td>16.9</td>\n",
       "      <td>-69.9</td>\n",
       "      <td>-51.8</td>\n",
       "      <td>True</td>\n",
       "      <td>True</td>\n",
       "      <td>101.746725</td>\n",
       "      <td>inf</td>\n",
       "      <td>Main</td>\n",
       "      <td>['Wendell Carter Jr.', 'Delon Wright', 'Jimmy ...</td>\n",
       "      <td>['Jimmy Butler', 'Kevin Love', 'Dwight Howard'...</td>\n",
       "    </tr>\n",
       "    <tr>\n",
       "      <th>98</th>\n",
       "      <td>2019-11-03</td>\n",
       "      <td>315.1</td>\n",
       "      <td>269.4</td>\n",
       "      <td>340.4</td>\n",
       "      <td>322.3</td>\n",
       "      <td>500.0</td>\n",
       "      <td>10.0</td>\n",
       "      <td>119</td>\n",
       "      <td>5.0</td>\n",
       "      <td>-25.3</td>\n",
       "      <td>-7.2</td>\n",
       "      <td>-71.0</td>\n",
       "      <td>-52.9</td>\n",
       "      <td>True</td>\n",
       "      <td>True</td>\n",
       "      <td>155.361050</td>\n",
       "      <td>inf</td>\n",
       "      <td>Main</td>\n",
       "      <td>['Wendell Carter Jr.', 'Delon Wright', 'Jimmy ...</td>\n",
       "      <td>['Jimmy Butler', 'Kevin Love', 'Dwight Howard'...</td>\n",
       "    </tr>\n",
       "    <tr>\n",
       "      <th>99</th>\n",
       "      <td>2019-11-03</td>\n",
       "      <td>334.6</td>\n",
       "      <td>316.7</td>\n",
       "      <td>340.4</td>\n",
       "      <td>322.3</td>\n",
       "      <td>3000.0</td>\n",
       "      <td>50.0</td>\n",
       "      <td>141</td>\n",
       "      <td>25.0</td>\n",
       "      <td>-5.8</td>\n",
       "      <td>12.3</td>\n",
       "      <td>-23.7</td>\n",
       "      <td>-5.6</td>\n",
       "      <td>True</td>\n",
       "      <td>True</td>\n",
       "      <td>132.402235</td>\n",
       "      <td>inf</td>\n",
       "      <td>After Hours</td>\n",
       "      <td>['Wendell Carter Jr.', 'Delon Wright', 'Jimmy ...</td>\n",
       "      <td>['Jimmy Butler', 'Kevin Love', 'Dwight Howard'...</td>\n",
       "    </tr>\n",
       "    <tr>\n",
       "      <th>...</th>\n",
       "      <td>...</td>\n",
       "      <td>...</td>\n",
       "      <td>...</td>\n",
       "      <td>...</td>\n",
       "      <td>...</td>\n",
       "      <td>...</td>\n",
       "      <td>...</td>\n",
       "      <td>...</td>\n",
       "      <td>...</td>\n",
       "      <td>...</td>\n",
       "      <td>...</td>\n",
       "      <td>...</td>\n",
       "      <td>...</td>\n",
       "      <td>...</td>\n",
       "      <td>...</td>\n",
       "      <td>...</td>\n",
       "      <td>...</td>\n",
       "      <td>...</td>\n",
       "      <td>...</td>\n",
       "      <td>...</td>\n",
       "    </tr>\n",
       "    <tr>\n",
       "      <th>13483</th>\n",
       "      <td>2021-05-14</td>\n",
       "      <td>282.7</td>\n",
       "      <td>258.8</td>\n",
       "      <td>305.4</td>\n",
       "      <td>357.5</td>\n",
       "      <td>500.0</td>\n",
       "      <td>10.0</td>\n",
       "      <td>119</td>\n",
       "      <td>5.0</td>\n",
       "      <td>-22.7</td>\n",
       "      <td>-74.8</td>\n",
       "      <td>-46.6</td>\n",
       "      <td>-98.7</td>\n",
       "      <td>True</td>\n",
       "      <td>True</td>\n",
       "      <td>194.979079</td>\n",
       "      <td>inf</td>\n",
       "      <td>Express</td>\n",
       "      <td>['Hamidou Diallo', 'Paul Reed', 'Russell Westb...</td>\n",
       "      <td>['R.J. Hampton', 'Kelly Olynyk', 'John Konchar...</td>\n",
       "    </tr>\n",
       "    <tr>\n",
       "      <th>13494</th>\n",
       "      <td>2021-05-14</td>\n",
       "      <td>293.8</td>\n",
       "      <td>258.8</td>\n",
       "      <td>305.4</td>\n",
       "      <td>357.5</td>\n",
       "      <td>250.0</td>\n",
       "      <td>10.0</td>\n",
       "      <td>56</td>\n",
       "      <td>5.0</td>\n",
       "      <td>-11.6</td>\n",
       "      <td>-63.7</td>\n",
       "      <td>-46.6</td>\n",
       "      <td>-98.7</td>\n",
       "      <td>True</td>\n",
       "      <td>True</td>\n",
       "      <td>133.142857</td>\n",
       "      <td>inf</td>\n",
       "      <td>Express</td>\n",
       "      <td>['Hamidou Diallo', 'Paul Reed', 'Russell Westb...</td>\n",
       "      <td>['R.J. Hampton', 'Kelly Olynyk', 'John Konchar...</td>\n",
       "    </tr>\n",
       "    <tr>\n",
       "      <th>13553</th>\n",
       "      <td>2021-05-16</td>\n",
       "      <td>313.7</td>\n",
       "      <td>275.5</td>\n",
       "      <td>314.1</td>\n",
       "      <td>371.8</td>\n",
       "      <td>7000.0</td>\n",
       "      <td>65.0</td>\n",
       "      <td>249</td>\n",
       "      <td>33.0</td>\n",
       "      <td>-0.4</td>\n",
       "      <td>-58.1</td>\n",
       "      <td>-38.6</td>\n",
       "      <td>-96.3</td>\n",
       "      <td>True</td>\n",
       "      <td>True</td>\n",
       "      <td>101.047120</td>\n",
       "      <td>inf</td>\n",
       "      <td>After Hours</td>\n",
       "      <td>['Nathan Knight', 'Bradley Beal', 'Tyrese Maxe...</td>\n",
       "      <td>['Saddiq Bey', 'KZ Okpala', 'Shake Milton', \"D...</td>\n",
       "    </tr>\n",
       "    <tr>\n",
       "      <th>13561</th>\n",
       "      <td>2021-05-16</td>\n",
       "      <td>304.3</td>\n",
       "      <td>292.8</td>\n",
       "      <td>314.1</td>\n",
       "      <td>371.8</td>\n",
       "      <td>450.0</td>\n",
       "      <td>15.0</td>\n",
       "      <td>100</td>\n",
       "      <td>5.0</td>\n",
       "      <td>-9.8</td>\n",
       "      <td>-67.5</td>\n",
       "      <td>-21.3</td>\n",
       "      <td>-79.0</td>\n",
       "      <td>True</td>\n",
       "      <td>True</td>\n",
       "      <td>185.217391</td>\n",
       "      <td>inf</td>\n",
       "      <td>After Hours</td>\n",
       "      <td>['Nathan Knight', 'Bradley Beal', 'Tyrese Maxe...</td>\n",
       "      <td>['Saddiq Bey', 'KZ Okpala', 'Shake Milton', \"D...</td>\n",
       "    </tr>\n",
       "    <tr>\n",
       "      <th>13567</th>\n",
       "      <td>2021-05-16</td>\n",
       "      <td>302.6</td>\n",
       "      <td>273.4</td>\n",
       "      <td>314.1</td>\n",
       "      <td>371.8</td>\n",
       "      <td>250.0</td>\n",
       "      <td>10.0</td>\n",
       "      <td>56</td>\n",
       "      <td>5.0</td>\n",
       "      <td>-11.5</td>\n",
       "      <td>-69.2</td>\n",
       "      <td>-40.7</td>\n",
       "      <td>-98.4</td>\n",
       "      <td>True</td>\n",
       "      <td>True</td>\n",
       "      <td>139.383562</td>\n",
       "      <td>inf</td>\n",
       "      <td>After Hours</td>\n",
       "      <td>['Nathan Knight', 'Bradley Beal', 'Tyrese Maxe...</td>\n",
       "      <td>['Saddiq Bey', 'KZ Okpala', 'Shake Milton', \"D...</td>\n",
       "    </tr>\n",
       "  </tbody>\n",
       "</table>\n",
       "<p>817 rows × 20 columns</p>\n",
       "</div>"
      ]
     },
     "execution_count": 73,
     "metadata": {},
     "output_type": "execute_result"
    }
   ],
   "execution_count": 73
  },
  {
   "metadata": {},
   "cell_type": "markdown",
   "source": "## Basic Win & Cash Consistency",
   "id": "16ffdfdded781578"
  },
  {
   "metadata": {
    "ExecuteTime": {
     "end_time": "2025-02-05T00:29:49.877534Z",
     "start_time": "2025-02-05T00:29:49.865986Z"
    }
   },
   "cell_type": "code",
   "source": [
    "# Basic metrics\n",
    "num_contests = len(merged_df)\n",
    "\n",
    "win_pred_count = merged_df['pred_lineup_would_win'].sum()\n",
    "win_actual_count = merged_df['actual_lineup_would_win'].sum()\n",
    "\n",
    "cash_pred_count = merged_df['pred_lineup_would_cash'].sum()\n",
    "cash_actual_count = merged_df['actual_lineup_would_cash'].sum()\n",
    "\n",
    "print(\"Number of contests:\", num_contests)\n",
    "print(\"Win rate (predicted):\", win_pred_count / num_contests)\n",
    "print(\"Win rate (actual):\", win_actual_count / num_contests)\n",
    "print(\"Cash rate (predicted):\", cash_pred_count / num_contests)\n",
    "print(\"Cash rate (actual):\", cash_actual_count / num_contests)\n"
   ],
   "id": "93567214db57203a",
   "outputs": [
    {
     "name": "stdout",
     "output_type": "stream",
     "text": [
      "Number of contests: 13578\n",
      "Win rate (predicted): 0.06046545883046104\n",
      "Win rate (actual): 0.534909412284578\n",
      "Cash rate (predicted): 0.3463691265282074\n",
      "Cash rate (actual): 0.9537487111503903\n"
     ]
    }
   ],
   "execution_count": 80
  },
  {
   "metadata": {},
   "cell_type": "markdown",
   "source": "## Profit Calculation & Overall Profitability",
   "id": "a0cf24b4ff0e49aa"
  },
  {
   "metadata": {
    "ExecuteTime": {
     "end_time": "2025-02-05T00:30:45.957732Z",
     "start_time": "2025-02-05T00:30:45.824270Z"
    }
   },
   "cell_type": "code",
   "source": [
    "def compute_profit(row):\n",
    "    \"\"\"\n",
    "    Very simplified approach:\n",
    "    - If winning_score is beaten, get prizepool - cost.\n",
    "    - Else if mincash_score is beaten, get mincash_payout - cost.\n",
    "    - Otherwise, get -cost.\n",
    "    \"\"\"\n",
    "    if row['pred_lineup_would_win']:\n",
    "        return row['prizepool'] - row['cost']\n",
    "    elif row['pred_lineup_would_cash']:\n",
    "        return row['mincash_payout'] - row['cost']\n",
    "    else:\n",
    "        return -row['cost']\n",
    "\n",
    "merged_df['pred_lineup_profit'] = merged_df.apply(compute_profit, axis=1)"
   ],
   "id": "5b747ad4d54de4a2",
   "outputs": [],
   "execution_count": 81
  },
  {
   "metadata": {
    "ExecuteTime": {
     "end_time": "2025-02-05T00:30:52.375131Z",
     "start_time": "2025-02-05T00:30:52.357342Z"
    }
   },
   "cell_type": "code",
   "source": [
    "total_profit = merged_df['pred_lineup_profit'].sum()\n",
    "print(f\"Total profit across all contests: ${total_profit:.2f}\")"
   ],
   "id": "29c372b3b6e8411c",
   "outputs": [
    {
     "name": "stdout",
     "output_type": "stream",
     "text": [
      "Total profit across all contests: $7895937.29\n"
     ]
    }
   ],
   "execution_count": 82
  },
  {
   "metadata": {
    "ExecuteTime": {
     "end_time": "2025-02-05T00:31:00.020545Z",
     "start_time": "2025-02-05T00:31:00.004933Z"
    }
   },
   "cell_type": "code",
   "source": [
    "avg_profit = merged_df['pred_lineup_profit'].mean()\n",
    "print(f\"Average profit per contest: ${avg_profit:.2f}\")\n"
   ],
   "id": "bc716af40975be62",
   "outputs": [
    {
     "name": "stdout",
     "output_type": "stream",
     "text": [
      "Average profit per contest: $581.52\n"
     ]
    }
   ],
   "execution_count": 83
  },
  {
   "metadata": {
    "ExecuteTime": {
     "end_time": "2025-02-05T00:31:13.717126Z",
     "start_time": "2025-02-05T00:31:13.678998Z"
    }
   },
   "cell_type": "code",
   "source": [
    "# Summarize daily profits\n",
    "daily_profit = (merged_df\n",
    "                .groupby('game_date')['pred_lineup_profit']\n",
    "                .sum()\n",
    "                .reset_index()\n",
    "                .rename(columns={'pred_lineup_profit':'daily_profit'}))\n",
    "\n",
    "print(daily_profit.head())"
   ],
   "id": "abe831d44babc434",
   "outputs": [
    {
     "name": "stdout",
     "output_type": "stream",
     "text": [
      "   game_date  daily_profit\n",
      "0 2019-11-01      -3099.43\n",
      "1 2019-11-02      -3401.32\n",
      "2 2019-11-03      88431.46\n",
      "3 2019-11-04       6769.02\n",
      "4 2019-11-05      -3453.21\n"
     ]
    }
   ],
   "execution_count": 84
  },
  {
   "metadata": {},
   "cell_type": "markdown",
   "source": "## Visualizing Your Performance",
   "id": "eecdc7eb7b926b7"
  },
  {
   "metadata": {
    "ExecuteTime": {
     "end_time": "2025-02-05T00:31:48.333206Z",
     "start_time": "2025-02-05T00:31:47.838363Z"
    }
   },
   "cell_type": "code",
   "source": [
    "daily_profit['cumulative_profit'] = daily_profit['daily_profit'].cumsum()\n",
    "\n",
    "plt.figure(figsize=(10, 6))\n",
    "sns.lineplot(data=daily_profit, x='game_date', y='cumulative_profit')\n",
    "plt.title('Cumulative Profit Over Time')\n",
    "plt.xlabel('Date')\n",
    "plt.ylabel('Cumulative Profit ($)')\n",
    "plt.xticks(rotation=45)\n",
    "plt.tight_layout()\n",
    "plt.show()"
   ],
   "id": "130974241ca0596a",
   "outputs": [
    {
     "data": {
      "text/plain": [
       "<Figure size 1000x600 with 1 Axes>"
      ],
      "image/png": "[encoded data removed]"
     },
     "metadata": {},
     "output_type": "display_data"
    }
   ],
   "execution_count": 85
  },
  {
   "metadata": {
    "ExecuteTime": {
     "end_time": "2025-02-05T00:32:14.010925Z",
     "start_time": "2025-02-05T00:32:13.728703Z"
    }
   },
   "cell_type": "code",
   "source": [
    "merged_df['year_month'] = merged_df['game_date'].dt.to_period('M')\n",
    "\n",
    "monthly_stats = (merged_df\n",
    "    .groupby('year_month')\n",
    "    .agg(\n",
    "        contests_count=('game_date', 'count'),\n",
    "        cash_count=('pred_lineup_would_cash', 'sum'),\n",
    "        win_count=('pred_lineup_would_win', 'sum'),\n",
    "        avg_pred_score=('fanduel_predicted_lineup_GT_points', 'mean')\n",
    "    )\n",
    "    .reset_index())\n",
    "\n",
    "monthly_stats['cash_rate'] = monthly_stats['cash_count'] / monthly_stats['contests_count']\n",
    "monthly_stats['win_rate'] = monthly_stats['win_count'] / monthly_stats['contests_count']\n",
    "\n",
    "print(monthly_stats)\n",
    "\n",
    "# Plot monthly cash/win rates:\n",
    "fig, ax = plt.subplots(1,2, figsize=(14, 5))\n",
    "\n",
    "sns.barplot(data=monthly_stats, x='year_month', y='cash_rate', ax=ax[0])\n",
    "ax[0].set_title('Monthly Cash Rate')\n",
    "ax[0].set_ylabel('Cash Rate')\n",
    "ax[0].set_xlabel('Month')\n",
    "ax[0].tick_params(axis='x', rotation=45)\n",
    "\n",
    "sns.barplot(data=monthly_stats, x='year_month', y='win_rate', ax=ax[1])\n",
    "ax[1].set_title('Monthly Win Rate')\n",
    "ax[1].set_ylabel('Win Rate')\n",
    "ax[1].set_xlabel('Month')\n",
    "ax[1].tick_params(axis='x', rotation=45)\n",
    "\n",
    "plt.tight_layout()\n",
    "plt.show()\n"
   ],
   "id": "7d34e63d33249cde",
   "outputs": [
    {
     "name": "stdout",
     "output_type": "stream",
     "text": [
      "   year_month  contests_count  cash_count  win_count  avg_pred_score  \\\n",
      "0     2019-11            1162         660         86      310.984079   \n",
      "1     2019-12            1205         487         48      304.992946   \n",
      "2     2020-01            1269         496         91      313.777384   \n",
      "3     2020-02            1490         467         16      307.372752   \n",
      "4     2020-03             833         386        173      324.999640   \n",
      "5     2020-07             182          45          0      307.386264   \n",
      "6     2020-08             974         144         43      263.469815   \n",
      "7     2020-12             330          97         19      269.183939   \n",
      "8     2021-01             930         228         62      282.449032   \n",
      "9     2021-02            1548         521         89      300.307300   \n",
      "10    2021-03            1471         540         83      303.570836   \n",
      "11    2021-04            1484         409         79      299.675270   \n",
      "12    2021-05             700         223         32      308.556143   \n",
      "\n",
      "    cash_rate  win_rate  \n",
      "0    0.567986  0.074010  \n",
      "1    0.404149  0.039834  \n",
      "2    0.390859  0.071710  \n",
      "3    0.313423  0.010738  \n",
      "4    0.463385  0.207683  \n",
      "5    0.247253  0.000000  \n",
      "6    0.147844  0.044148  \n",
      "7    0.293939  0.057576  \n",
      "8    0.245161  0.066667  \n",
      "9    0.336563  0.057494  \n",
      "10   0.367097  0.056424  \n",
      "11   0.275606  0.053235  \n",
      "12   0.318571  0.045714  \n"
     ]
    },
    {
     "data": {
      "text/plain": [
       "<Figure size 1400x500 with 2 Axes>"
      ],
      "image/png": "[encoded data removed]"
     },
     "metadata": {},
     "output_type": "display_data"
    }
   ],
   "execution_count": 86
  },
  {
   "metadata": {},
   "cell_type": "markdown",
   "source": "## Distribution Plots of Score Differences",
   "id": "b7b934b8a360f721"
  },
  {
   "metadata": {
    "ExecuteTime": {
     "end_time": "2025-02-05T00:33:09.432868Z",
     "start_time": "2025-02-05T00:33:08.817721Z"
    }
   },
   "cell_type": "code",
   "source": [
    "merged_df['score_diff_to_win'] = merged_df['fanduel_predicted_lineup_GT_points'] - merged_df['winning_score']\n",
    "merged_df['score_diff_to_cash'] = merged_df['fanduel_predicted_lineup_GT_points'] - merged_df['mincash_score']\n",
    "\n",
    "fig, ax = plt.subplots(1,2, figsize=(14,5))\n",
    "\n",
    "sns.histplot(merged_df['score_diff_to_win'], kde=True, ax=ax[0])\n",
    "ax[0].set_title('Distribution: Predicted Score - Winning Score')\n",
    "ax[0].set_xlabel('Difference to Winning Score')\n",
    "\n",
    "sns.histplot(merged_df['score_diff_to_cash'], kde=True, ax=ax[1])\n",
    "ax[1].set_title('Distribution: Predicted Score - Cash Score')\n",
    "ax[1].set_xlabel('Difference to Min Cash Score')\n",
    "\n",
    "plt.tight_layout()\n",
    "plt.show()\n"
   ],
   "id": "ebc0ce7dc998f1f8",
   "outputs": [
    {
     "data": {
      "text/plain": [
       "<Figure size 1400x500 with 2 Axes>"
      ],
      "image/png": "[encoded data removed]"
     },
     "metadata": {},
     "output_type": "display_data"
    }
   ],
   "execution_count": 87
  },
  {
   "metadata": {
    "ExecuteTime": {
     "end_time": "2025-02-05T14:12:24.282476Z",
     "start_time": "2025-02-05T14:12:24.035922Z"
    }
   },
   "cell_type": "code",
   "source": "merged_df.to_csv('../output_csv/merged_contests_pred_data.csv', index=False)",
   "id": "cbb30ae3740dfea9",
   "outputs": [],
   "execution_count": 90
  },
  {
   "metadata": {},
   "cell_type": "code",
   "outputs": [],
   "execution_count": null,
   "source": "",
   "id": "5fabafcf78577154"
  }
 ],
 "metadata": {
  "kernelspec": {
   "display_name": "Python 3",
   "language": "python",
   "name": "python3"
  },
  "language_info": {
   "codemirror_mode": {
    "name": "ipython",
    "version": 2
   },
   "file_extension": ".py",
   "mimetype": "text/x-python",
   "name": "python",
   "nbconvert_exporter": "python",
   "pygments_lexer": "ipython2",
   "version": "2.7.6"
  }
 },
 "nbformat": 4,
 "nbformat_minor": 5
}
