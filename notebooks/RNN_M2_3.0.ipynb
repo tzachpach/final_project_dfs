{
 "cells": [
  {
   "cell_type": "code",
   "execution_count": 1,
   "metadata": {
    "id": "iZsMhFiGNIcq",
    "executionInfo": {
     "status": "ok",
     "timestamp": 1729671659600,
     "user_tz": -180,
     "elapsed": 18534,
     "user": {
      "displayName": "Tzach Larboni",
      "userId": "10599212143682672342"
     }
    }
   },
   "outputs": [
    {
     "name": "stderr",
     "output_type": "stream",
     "text": [
      "/Users/admin/.local/lib/python3.10/site-packages/pandas/core/arrays/masked.py:60: UserWarning: Pandas requires version '1.3.6' or newer of 'bottleneck' (version '1.3.5' currently installed).\n",
      "  from pandas.core import (\n"
     ]
    }
   ],
   "source": [
    "import matplotlib.pyplot as plt\n",
    "import logging\n",
    "import numpy as np\n",
    "import pandas as pd\n",
    "import os\n",
    "import time\n",
    "import pickle\n",
    "\n",
    "import tensorflow as tf\n",
    "from tensorflow.keras.models import Sequential, Model\n",
    "from tensorflow.keras.layers import Input, Embedding, LSTM, Dense, Flatten, Concatenate, Dropout, SimpleRNN\n",
    "from tensorflow.keras.optimizers import Adam\n",
    "\n",
    "from sklearn.preprocessing import MinMaxScaler, StandardScaler\n",
    "from sklearn.metrics import mean_squared_error, mean_absolute_error, r2_score\n",
    "from sklearn.model_selection import train_test_split\n",
    "\n",
    "from tqdm import tqdm\n",
    "from IPython.display import display\n",
    "from tabulate import tabulate\n",
    "import warnings\n",
    "warnings.filterwarnings('ignore')\n"
   ]
  },
  {
   "cell_type": "code",
   "execution_count": 2,
   "outputs": [
    {
     "name": "stdout",
     "output_type": "stream",
     "text": [
      "2.12.0\n",
      "Num GPUs Available:  1\n"
     ]
    }
   ],
   "source": [
    "## ENABLE GPU Acceleration on M2\n",
    "gpus = tf.config.list_physical_devices('GPU')\n",
    "if gpus:\n",
    "    try:\n",
    "        for gpu in gpus:\n",
    "            tf.config.experimental.set_memory_growth(gpu, True)\n",
    "    except RuntimeError as e:\n",
    "        print(e)\n",
    "\n",
    "print(tf.__version__)\n",
    "print(\"Num GPUs Available: \", len(tf.config.list_physical_devices('GPU')))\n"
   ],
   "metadata": {
    "colab": {
     "base_uri": "https://localhost:8080/"
    },
    "id": "vho9vDmF3NGv",
    "executionInfo": {
     "status": "ok",
     "timestamp": 1729671779073,
     "user_tz": -180,
     "elapsed": 570,
     "user": {
      "displayName": "Tzach Larboni",
      "userId": "10599212143682672342"
     }
    },
    "outputId": "c6b173ba-f056-48ae-c8d6-62c49d658b7e"
   }
  },
  {
   "cell_type": "markdown",
   "metadata": {
    "id": "zytEjc-WNS57"
   },
   "source": [
    "# Constants"
   ]
  },
  {
   "cell_type": "code",
   "execution_count": 3,
   "metadata": {
    "id": "BxLLTPDgM5rk",
    "executionInfo": {
     "status": "ok",
     "timestamp": 1729671822703,
     "user_tz": -180,
     "elapsed": 619,
     "user": {
      "displayName": "Tzach Larboni",
      "userId": "10599212143682672342"
     }
    }
   },
   "outputs": [],
   "source": [
    "rolling_window = 10\n",
    "\n",
    "dfs_cats = ['reb', 'pts', 'ast', 'stl', 'blk', 'tov']\n",
    "same_game_cols = ['minutes_played', 'fgm', 'fga', 'fg_pct', 'fg3m', 'fg3a', 'fg3_pct', 'ftm', 'fta', 'ft_pct', 'oreb',\n",
    "                   'dreb', 'reb', 'ast', 'tov', 'stl', 'blk', 'blka', 'pf', 'pfd', 'pts', 'plus_minus',\n",
    "                   'nba_fantasy_pts', 'dd2', 'td3', 'wnba_fantasy_pts', 'available_flag', 'e_off_rating', 'off_rating',\n",
    "                   'sp_work_off_rating', 'e_def_rating', 'def_rating', 'sp_work_def_rating', 'e_net_rating',\n",
    "                   'net_rating', 'sp_work_net_rating', 'ast_pct', 'ast_to', 'ast_ratio', 'oreb_pct', 'dreb_pct',\n",
    "                   'reb_pct', 'tm_tov_pct', 'e_tov_pct', 'efg_pct', 'ts_pct', 'usg_pct_x', 'e_usg_pct', 'e_pace',\n",
    "                   'pace', 'pace_per40', 'sp_work_pace', 'pie', 'poss', 'fgm_pg', 'fga_pg', 'pct_fga_2pt',\n",
    "                   'pct_fga_3pt', 'pct_pts_2pt', 'pct_pts_2pt_mr', 'pct_pts_3pt', 'pct_pts_fb', 'pct_pts_ft',\n",
    "                   'pct_pts_off_tov', 'pct_pts_paint', 'pct_ast_2pm', 'pct_uast_2pm', 'pct_ast_3pm', 'pct_uast_3pm',\n",
    "                   'pct_ast_fgm', 'pct_uast_fgm', 'pct_fgm', 'pct_fga', 'pct_fg3m', 'pct_fg3a', 'pct_ftm', 'pct_fta',\n",
    "                   'pct_oreb', 'pct_dreb', 'pct_reb', 'pct_ast', 'pct_tov', 'pct_stl', 'pct_blk', 'pct_blka', 'pct_pf',\n",
    "                   'pct_pfd', 'pct_pts', 'usage_rate', 'fp_draftkings', 'fp_fanduel',\n",
    "                   'fp_yahoo']\n"
   ]
  },
  {
   "cell_type": "code",
   "execution_count": 4,
   "metadata": {
    "id": "Lln06Im0MuGI",
    "executionInfo": {
     "status": "ok",
     "timestamp": 1729671822705,
     "user_tz": -180,
     "elapsed": 12,
     "user": {
      "displayName": "Tzach Larboni",
      "userId": "10599212143682672342"
     }
    }
   },
   "outputs": [],
   "source": [
    "def assign_league_weeks(df):\n",
    "    df['week'] = df['game_date'].dt.isocalendar().week\n",
    "    df['season_start'] = df.groupby('season_year')['game_date'].transform('min')\n",
    "    df['season_week'] = ((df['game_date'] - df['season_start']).dt.days // 7) + 1\n",
    "    df = df.drop(columns=['season_start', 'week'])\n",
    "    df = df.rename(columns={'season_week': 'league_week'})\n",
    "    return df"
   ]
  },
  {
   "cell_type": "code",
   "source": [
    "def rolling_train_test_rnn(X, y, df, num_weeks_for_training=4, time_steps=4, save_model=False, model_dir='models'):\n",
    "    os.makedirs(model_dir, exist_ok=True)\n",
    "\n",
    "    # Initialize lists to store predictions and true values\n",
    "    all_predictions = []\n",
    "    all_true_values = []\n",
    "    all_game_ids = []\n",
    "    all_game_dates = []\n",
    "    all_player_ids = []\n",
    "    all_fanduel_salaries = []\n",
    "    all_draftkings_salaries = []\n",
    "    all_yahoo_salaries = []\n",
    "    all_fanduel_positions = []\n",
    "    all_draftkings_positions = []\n",
    "    all_yahoo_positions = []\n",
    "\n",
    "    scaler = MinMaxScaler(feature_range=(0, 1))\n",
    "    unique_weeks = df['league_week'].unique()\n",
    "\n",
    "    for current_week in unique_weeks:\n",
    "        start_week = current_week - num_weeks_for_training\n",
    "        training_weeks = list(range(start_week, current_week))\n",
    "\n",
    "        # Select training data (previous 4 weeks)\n",
    "        X_train = X[X['league_week'].isin(training_weeks)]\n",
    "        y_train = y.loc[X_train.index]\n",
    "\n",
    "        # Select test data (current week)\n",
    "        X_test = X[X['league_week'] == current_week]\n",
    "        y_test = y.loc[X_test.index]\n",
    "\n",
    "        if X_train.empty or X_test.empty:\n",
    "            continue\n",
    "\n",
    "        identifying_test_data = X_test[['player_name', 'game_date', 'game_id']]\n",
    "        X_train = X_train.drop(columns=['game_date', 'game_id'])\n",
    "        X_test = X_test.drop(columns=['game_date', 'game_id'])\n",
    "\n",
    "        # Scale data\n",
    "        X_train_scaled = scaler.fit_transform(X_train)\n",
    "        X_test_scaled = scaler.transform(X_test)\n",
    "\n",
    "        # Create sequences for training\n",
    "        X_train_seq, y_train_seq = create_sequences(X_train_scaled, y_train, time_steps)\n",
    "        X_test_seq, y_test_seq = create_sequences(X_test_scaled, y_test, time_steps)\n",
    "\n",
    "        # Build and train the RNN model\n",
    "        model = build_rnn_model((X_train_seq.shape[1], X_train_seq.shape[2]))\n",
    "        model.fit(X_train_seq, y_train_seq, epochs=10, batch_size=32, verbose=0)\n",
    "\n",
    "        # Make predictions\n",
    "        y_pred = model.predict(X_test_seq)\n",
    "\n",
    "        # Store the predictions and true values\n",
    "        all_predictions.extend(y_pred.flatten())\n",
    "        all_true_values.extend(y_test_seq)\n",
    "        all_game_ids.extend(list(identifying_test_data['game_id'])[time_steps:])\n",
    "        all_game_dates.extend(list(identifying_test_data['game_date'])[time_steps:])\n",
    "        all_player_ids.extend(list(identifying_test_data['player_name'])[time_steps:])\n",
    "        all_fanduel_salaries.extend(X_test['salary-draftkings'].values[time_steps:])\n",
    "        all_draftkings_salaries.extend(X_test['salary-draftkings'].values[time_steps:])\n",
    "        all_yahoo_salaries.extend(X_test['salary-yahoo'].values[time_steps:])\n",
    "        all_fanduel_positions.extend(X_test['pos-draftkings'].values[time_steps:])\n",
    "        all_draftkings_positions.extend(X_test['pos-draftkings'].values[time_steps:])\n",
    "        all_yahoo_positions.extend(X_test['pos-yahoo'].values[time_steps:])\n",
    "\n",
    "        if save_model:\n",
    "            model_filename = f'{model_dir}/rnn_model_week_{current_week}_trained_on_{start_week}_to_{current_week - 1}.h5'\n",
    "            model.save(model_filename)\n",
    "\n",
    "        mse = mean_squared_error(y_test_seq, y_pred)\n",
    "        rmse = np.sqrt(mse)\n",
    "        r2 = r2_score(y_test_seq, y_pred)\n",
    "\n",
    "        print(f'Training weeks: {training_weeks}')\n",
    "        print(f'Test week: {current_week}')\n",
    "        print(f'Mean Squared Error (MSE): {mse:.2f}')\n",
    "        print(f'Root Mean Squared Error (RMSE): {rmse:.2f}')\n",
    "        print(f'R-squared (R²): {r2:.2f}')\n",
    "        print('')\n",
    "\n",
    "    results_df = pd.DataFrame({\n",
    "        'player_name': all_player_ids,\n",
    "        'game_id': all_game_ids,\n",
    "        'game_date': all_game_dates,\n",
    "        'y': all_true_values,\n",
    "        'y_pred': all_predictions,\n",
    "        'fanduel_salary': all_fanduel_salaries,\n",
    "        'draftkings_salary': all_draftkings_salaries,\n",
    "        'yahoo_salary': all_yahoo_salaries,\n",
    "        'fanduel_position': all_fanduel_positions,\n",
    "        'draftkings_position': all_draftkings_positions,\n",
    "        'yahoo_position': all_yahoo_positions,\n",
    "    })\n",
    "\n",
    "    return results_df\n"
   ],
   "metadata": {
    "id": "vzwxTK2UdX-6",
    "executionInfo": {
     "status": "ok",
     "timestamp": 1729671822705,
     "user_tz": -180,
     "elapsed": 11,
     "user": {
      "displayName": "Tzach Larboni",
      "userId": "10599212143682672342"
     }
    }
   },
   "execution_count": 5,
   "outputs": []
  },
  {
   "cell_type": "code",
   "source": [
    "def calculate_fp_fanduel(row, pred_mode=False):\n",
    "    pred = '_pred' if pred_mode else ''\n",
    "    return (row[f'pts{pred}'] +\n",
    "            row[f'reb{pred}'] * 1.2 +\n",
    "            row[f'ast{pred}'] * 1.5 +\n",
    "            row[f'stl{pred}'] * 3 +\n",
    "            row[f'blk{pred}'] * 3 -\n",
    "            row[f'tov{pred}'] * 1)\n",
    "\n",
    "\n",
    "def calculate_fp_yahoo(row, pred_mode=False):\n",
    "    pred = '_pred' if pred_mode else ''\n",
    "    return (row[f'pts{pred}'] +\n",
    "            row[f'reb{pred}'] * 1.2 +\n",
    "            row[f'ast{pred}'] * 1.5 +\n",
    "            row[f'stl{pred}'] * 3 +\n",
    "            row[f'blk{pred}'] * 3 -\n",
    "            row[f'tov{pred}'] * 1)\n",
    "\n",
    "\n",
    "def calculate_fp_draftkings(row, pred_mode=False):\n",
    "    pred = '_pred' if pred_mode else ''\n",
    "    fp = (row[f'pts{pred}'] +\n",
    "          row[f'reb{pred}'] * 1.25 +\n",
    "          row[f'ast{pred}'] * 1.5 +\n",
    "          row[f'stl{pred}'] * 2 +\n",
    "          row[f'blk{pred}'] * 2 -\n",
    "          row[f'tov{pred}'] * 0.5)\n",
    "\n",
    "    # Calculate Double-Double and Triple-Double bonuses\n",
    "    stats = [row[f'pts{pred}'], row[f'reb{pred}'], row[f'ast{pred}'], row[f'stl{pred}'], row[f'blk{pred}']]\n",
    "    double_double = sum([1 for stat in stats if stat >= 10]) >= 2\n",
    "    triple_double = sum([1 for stat in stats if stat >= 10]) >= 3\n",
    "\n",
    "    if double_double:\n",
    "        fp += 1.5\n",
    "    if triple_double:\n",
    "        fp += 3\n",
    "\n",
    "    return fp\n",
    "\n",
    "def clean_numeric_columns(df, columns):\n",
    "    \"\"\"\n",
    "    Convert columns to numeric, forcing errors to NaN, and handle specific non-numeric values.\n",
    "    \"\"\"\n",
    "    for col in columns:\n",
    "        df[col] = pd.to_numeric(df[col], errors='coerce')  # Convert non-numeric to NaN\n",
    "    return df\n",
    "\n",
    "def add_time_dependent_features(df, rolling_window):\n",
    "    for col in same_game_cols:\n",
    "        logging.info(f\"Adding features to {col}\")\n",
    "        gb = df.groupby('player_name')[col]\n",
    "        df[f'{col}_rolling_{rolling_window}_day_avg'] = gb.transform(\n",
    "            lambda x: x.rolling(rolling_window, min_periods=1).mean())\n",
    "        df[f'{col}_rolling_{rolling_window}_day_std'] = gb.transform(\n",
    "            lambda x: x.rolling(rolling_window, min_periods=1).std())\n",
    "        df[f'{col}_lag_1'] = gb.shift(1)\n",
    "        df[f'{col}_lag_2'] = gb.shift(2)\n",
    "        df[f'{col}_lag_3'] = gb.shift(3)\n",
    "        df[f'{col}_diff_1'] = gb.diff(1)\n",
    "        df[f'{col}_diff_2'] = gb.diff(2)\n",
    "        df[f'{col}_diff_3'] = gb.diff(3)\n",
    "    return df\n"
   ],
   "metadata": {
    "id": "XZw5FAU_dYDr",
    "executionInfo": {
     "status": "ok",
     "timestamp": 1729671822706,
     "user_tz": -180,
     "elapsed": 11,
     "user": {
      "displayName": "Tzach Larboni",
      "userId": "10599212143682672342"
     }
    }
   },
   "execution_count": 6,
   "outputs": []
  },
  {
   "cell_type": "code",
   "source": [],
   "metadata": {
    "id": "-2LdjpGHdYFs",
    "executionInfo": {
     "status": "ok",
     "timestamp": 1729671822707,
     "user_tz": -180,
     "elapsed": 11,
     "user": {
      "displayName": "Tzach Larboni",
      "userId": "10599212143682672342"
     }
    }
   },
   "execution_count": 6,
   "outputs": []
  },
  {
   "cell_type": "markdown",
   "metadata": {
    "id": "0Z7UmbmYNcwo"
   },
   "source": [
    "# Load"
   ]
  },
  {
   "cell_type": "code",
   "execution_count": 8,
   "metadata": {
    "collapsed": true,
    "id": "LfdQF13zNebn",
    "executionInfo": {
     "status": "ok",
     "timestamp": 1729671823343,
     "user_tz": -180,
     "elapsed": 646,
     "user": {
      "displayName": "Tzach Larboni",
      "userId": "10599212143682672342"
     }
    }
   },
   "outputs": [],
   "source": [
    "season = '2022-23'\n",
    "path = f'data/merged_gamelogs_salaries_{season}.csv'\n",
    "df = pd.read_csv(path)\n",
    "df = df.drop('Unnamed: 0', axis=1)\n"
   ]
  },
  {
   "cell_type": "code",
   "source": [
    "df['game_date'] = pd.to_datetime(df['game_date'])\n",
    "df['game_date'].hist()\n",
    "df = add_time_dependent_features(df, rolling_window=10)\n",
    "df = clean_numeric_columns(df, same_game_cols)\n",
    "\n",
    "dff = df[(df['game_date'] >= '2023-01-01') & (df['game_date'] < '2023-04-01')]\n",
    "dff['game_date'].hist()"
   ],
   "metadata": {
    "colab": {
     "base_uri": "https://localhost:8080/",
     "height": 448
    },
    "id": "7ywuV3ybtrmT",
    "executionInfo": {
     "status": "ok",
     "timestamp": 1729671869544,
     "user_tz": -180,
     "elapsed": 46205,
     "user": {
      "displayName": "Tzach Larboni",
      "userId": "10599212143682672342"
     }
    },
    "outputId": "cc2adce5-161e-40e4-fb2c-278487eae344"
   },
   "execution_count": 9,
   "outputs": [
    {
     "data": {
      "text/plain": "<Axes: >"
     },
     "execution_count": 9,
     "metadata": {},
     "output_type": "execute_result"
    },
    {
     "data": {
      "text/plain": "<Figure size 432x288 with 1 Axes>",
      "image/png": "[encoded data removed]"
     },
     "metadata": {
      "needs_background": "light"
     },
     "output_type": "display_data"
    }
   ]
  },
  {
   "cell_type": "code",
   "source": [
    "dff['salary-yahoo'].quantile(0.5)"
   ],
   "metadata": {
    "colab": {
     "base_uri": "https://localhost:8080/"
    },
    "id": "CwKQrnjKU2e9",
    "outputId": "04a31740-3be9-42ee-ae8c-c387de31b162",
    "executionInfo": {
     "status": "ok",
     "timestamp": 1729672137887,
     "user_tz": -180,
     "elapsed": 551,
     "user": {
      "displayName": "Tzach Larboni",
      "userId": "10599212143682672342"
     }
    }
   },
   "execution_count": 10,
   "outputs": [
    {
     "data": {
      "text/plain": "12.0"
     },
     "execution_count": 10,
     "metadata": {},
     "output_type": "execute_result"
    }
   ]
  },
  {
   "cell_type": "code",
   "source": [
    "dff = dff[(dff['salary-draftkings'] > dff['salary-draftkings'].quantile(0.5)) & (dff['salary-fanduel'] > dff['salary-fanduel'].quantile(0.5)) & (dff['salary-yahoo'] > dff['salary-yahoo'].quantile(0.5))]"
   ],
   "metadata": {
    "id": "zlIqIDKbmRMh",
    "executionInfo": {
     "status": "ok",
     "timestamp": 1729672139489,
     "user_tz": -180,
     "elapsed": 462,
     "user": {
      "displayName": "Tzach Larboni",
      "userId": "10599212143682672342"
     }
    }
   },
   "execution_count": 11,
   "outputs": []
  },
  {
   "cell_type": "code",
   "source": [
    "dff['game_date'] = pd.to_datetime(dff['game_date'])\n",
    "metadata = dff[['game_date', 'player_name']].copy()\n",
    "dff = clean_numeric_columns(dff, same_game_cols)\n",
    "dff['days_since_start'] = (dff['game_date'] - dff['game_date'].min()).dt.days  # Convert to days\n",
    "dff = dff.drop(columns=['game_date'])  # Drop the original 'game_date' column after conversion"
   ],
   "metadata": {
    "collapsed": true,
    "id": "FfynDIpGMlJu",
    "executionInfo": {
     "status": "ok",
     "timestamp": 1729672139916,
     "user_tz": -180,
     "elapsed": 430,
     "user": {
      "displayName": "Tzach Larboni",
      "userId": "10599212143682672342"
     }
    }
   },
   "execution_count": 12,
   "outputs": []
  },
  {
   "cell_type": "code",
   "source": [],
   "metadata": {
    "id": "o7MYibphgPLy",
    "executionInfo": {
     "status": "ok",
     "timestamp": 1729672148388,
     "user_tz": -180,
     "elapsed": 521,
     "user": {
      "displayName": "Tzach Larboni",
      "userId": "10599212143682672342"
     }
    }
   },
   "execution_count": 12,
   "outputs": []
  },
  {
   "cell_type": "markdown",
   "source": [
    "## Missing values"
   ],
   "metadata": {
    "id": "3FTF7xG9NdEP"
   }
  },
  {
   "cell_type": "code",
   "source": [
    "len(dff)"
   ],
   "metadata": {
    "colab": {
     "base_uri": "https://localhost:8080/"
    },
    "id": "iV9oqeQhLqUS",
    "executionInfo": {
     "status": "ok",
     "timestamp": 1729672149531,
     "user_tz": -180,
     "elapsed": 5,
     "user": {
      "displayName": "Tzach Larboni",
      "userId": "10599212143682672342"
     }
    },
    "outputId": "f6788d22-2511-46fa-e0fc-923e0987248a"
   },
   "execution_count": 13,
   "outputs": [
    {
     "data": {
      "text/plain": "5378"
     },
     "execution_count": 13,
     "metadata": {},
     "output_type": "execute_result"
    }
   ]
  },
  {
   "cell_type": "code",
   "source": [
    "dff.isna().sum().sort_values(ascending=False).head(30)"
   ],
   "metadata": {
    "colab": {
     "base_uri": "https://localhost:8080/",
     "height": 1000
    },
    "id": "jN8pd6ThHsrr",
    "executionInfo": {
     "status": "ok",
     "timestamp": 1729672151277,
     "user_tz": -180,
     "elapsed": 383,
     "user": {
      "displayName": "Tzach Larboni",
      "userId": "10599212143682672342"
     }
    },
    "outputId": "173ac70d-db05-453d-d0f8-651e52c1fe4e"
   },
   "execution_count": 14,
   "outputs": [
    {
     "data": {
      "text/plain": "e_off_rating_diff_3      120\ne_usg_pct_diff_3         120\nfga_lag_3                120\ne_usg_pct_lag_3          120\nfga_diff_3               120\ne_def_rating_diff_3      120\nusg_pct_x_diff_3         120\nstl_diff_3               120\nusg_pct_x_lag_3          120\nfg_pct_lag_3             120\npct_fg3a_lag_3           120\npct_fga_lag_3            120\nfg_pct_diff_3            120\npct_oreb_diff_3          120\nts_pct_diff_3            120\nnba_fantasy_pts_lag_3    120\nts_pct_lag_3             120\nfg3m_lag_3               120\nefg_pct_diff_3           120\nfg3m_diff_3              120\nstl_lag_3                120\nefg_pct_lag_3            120\ndef_rating_lag_3         120\ne_def_rating_lag_3       120\ne_pace_lag_3             120\npct_reb_diff_3           120\nfgm_diff_3               120\npct_reb_lag_3            120\npie_lag_3                120\nblka_lag_3               120\ndtype: int64"
     },
     "execution_count": 14,
     "metadata": {},
     "output_type": "execute_result"
    }
   ]
  },
  {
   "cell_type": "code",
   "source": [
    "# prompt: show only rows and columns with missing values in dff\n",
    "\n",
    "# Find rows and columns with missing values\n",
    "rows_with_missing = dff[dff.isnull().any(axis=1)]\n",
    "cols_with_missing = dff.columns[dff.isnull().any()]\n",
    "\n",
    "# Show only rows and columns with missing values\n",
    "dff_missing = dff.loc[dff.isnull().any(axis=1), dff.isnull().any()]"
   ],
   "metadata": {
    "id": "2jWw6G6RCJ62",
    "executionInfo": {
     "status": "ok",
     "timestamp": 1729672154677,
     "user_tz": -180,
     "elapsed": 1527,
     "user": {
      "displayName": "Tzach Larboni",
      "userId": "10599212143682672342"
     }
    }
   },
   "execution_count": 15,
   "outputs": []
  },
  {
   "cell_type": "code",
   "source": [
    "dff_missing"
   ],
   "metadata": {
    "colab": {
     "base_uri": "https://localhost:8080/",
     "height": 443
    },
    "id": "ez0xzTXxEZP3",
    "executionInfo": {
     "status": "ok",
     "timestamp": 1729672154677,
     "user_tz": -180,
     "elapsed": 9,
     "user": {
      "displayName": "Tzach Larboni",
      "userId": "10599212143682672342"
     }
    },
    "outputId": "12b565f2-da4a-4dc9-925e-bece56a5c1e8"
   },
   "execution_count": 16,
   "outputs": [
    {
     "data": {
      "text/plain": "       minutes_played_rolling_10_day_std  minutes_played_lag_1  \\\n1476                            3.859363             35.716667   \n1492                            1.850263             34.416667   \n1506                            3.476608             38.916667   \n1546                                 NaN                   NaN   \n1626                            5.177203             19.266667   \n...                                  ...                   ...   \n11428                           3.401626             25.798333   \n12191                                NaN                   NaN   \n12695                           9.958421             29.366667   \n12970                           7.046282             15.283333   \n13855                                NaN                   NaN   \n\n       minutes_played_lag_2  minutes_played_lag_3  minutes_played_diff_1  \\\n1476              37.276667                   NaN              -5.766667   \n1492                    NaN                   NaN              -2.616667   \n1506                    NaN                   NaN              -4.916667   \n1546                    NaN                   NaN                    NaN   \n1626              22.133333                   NaN              10.050000   \n...                     ...                   ...                    ...   \n11428             32.550000                   NaN               2.651667   \n12191                   NaN                   NaN                    NaN   \n12695                   NaN                   NaN             -14.083333   \n12970             29.366667                   NaN               6.600000   \n13855                   NaN                   NaN                    NaN   \n\n       minutes_played_diff_2  minutes_played_diff_3  fgm_rolling_10_day_std  \\\n1476               -7.326667                    NaN                2.645751   \n1492                     NaN                    NaN                0.707107   \n1506                     NaN                    NaN                4.949747   \n1546                     NaN                    NaN                     NaN   \n1626                7.183333                    NaN                1.732051   \n...                      ...                    ...                     ...   \n11428              -4.100000                    NaN                1.732051   \n12191                    NaN                    NaN                     NaN   \n12695                    NaN                    NaN                2.828427   \n12970              -7.483333                    NaN                2.309401   \n13855                    NaN                    NaN                     NaN   \n\n       fgm_lag_1  fgm_lag_2  ...  fp_fanduel_diff_1  fp_fanduel_diff_2  \\\n1476        11.0        7.0  ...              -26.5               -3.0   \n1492         3.0        NaN  ...               -5.9                NaN   \n1506        12.0        NaN  ...              -21.3                NaN   \n1546         NaN        NaN  ...                NaN                NaN   \n1626         7.0        7.0  ...               18.9               -3.2   \n...          ...        ...  ...                ...                ...   \n11428        6.0        3.0  ...               -8.4               -5.2   \n12191        NaN        NaN  ...                NaN                NaN   \n12695        6.0        NaN  ...              -16.8                NaN   \n12970        2.0        6.0  ...                3.3              -13.5   \n13855        NaN        NaN  ...                NaN                NaN   \n\n       fp_fanduel_diff_3  fp_yahoo_rolling_10_day_std  fp_yahoo_lag_1  \\\n1476                 NaN                    14.511490            48.4   \n1492                 NaN                     4.171930            24.1   \n1506                 NaN                    15.061374            41.7   \n1546                 NaN                          NaN             NaN   \n1626                 NaN                    11.943338            23.9   \n...                  ...                          ...             ...   \n11428                NaN                     4.239497            41.4   \n12191                NaN                          NaN             NaN   \n12695                NaN                    11.879394            29.4   \n12970                NaN                     8.901124            12.6   \n13855                NaN                          NaN             NaN   \n\n       fp_yahoo_lag_2  fp_yahoo_lag_3  fp_yahoo_diff_1  fp_yahoo_diff_2  \\\n1476             24.9             NaN            -26.5             -3.0   \n1492              NaN             NaN             -5.9              NaN   \n1506              NaN             NaN            -21.3              NaN   \n1546              NaN             NaN              NaN              NaN   \n1626             46.0             NaN             18.9             -3.2   \n...               ...             ...              ...              ...   \n11428            38.2             NaN             -8.4             -5.2   \n12191             NaN             NaN              NaN              NaN   \n12695             NaN             NaN            -16.8              NaN   \n12970            29.4             NaN              3.3            -13.5   \n13855             NaN             NaN              NaN              NaN   \n\n       fp_yahoo_diff_3  \n1476               NaN  \n1492               NaN  \n1506               NaN  \n1546               NaN  \n1626               NaN  \n...                ...  \n11428              NaN  \n12191              NaN  \n12695              NaN  \n12970              NaN  \n13855              NaN  \n\n[120 rows x 644 columns]",
      "text/html": "<div>\n<style scoped>\n    .dataframe tbody tr th:only-of-type {\n        vertical-align: middle;\n    }\n\n    .dataframe tbody tr th {\n        vertical-align: top;\n    }\n\n    .dataframe thead th {\n        text-align: right;\n    }\n</style>\n<table border=\"1\" class=\"dataframe\">\n  <thead>\n    <tr style=\"text-align: right;\">\n      <th></th>\n      <th>minutes_played_rolling_10_day_std</th>\n      <th>minutes_played_lag_1</th>\n      <th>minutes_played_lag_2</th>\n      <th>minutes_played_lag_3</th>\n      <th>minutes_played_diff_1</th>\n      <th>minutes_played_diff_2</th>\n      <th>minutes_played_diff_3</th>\n      <th>fgm_rolling_10_day_std</th>\n      <th>fgm_lag_1</th>\n      <th>fgm_lag_2</th>\n      <th>...</th>\n      <th>fp_fanduel_diff_1</th>\n      <th>fp_fanduel_diff_2</th>\n      <th>fp_fanduel_diff_3</th>\n      <th>fp_yahoo_rolling_10_day_std</th>\n      <th>fp_yahoo_lag_1</th>\n      <th>fp_yahoo_lag_2</th>\n      <th>fp_yahoo_lag_3</th>\n      <th>fp_yahoo_diff_1</th>\n      <th>fp_yahoo_diff_2</th>\n      <th>fp_yahoo_diff_3</th>\n    </tr>\n  </thead>\n  <tbody>\n    <tr>\n      <th>1476</th>\n      <td>3.859363</td>\n      <td>35.716667</td>\n      <td>37.276667</td>\n      <td>NaN</td>\n      <td>-5.766667</td>\n      <td>-7.326667</td>\n      <td>NaN</td>\n      <td>2.645751</td>\n      <td>11.0</td>\n      <td>7.0</td>\n      <td>...</td>\n      <td>-26.5</td>\n      <td>-3.0</td>\n      <td>NaN</td>\n      <td>14.511490</td>\n      <td>48.4</td>\n      <td>24.9</td>\n      <td>NaN</td>\n      <td>-26.5</td>\n      <td>-3.0</td>\n      <td>NaN</td>\n    </tr>\n    <tr>\n      <th>1492</th>\n      <td>1.850263</td>\n      <td>34.416667</td>\n      <td>NaN</td>\n      <td>NaN</td>\n      <td>-2.616667</td>\n      <td>NaN</td>\n      <td>NaN</td>\n      <td>0.707107</td>\n      <td>3.0</td>\n      <td>NaN</td>\n      <td>...</td>\n      <td>-5.9</td>\n      <td>NaN</td>\n      <td>NaN</td>\n      <td>4.171930</td>\n      <td>24.1</td>\n      <td>NaN</td>\n      <td>NaN</td>\n      <td>-5.9</td>\n      <td>NaN</td>\n      <td>NaN</td>\n    </tr>\n    <tr>\n      <th>1506</th>\n      <td>3.476608</td>\n      <td>38.916667</td>\n      <td>NaN</td>\n      <td>NaN</td>\n      <td>-4.916667</td>\n      <td>NaN</td>\n      <td>NaN</td>\n      <td>4.949747</td>\n      <td>12.0</td>\n      <td>NaN</td>\n      <td>...</td>\n      <td>-21.3</td>\n      <td>NaN</td>\n      <td>NaN</td>\n      <td>15.061374</td>\n      <td>41.7</td>\n      <td>NaN</td>\n      <td>NaN</td>\n      <td>-21.3</td>\n      <td>NaN</td>\n      <td>NaN</td>\n    </tr>\n    <tr>\n      <th>1546</th>\n      <td>NaN</td>\n      <td>NaN</td>\n      <td>NaN</td>\n      <td>NaN</td>\n      <td>NaN</td>\n      <td>NaN</td>\n      <td>NaN</td>\n      <td>NaN</td>\n      <td>NaN</td>\n      <td>NaN</td>\n      <td>...</td>\n      <td>NaN</td>\n      <td>NaN</td>\n      <td>NaN</td>\n      <td>NaN</td>\n      <td>NaN</td>\n      <td>NaN</td>\n      <td>NaN</td>\n      <td>NaN</td>\n      <td>NaN</td>\n      <td>NaN</td>\n    </tr>\n    <tr>\n      <th>1626</th>\n      <td>5.177203</td>\n      <td>19.266667</td>\n      <td>22.133333</td>\n      <td>NaN</td>\n      <td>10.050000</td>\n      <td>7.183333</td>\n      <td>NaN</td>\n      <td>1.732051</td>\n      <td>7.0</td>\n      <td>7.0</td>\n      <td>...</td>\n      <td>18.9</td>\n      <td>-3.2</td>\n      <td>NaN</td>\n      <td>11.943338</td>\n      <td>23.9</td>\n      <td>46.0</td>\n      <td>NaN</td>\n      <td>18.9</td>\n      <td>-3.2</td>\n      <td>NaN</td>\n    </tr>\n    <tr>\n      <th>...</th>\n      <td>...</td>\n      <td>...</td>\n      <td>...</td>\n      <td>...</td>\n      <td>...</td>\n      <td>...</td>\n      <td>...</td>\n      <td>...</td>\n      <td>...</td>\n      <td>...</td>\n      <td>...</td>\n      <td>...</td>\n      <td>...</td>\n      <td>...</td>\n      <td>...</td>\n      <td>...</td>\n      <td>...</td>\n      <td>...</td>\n      <td>...</td>\n      <td>...</td>\n      <td>...</td>\n    </tr>\n    <tr>\n      <th>11428</th>\n      <td>3.401626</td>\n      <td>25.798333</td>\n      <td>32.550000</td>\n      <td>NaN</td>\n      <td>2.651667</td>\n      <td>-4.100000</td>\n      <td>NaN</td>\n      <td>1.732051</td>\n      <td>6.0</td>\n      <td>3.0</td>\n      <td>...</td>\n      <td>-8.4</td>\n      <td>-5.2</td>\n      <td>NaN</td>\n      <td>4.239497</td>\n      <td>41.4</td>\n      <td>38.2</td>\n      <td>NaN</td>\n      <td>-8.4</td>\n      <td>-5.2</td>\n      <td>NaN</td>\n    </tr>\n    <tr>\n      <th>12191</th>\n      <td>NaN</td>\n      <td>NaN</td>\n      <td>NaN</td>\n      <td>NaN</td>\n      <td>NaN</td>\n      <td>NaN</td>\n      <td>NaN</td>\n      <td>NaN</td>\n      <td>NaN</td>\n      <td>NaN</td>\n      <td>...</td>\n      <td>NaN</td>\n      <td>NaN</td>\n      <td>NaN</td>\n      <td>NaN</td>\n      <td>NaN</td>\n      <td>NaN</td>\n      <td>NaN</td>\n      <td>NaN</td>\n      <td>NaN</td>\n      <td>NaN</td>\n    </tr>\n    <tr>\n      <th>12695</th>\n      <td>9.958421</td>\n      <td>29.366667</td>\n      <td>NaN</td>\n      <td>NaN</td>\n      <td>-14.083333</td>\n      <td>NaN</td>\n      <td>NaN</td>\n      <td>2.828427</td>\n      <td>6.0</td>\n      <td>NaN</td>\n      <td>...</td>\n      <td>-16.8</td>\n      <td>NaN</td>\n      <td>NaN</td>\n      <td>11.879394</td>\n      <td>29.4</td>\n      <td>NaN</td>\n      <td>NaN</td>\n      <td>-16.8</td>\n      <td>NaN</td>\n      <td>NaN</td>\n    </tr>\n    <tr>\n      <th>12970</th>\n      <td>7.046282</td>\n      <td>15.283333</td>\n      <td>29.366667</td>\n      <td>NaN</td>\n      <td>6.600000</td>\n      <td>-7.483333</td>\n      <td>NaN</td>\n      <td>2.309401</td>\n      <td>2.0</td>\n      <td>6.0</td>\n      <td>...</td>\n      <td>3.3</td>\n      <td>-13.5</td>\n      <td>NaN</td>\n      <td>8.901124</td>\n      <td>12.6</td>\n      <td>29.4</td>\n      <td>NaN</td>\n      <td>3.3</td>\n      <td>-13.5</td>\n      <td>NaN</td>\n    </tr>\n    <tr>\n      <th>13855</th>\n      <td>NaN</td>\n      <td>NaN</td>\n      <td>NaN</td>\n      <td>NaN</td>\n      <td>NaN</td>\n      <td>NaN</td>\n      <td>NaN</td>\n      <td>NaN</td>\n      <td>NaN</td>\n      <td>NaN</td>\n      <td>...</td>\n      <td>NaN</td>\n      <td>NaN</td>\n      <td>NaN</td>\n      <td>NaN</td>\n      <td>NaN</td>\n      <td>NaN</td>\n      <td>NaN</td>\n      <td>NaN</td>\n      <td>NaN</td>\n      <td>NaN</td>\n    </tr>\n  </tbody>\n</table>\n<p>120 rows × 644 columns</p>\n</div>"
     },
     "execution_count": 16,
     "metadata": {},
     "output_type": "execute_result"
    }
   ]
  },
  {
   "cell_type": "code",
   "source": [
    "rows_with_missing['days_since_start'].value_counts()"
   ],
   "metadata": {
    "colab": {
     "base_uri": "https://localhost:8080/",
     "height": 1000
    },
    "id": "pxZ35JK3Lw6H",
    "executionInfo": {
     "status": "ok",
     "timestamp": 1729672157310,
     "user_tz": -180,
     "elapsed": 444,
     "user": {
      "displayName": "Tzach Larboni",
      "userId": "10599212143682672342"
     }
    },
    "outputId": "9906146c-1deb-4cac-aa67-fac6a7e99d66"
   },
   "execution_count": 17,
   "outputs": [
    {
     "data": {
      "text/plain": "days_since_start\n89    19\n75     8\n82     7\n84     6\n80     6\n87     5\n86     5\n81     5\n77     5\n88     5\n85     4\n43     3\n53     3\n59     3\n45     3\n76     3\n78     3\n79     3\n70     2\n55     2\n72     2\n7      1\n9      1\n12     1\n17     1\n19     1\n21     1\n38     1\n41     1\n64     1\n54     1\n57     1\n61     1\n62     1\n63     1\n66     1\n67     1\n68     1\n1      1\nName: count, dtype: int64"
     },
     "execution_count": 17,
     "metadata": {},
     "output_type": "execute_result"
    }
   ]
  },
  {
   "cell_type": "markdown",
   "source": [
    "Honestly, I have no idea what causes these missing values, so I'm just dropping them"
   ],
   "metadata": {
    "id": "ueL74AMLNfiU"
   }
  },
  {
   "cell_type": "code",
   "source": [
    "print(len(dff))\n",
    "dff = dff.dropna()\n",
    "print(len(dff))\n"
   ],
   "metadata": {
    "colab": {
     "base_uri": "https://localhost:8080/"
    },
    "id": "amGZJZWCNjmm",
    "executionInfo": {
     "status": "ok",
     "timestamp": 1729672160417,
     "user_tz": -180,
     "elapsed": 766,
     "user": {
      "displayName": "Tzach Larboni",
      "userId": "10599212143682672342"
     }
    },
    "outputId": "1e6fede0-d5d5-4568-88f4-e41f89a446ea"
   },
   "execution_count": 18,
   "outputs": [
    {
     "name": "stdout",
     "output_type": "stream",
     "text": [
      "5378\n",
      "5258\n"
     ]
    }
   ]
  },
  {
   "cell_type": "code",
   "source": [
    "categorical_cols = [col for col in dff.columns if dff[col].dtype == 'object']\n",
    "dff_encoded = pd.get_dummies(dff, columns=categorical_cols)"
   ],
   "metadata": {
    "id": "ke_HXSZQN0my",
    "executionInfo": {
     "status": "ok",
     "timestamp": 1729672164104,
     "user_tz": -180,
     "elapsed": 356,
     "user": {
      "displayName": "Tzach Larboni",
      "userId": "10599212143682672342"
     }
    }
   },
   "execution_count": 19,
   "outputs": []
  },
  {
   "cell_type": "code",
   "source": [
    "dff_encoded"
   ],
   "metadata": {
    "colab": {
     "base_uri": "https://localhost:8080/",
     "height": 461
    },
    "id": "adcC5HF5OI-F",
    "executionInfo": {
     "status": "ok",
     "timestamp": 1729672165829,
     "user_tz": -180,
     "elapsed": 378,
     "user": {
      "displayName": "Tzach Larboni",
      "userId": "10599212143682672342"
     }
    },
    "outputId": "67e36a83-a828-4e04-f5fe-5210b4080754"
   },
   "execution_count": 20,
   "outputs": [
    {
     "data": {
      "text/plain": "       player_id     team_id   game_id  minutes_played  fgm  fga  fg_pct  \\\n1474      203991  1610612737  22201153       19.866667    3    6   0.500   \n1481      202687  1610612756  22201160       19.700000    3    8   0.375   \n1482     1631114  1610612760  22201149       29.505000    6   10   0.600   \n1483     1628976  1610612753  22201151       26.333333    5   11   0.455   \n1488      203497  1610612750  22201157       31.100000    6    9   0.667   \n...          ...         ...       ...             ...  ...  ...     ...   \n14072     203999  1610612743  22200549       32.033333   10   13   0.769   \n14074    1627763  1610612738  22200549       19.583333    1    6   0.167   \n14078     201143  1610612738  22200549       30.100000    3   10   0.300   \n14088    1629008  1610612743  22200549       32.600000    7   13   0.538   \n14100    1628420  1610612764  22200548       25.300000    3    7   0.429   \n\n       fg3m  fg3a  fg3_pct  ...  pos-fanduel_SF/PF  pos-fanduel_SF/SG  \\\n1474      0     0    0.000  ...              False              False   \n1481      0     0    0.000  ...              False              False   \n1482      0     3    0.000  ...              False               True   \n1483      1     5    0.200  ...              False              False   \n1488      0     0    0.000  ...              False              False   \n...     ...   ...      ...  ...                ...                ...   \n14072     2     2    1.000  ...              False              False   \n14074     0     3    0.000  ...              False              False   \n14078     2     6    0.333  ...              False              False   \n14088     3     7    0.429  ...              False              False   \n14100     1     5    0.200  ...              False              False   \n\n       pos-fanduel_SG  pos-fanduel_SG/PG  pos-fanduel_SG/SF  pos-yahoo_C  \\\n1474            False              False              False         True   \n1481            False              False              False         True   \n1482            False              False              False        False   \n1483            False              False              False         True   \n1488            False              False              False         True   \n...               ...                ...                ...          ...   \n14072           False              False              False         True   \n14074           False              False              False        False   \n14078           False              False              False         True   \n14088           False              False              False        False   \n14100           False              False              False        False   \n\n       pos-yahoo_PF  pos-yahoo_PG  pos-yahoo_SF  pos-yahoo_SG  \n1474          False         False         False         False  \n1481          False         False         False         False  \n1482           True         False         False         False  \n1483          False         False         False         False  \n1488          False         False         False         False  \n...             ...           ...           ...           ...  \n14072         False         False         False         False  \n14074         False         False         False          True  \n14078         False         False         False         False  \n14088         False         False          True         False  \n14100         False          True         False         False  \n\n[5258 rows x 1158 columns]",
      "text/html": "<div>\n<style scoped>\n    .dataframe tbody tr th:only-of-type {\n        vertical-align: middle;\n    }\n\n    .dataframe tbody tr th {\n        vertical-align: top;\n    }\n\n    .dataframe thead th {\n        text-align: right;\n    }\n</style>\n<table border=\"1\" class=\"dataframe\">\n  <thead>\n    <tr style=\"text-align: right;\">\n      <th></th>\n      <th>player_id</th>\n      <th>team_id</th>\n      <th>game_id</th>\n      <th>minutes_played</th>\n      <th>fgm</th>\n      <th>fga</th>\n      <th>fg_pct</th>\n      <th>fg3m</th>\n      <th>fg3a</th>\n      <th>fg3_pct</th>\n      <th>...</th>\n      <th>pos-fanduel_SF/PF</th>\n      <th>pos-fanduel_SF/SG</th>\n      <th>pos-fanduel_SG</th>\n      <th>pos-fanduel_SG/PG</th>\n      <th>pos-fanduel_SG/SF</th>\n      <th>pos-yahoo_C</th>\n      <th>pos-yahoo_PF</th>\n      <th>pos-yahoo_PG</th>\n      <th>pos-yahoo_SF</th>\n      <th>pos-yahoo_SG</th>\n    </tr>\n  </thead>\n  <tbody>\n    <tr>\n      <th>1474</th>\n      <td>203991</td>\n      <td>1610612737</td>\n      <td>22201153</td>\n      <td>19.866667</td>\n      <td>3</td>\n      <td>6</td>\n      <td>0.500</td>\n      <td>0</td>\n      <td>0</td>\n      <td>0.000</td>\n      <td>...</td>\n      <td>False</td>\n      <td>False</td>\n      <td>False</td>\n      <td>False</td>\n      <td>False</td>\n      <td>True</td>\n      <td>False</td>\n      <td>False</td>\n      <td>False</td>\n      <td>False</td>\n    </tr>\n    <tr>\n      <th>1481</th>\n      <td>202687</td>\n      <td>1610612756</td>\n      <td>22201160</td>\n      <td>19.700000</td>\n      <td>3</td>\n      <td>8</td>\n      <td>0.375</td>\n      <td>0</td>\n      <td>0</td>\n      <td>0.000</td>\n      <td>...</td>\n      <td>False</td>\n      <td>False</td>\n      <td>False</td>\n      <td>False</td>\n      <td>False</td>\n      <td>True</td>\n      <td>False</td>\n      <td>False</td>\n      <td>False</td>\n      <td>False</td>\n    </tr>\n    <tr>\n      <th>1482</th>\n      <td>1631114</td>\n      <td>1610612760</td>\n      <td>22201149</td>\n      <td>29.505000</td>\n      <td>6</td>\n      <td>10</td>\n      <td>0.600</td>\n      <td>0</td>\n      <td>3</td>\n      <td>0.000</td>\n      <td>...</td>\n      <td>False</td>\n      <td>True</td>\n      <td>False</td>\n      <td>False</td>\n      <td>False</td>\n      <td>False</td>\n      <td>True</td>\n      <td>False</td>\n      <td>False</td>\n      <td>False</td>\n    </tr>\n    <tr>\n      <th>1483</th>\n      <td>1628976</td>\n      <td>1610612753</td>\n      <td>22201151</td>\n      <td>26.333333</td>\n      <td>5</td>\n      <td>11</td>\n      <td>0.455</td>\n      <td>1</td>\n      <td>5</td>\n      <td>0.200</td>\n      <td>...</td>\n      <td>False</td>\n      <td>False</td>\n      <td>False</td>\n      <td>False</td>\n      <td>False</td>\n      <td>True</td>\n      <td>False</td>\n      <td>False</td>\n      <td>False</td>\n      <td>False</td>\n    </tr>\n    <tr>\n      <th>1488</th>\n      <td>203497</td>\n      <td>1610612750</td>\n      <td>22201157</td>\n      <td>31.100000</td>\n      <td>6</td>\n      <td>9</td>\n      <td>0.667</td>\n      <td>0</td>\n      <td>0</td>\n      <td>0.000</td>\n      <td>...</td>\n      <td>False</td>\n      <td>False</td>\n      <td>False</td>\n      <td>False</td>\n      <td>False</td>\n      <td>True</td>\n      <td>False</td>\n      <td>False</td>\n      <td>False</td>\n      <td>False</td>\n    </tr>\n    <tr>\n      <th>...</th>\n      <td>...</td>\n      <td>...</td>\n      <td>...</td>\n      <td>...</td>\n      <td>...</td>\n      <td>...</td>\n      <td>...</td>\n      <td>...</td>\n      <td>...</td>\n      <td>...</td>\n      <td>...</td>\n      <td>...</td>\n      <td>...</td>\n      <td>...</td>\n      <td>...</td>\n      <td>...</td>\n      <td>...</td>\n      <td>...</td>\n      <td>...</td>\n      <td>...</td>\n      <td>...</td>\n    </tr>\n    <tr>\n      <th>14072</th>\n      <td>203999</td>\n      <td>1610612743</td>\n      <td>22200549</td>\n      <td>32.033333</td>\n      <td>10</td>\n      <td>13</td>\n      <td>0.769</td>\n      <td>2</td>\n      <td>2</td>\n      <td>1.000</td>\n      <td>...</td>\n      <td>False</td>\n      <td>False</td>\n      <td>False</td>\n      <td>False</td>\n      <td>False</td>\n      <td>True</td>\n      <td>False</td>\n      <td>False</td>\n      <td>False</td>\n      <td>False</td>\n    </tr>\n    <tr>\n      <th>14074</th>\n      <td>1627763</td>\n      <td>1610612738</td>\n      <td>22200549</td>\n      <td>19.583333</td>\n      <td>1</td>\n      <td>6</td>\n      <td>0.167</td>\n      <td>0</td>\n      <td>3</td>\n      <td>0.000</td>\n      <td>...</td>\n      <td>False</td>\n      <td>False</td>\n      <td>False</td>\n      <td>False</td>\n      <td>False</td>\n      <td>False</td>\n      <td>False</td>\n      <td>False</td>\n      <td>False</td>\n      <td>True</td>\n    </tr>\n    <tr>\n      <th>14078</th>\n      <td>201143</td>\n      <td>1610612738</td>\n      <td>22200549</td>\n      <td>30.100000</td>\n      <td>3</td>\n      <td>10</td>\n      <td>0.300</td>\n      <td>2</td>\n      <td>6</td>\n      <td>0.333</td>\n      <td>...</td>\n      <td>False</td>\n      <td>False</td>\n      <td>False</td>\n      <td>False</td>\n      <td>False</td>\n      <td>True</td>\n      <td>False</td>\n      <td>False</td>\n      <td>False</td>\n      <td>False</td>\n    </tr>\n    <tr>\n      <th>14088</th>\n      <td>1629008</td>\n      <td>1610612743</td>\n      <td>22200549</td>\n      <td>32.600000</td>\n      <td>7</td>\n      <td>13</td>\n      <td>0.538</td>\n      <td>3</td>\n      <td>7</td>\n      <td>0.429</td>\n      <td>...</td>\n      <td>False</td>\n      <td>False</td>\n      <td>False</td>\n      <td>False</td>\n      <td>False</td>\n      <td>False</td>\n      <td>False</td>\n      <td>False</td>\n      <td>True</td>\n      <td>False</td>\n    </tr>\n    <tr>\n      <th>14100</th>\n      <td>1628420</td>\n      <td>1610612764</td>\n      <td>22200548</td>\n      <td>25.300000</td>\n      <td>3</td>\n      <td>7</td>\n      <td>0.429</td>\n      <td>1</td>\n      <td>5</td>\n      <td>0.200</td>\n      <td>...</td>\n      <td>False</td>\n      <td>False</td>\n      <td>False</td>\n      <td>False</td>\n      <td>False</td>\n      <td>False</td>\n      <td>False</td>\n      <td>True</td>\n      <td>False</td>\n      <td>False</td>\n    </tr>\n  </tbody>\n</table>\n<p>5258 rows × 1158 columns</p>\n</div>"
     },
     "execution_count": 20,
     "metadata": {},
     "output_type": "execute_result"
    }
   ]
  },
  {
   "cell_type": "markdown",
   "source": [
    "## Model Training Fixed"
   ],
   "metadata": {
    "collapsed": false,
    "id": "jLAKaZWH3NG5"
   }
  },
  {
   "cell_type": "code",
   "source": [
    "def create_sequences_with_rolling_window(data, metadata, sequence_length, target_column, rolling_step=1):\n",
    "    \"\"\"\n",
    "    Create sequences and labels for rolling window time series prediction.\n",
    "\n",
    "    Parameters:\n",
    "    - data: The input DataFrame (features).\n",
    "    - metadata: DataFrame with 'player_name' and 'game_date' for tracking.\n",
    "    - sequence_length: Number of previous time steps to include in each sequence.\n",
    "    - target_column: The column that contains the target values ('fp_draftkings', 'fp_fanduel', or 'fp_yahoo').\n",
    "    - rolling_step: How much the window moves after each iteration (default is 1 day).\n",
    "\n",
    "    Returns:\n",
    "    - sequences: List of input sequences (X).\n",
    "    - labels: List of labels (y).\n",
    "    - metadata_seq: List of metadata (game_date, player_name).\n",
    "    \"\"\"\n",
    "    sequences = []\n",
    "    labels = []\n",
    "    metadata_seq = []\n",
    "\n",
    "    drop_cols = ['fp_draftkings', 'fp_fanduel', 'fp_yahoo']  # Drop target columns to avoid leakage\n",
    "\n",
    "    for i in tqdm(range(sequence_length, len(data) - rolling_step), desc=\"Creating Sequences\"):\n",
    "        # Sequence of past game data\n",
    "        sequence = data.iloc[i - sequence_length:i].drop(columns=drop_cols).values\n",
    "        label = data.iloc[i][target_column]\n",
    "\n",
    "        # Append the corresponding metadata for the current day (label) to keep track of which player/date it is\n",
    "        metadata_seq.append(metadata.iloc[i])\n",
    "\n",
    "        sequences.append(sequence)\n",
    "        labels.append(label)\n",
    "\n",
    "    return np.array(sequences), np.array(labels), pd.DataFrame(metadata_seq)\n"
   ],
   "metadata": {
    "id": "xtJPIZxOjkoz",
    "executionInfo": {
     "status": "ok",
     "timestamp": 1729672168658,
     "user_tz": -180,
     "elapsed": 380,
     "user": {
      "displayName": "Tzach Larboni",
      "userId": "10599212143682672342"
     }
    }
   },
   "execution_count": 21,
   "outputs": []
  },
  {
   "cell_type": "code",
   "source": [
    "X, y, metadata_seq = create_sequences_with_rolling_window(dff_encoded, metadata, sequence_length=10, target_column='fp_draftkings')"
   ],
   "metadata": {
    "colab": {
     "base_uri": "https://localhost:8080/"
    },
    "id": "nky2Ign9UtMs",
    "executionInfo": {
     "status": "ok",
     "timestamp": 1729672185909,
     "user_tz": -180,
     "elapsed": 16075,
     "user": {
      "displayName": "Tzach Larboni",
      "userId": "10599212143682672342"
     }
    },
    "outputId": "0ada2988-0e62-47ce-ae07-efc7108d40bf"
   },
   "execution_count": 22,
   "outputs": [
    {
     "name": "stderr",
     "output_type": "stream",
     "text": [
      "Creating Sequences: 100%|██████████| 5247/5247 [00:07<00:00, 681.15it/s]\n"
     ]
    }
   ]
  },
  {
   "cell_type": "code",
   "source": [
    "def train_with_rolling_window(data, metadata, target_column, sequence_length=10, epochs=5):\n",
    "    \"\"\"\n",
    "    Train the model using a rolling window approach, making predictions for each day\n",
    "    after training on the previous 'sequence_length' days.\n",
    "\n",
    "    Parameters:\n",
    "    - data: The input DataFrame (encoded features).\n",
    "    - metadata: DataFrame with 'player_name' and 'game_date' for tracking.\n",
    "    - target_column: The column to predict (e.g., 'fp_draftkings', 'fp_fanduel', 'fp_yahoo').\n",
    "    - sequence_length: The number of previous days to use for training.\n",
    "    - epochs: Number of epochs to train the model on each window.\n",
    "\n",
    "    Returns:\n",
    "    - results_df: DataFrame with game_date, player_name, y_test, and y_pred.\n",
    "    - losses_df: DataFrame with training and validation loss for each epoch.\n",
    "    \"\"\"\n",
    "    X, y, metadata_seq = create_sequences_with_rolling_window(data, metadata, sequence_length, target_column)\n",
    "\n",
    "    predictions = []\n",
    "    actuals = []\n",
    "    metadata_test = []\n",
    "\n",
    "    # Lists to store losses for each epoch\n",
    "    all_train_losses = []\n",
    "    all_val_losses = []\n",
    "\n",
    "    for current_day in range(sequence_length, len(X)):\n",
    "        # Define the current rolling window (training on the past 'sequence_length' days)\n",
    "        X_train_window = X[current_day - sequence_length:current_day]\n",
    "        y_train_window = y[current_day - sequence_length:current_day]\n",
    "\n",
    "        # Select the test data (the current day)\n",
    "        X_test = X[current_day].reshape(1, -1, X.shape[2])\n",
    "        y_test = y[current_day]\n",
    "\n",
    "        # Scale the data within this window\n",
    "        scaler = StandardScaler()\n",
    "        X_train_window_flat = X_train_window.reshape(-1, X_train_window.shape[-1])\n",
    "        X_train_window_scaled = scaler.fit_transform(X_train_window_flat).reshape(X_train_window.shape)\n",
    "\n",
    "        X_test_scaled = scaler.transform(X_test.reshape(-1, X_test.shape[-1])).reshape(X_test.shape)\n",
    "\n",
    "        # Define the LSTM model\n",
    "        model = Sequential()\n",
    "        model.add(LSTM(units=100, return_sequences=True, input_shape=(X_train_window_scaled.shape[1], X_train_window_scaled.shape[2])))\n",
    "        model.add(Dropout(0.3))\n",
    "        model.add(LSTM(units=100, return_sequences=False))\n",
    "        model.add(Dropout(0.3))\n",
    "        model.add(Dense(units=1))\n",
    "\n",
    "        model.compile(optimizer='adam', loss='mean_squared_error')\n",
    "\n",
    "        # Train the model on the current window and get the history\n",
    "        history = model.fit(X_train_window_scaled, y_train_window, epochs=epochs, batch_size=32,\n",
    "                            validation_data=(X_test_scaled, np.array([y_test])), verbose=0)\n",
    "\n",
    "        # Store training and validation loss for each epoch\n",
    "        all_train_losses.extend(history.history['loss'])\n",
    "        all_val_losses.extend(history.history['val_loss'])\n",
    "\n",
    "        # Predict on the test data (current day)\n",
    "        y_pred = model.predict(X_test_scaled)\n",
    "\n",
    "        # Store predictions and actuals\n",
    "        predictions.append(y_pred.flatten())\n",
    "        actuals.append(y_test)\n",
    "\n",
    "        # Save metadata for this test instance (game_date, player_name)\n",
    "        metadata_test.append(metadata_seq.iloc[current_day])\n",
    "\n",
    "    # Create a DataFrame with results\n",
    "    results_df = pd.DataFrame(metadata_test)\n",
    "    results_df['y_test'] = actuals\n",
    "    results_df['y_pred'] = predictions\n",
    "\n",
    "    # Create a DataFrame with loss history\n",
    "    losses_df = pd.DataFrame({\n",
    "        'train_loss': all_train_losses,\n",
    "        'val_loss': all_val_losses\n",
    "    })\n",
    "\n",
    "    # Evaluation metrics\n",
    "    mae = mean_absolute_error(actuals, predictions)\n",
    "    rmse = np.sqrt(mean_squared_error(actuals, predictions))\n",
    "    r2 = r2_score(actuals, predictions)\n",
    "\n",
    "    print(f'Mean Absolute Error (MAE): {mae}')\n",
    "    print(f'Root Mean Squared Error (RMSE): {rmse}')\n",
    "    print(f'R-squared (R²): {r2}')\n",
    "\n",
    "    return results_df, losses_df\n"
   ],
   "metadata": {
    "id": "vgPB3cam8DIP",
    "executionInfo": {
     "status": "ok",
     "timestamp": 1729672185910,
     "user_tz": -180,
     "elapsed": 7,
     "user": {
      "displayName": "Tzach Larboni",
      "userId": "10599212143682672342"
     }
    }
   },
   "execution_count": 23,
   "outputs": []
  },
  {
   "cell_type": "markdown",
   "source": [
    "# RNN Model Runs on Each Platform:"
   ],
   "metadata": {
    "collapsed": false,
    "id": "dzyQi3H73NG_"
   }
  },
  {
   "cell_type": "code",
   "execution_count": null,
   "outputs": [
    {
     "name": "stderr",
     "output_type": "stream",
     "text": [
      "Creating Sequences: 100%|██████████| 5247/5247 [00:12<00:00, 428.64it/s]\n",
      "2024-10-29 15:44:07.521732: W tensorflow/tsl/platform/profile_utils/cpu_utils.cc:128] Failed to get CPU frequency: 0 Hz\n"
     ]
    },
    {
     "name": "stdout",
     "output_type": "stream",
     "text": [
      "1/1 [==============================] - 2s 2s/step\n",
      "1/1 [==============================] - 1s 740ms/step\n",
      "1/1 [==============================] - 1s 905ms/step\n",
      "1/1 [==============================] - 1s 651ms/step\n",
      "WARNING:tensorflow:5 out of the last 5 calls to <function Model.make_predict_function.<locals>.predict_function at 0x43ff993f0> triggered tf.function retracing. Tracing is expensive and the excessive number of tracings could be due to (1) creating @tf.function repeatedly in a loop, (2) passing tensors with different shapes, (3) passing Python objects instead of tensors. For (1), please define your @tf.function outside of the loop. For (2), @tf.function has reduce_retracing=True option that can avoid unnecessary retracing. For (3), please refer to https://www.tensorflow.org/guide/function#controlling_retracing and https://www.tensorflow.org/api_docs/python/tf/function for  more details.\n"
     ]
    },
    {
     "name": "stderr",
     "output_type": "stream",
     "text": [
      "WARNING:tensorflow:5 out of the last 5 calls to <function Model.make_predict_function.<locals>.predict_function at 0x43ff993f0> triggered tf.function retracing. Tracing is expensive and the excessive number of tracings could be due to (1) creating @tf.function repeatedly in a loop, (2) passing tensors with different shapes, (3) passing Python objects instead of tensors. For (1), please define your @tf.function outside of the loop. For (2), @tf.function has reduce_retracing=True option that can avoid unnecessary retracing. For (3), please refer to https://www.tensorflow.org/guide/function#controlling_retracing and https://www.tensorflow.org/api_docs/python/tf/function for  more details.\n"
     ]
    },
    {
     "name": "stdout",
     "output_type": "stream",
     "text": [
      "1/1 [==============================] - 1s 688ms/step\n",
      "WARNING:tensorflow:6 out of the last 6 calls to <function Model.make_predict_function.<locals>.predict_function at 0x3f417ab90> triggered tf.function retracing. Tracing is expensive and the excessive number of tracings could be due to (1) creating @tf.function repeatedly in a loop, (2) passing tensors with different shapes, (3) passing Python objects instead of tensors. For (1), please define your @tf.function outside of the loop. For (2), @tf.function has reduce_retracing=True option that can avoid unnecessary retracing. For (3), please refer to https://www.tensorflow.org/guide/function#controlling_retracing and https://www.tensorflow.org/api_docs/python/tf/function for  more details.\n"
     ]
    },
    {
     "name": "stderr",
     "output_type": "stream",
     "text": [
      "WARNING:tensorflow:6 out of the last 6 calls to <function Model.make_predict_function.<locals>.predict_function at 0x3f417ab90> triggered tf.function retracing. Tracing is expensive and the excessive number of tracings could be due to (1) creating @tf.function repeatedly in a loop, (2) passing tensors with different shapes, (3) passing Python objects instead of tensors. For (1), please define your @tf.function outside of the loop. For (2), @tf.function has reduce_retracing=True option that can avoid unnecessary retracing. For (3), please refer to https://www.tensorflow.org/guide/function#controlling_retracing and https://www.tensorflow.org/api_docs/python/tf/function for  more details.\n"
     ]
    },
    {
     "name": "stdout",
     "output_type": "stream",
     "text": [
      "1/1 [==============================] - 1s 1s/step\n",
      "1/1 [==============================] - 1s 974ms/step\n",
      "1/1 [==============================] - 1s 1s/step\n",
      "1/1 [==============================] - 1s 1s/step\n",
      "1/1 [==============================] - 1s 884ms/step\n",
      "1/1 [==============================] - 1s 674ms/step\n",
      "1/1 [==============================] - 1s 1s/step\n",
      "1/1 [==============================] - 1s 737ms/step\n",
      "1/1 [==============================] - 1s 623ms/step\n",
      "1/1 [==============================] - 1s 824ms/step\n",
      "1/1 [==============================] - 1s 765ms/step\n",
      "1/1 [==============================] - 1s 554ms/step\n",
      "1/1 [==============================] - 1s 519ms/step\n",
      "1/1 [==============================] - 1s 977ms/step\n",
      "1/1 [==============================] - 1s 882ms/step\n",
      "1/1 [==============================] - 1s 728ms/step\n",
      "1/1 [==============================] - 1s 555ms/step\n",
      "1/1 [==============================] - 1s 576ms/step\n",
      "1/1 [==============================] - 1s 671ms/step\n",
      "1/1 [==============================] - 1s 1s/step\n",
      "1/1 [==============================] - 1s 785ms/step\n",
      "1/1 [==============================] - 1s 514ms/step\n",
      "1/1 [==============================] - 1s 534ms/step\n",
      "1/1 [==============================] - 1s 530ms/step\n",
      "1/1 [==============================] - 1s 750ms/step\n",
      "1/1 [==============================] - 1s 682ms/step\n",
      "1/1 [==============================] - 1s 731ms/step\n",
      "1/1 [==============================] - 1s 634ms/step\n",
      "1/1 [==============================] - 1s 625ms/step\n",
      "1/1 [==============================] - 0s 490ms/step\n",
      "1/1 [==============================] - 1s 1s/step\n",
      "1/1 [==============================] - 0s 336ms/step\n",
      "1/1 [==============================] - 0s 345ms/step\n",
      "1/1 [==============================] - 0s 346ms/step\n",
      "1/1 [==============================] - 1s 532ms/step\n",
      "1/1 [==============================] - 0s 430ms/step\n",
      "1/1 [==============================] - 1s 653ms/step\n",
      "1/1 [==============================] - 0s 430ms/step\n",
      "1/1 [==============================] - 1s 530ms/step\n",
      "1/1 [==============================] - 1s 823ms/step\n",
      "1/1 [==============================] - 0s 374ms/step\n",
      "1/1 [==============================] - 1s 1s/step\n",
      "1/1 [==============================] - 0s 338ms/step\n",
      "1/1 [==============================] - 0s 489ms/step\n",
      "1/1 [==============================] - 0s 439ms/step\n",
      "1/1 [==============================] - 1s 576ms/step\n",
      "1/1 [==============================] - 0s 351ms/step\n",
      "1/1 [==============================] - 1s 602ms/step\n",
      "1/1 [==============================] - 1s 535ms/step\n",
      "1/1 [==============================] - 0s 405ms/step\n",
      "1/1 [==============================] - 1s 623ms/step\n",
      "1/1 [==============================] - 0s 413ms/step\n",
      "1/1 [==============================] - 0s 439ms/step\n",
      "1/1 [==============================] - 1s 599ms/step\n",
      "1/1 [==============================] - 0s 470ms/step\n",
      "1/1 [==============================] - 2s 2s/step\n",
      "1/1 [==============================] - 0s 435ms/step\n",
      "1/1 [==============================] - 1s 652ms/step\n",
      "1/1 [==============================] - 1s 537ms/step\n",
      "1/1 [==============================] - 1s 662ms/step\n",
      "1/1 [==============================] - 1s 604ms/step\n",
      "1/1 [==============================] - 1s 1s/step\n",
      "1/1 [==============================] - 1s 693ms/step\n",
      "1/1 [==============================] - 1s 668ms/step\n",
      "1/1 [==============================] - 1s 803ms/step\n",
      "1/1 [==============================] - 1s 853ms/step\n",
      "1/1 [==============================] - 3s 3s/step\n",
      "1/1 [==============================] - 1s 632ms/step\n",
      "1/1 [==============================] - 1s 842ms/step\n",
      "1/1 [==============================] - 1s 957ms/step\n",
      "1/1 [==============================] - 3s 3s/step\n"
     ]
    }
   ],
   "source": [
    "# Train the model with rolling window and retrieve losses\n",
    "results_df, losses_df = train_with_rolling_window(dff_encoded, metadata, target_column='fp_draftkings', sequence_length=10, epochs=5)\n",
    "\n",
    "\n",
    "# # previous model training runs to iterate thru all 3 platforms >>\n",
    "# # List to store results\n",
    "# results = []\n",
    "#\n",
    "# # Platforms to iterate over\n",
    "# platforms = ['draftkings', 'fanduel', 'yahoo']\n",
    "#\n",
    "# for platform in platforms:\n",
    "#     result = train_and_evaluate_model(df_encoded, platform, sequence_length=10, epochs=50)\n",
    "#     results.append(result)\n",
    "#\n",
    "# # Convert results to a DataFrame\n",
    "# results_df = pd.DataFrame(results)\n"
   ],
   "metadata": {
    "id": "jtP5BRg_3NG_",
    "outputId": "9959d21c-7018-4d42-e297-bb2addbe40d3",
    "colab": {
     "base_uri": "https://localhost:8080/"
    },
    "pycharm": {
     "is_executing": true
    }
   }
  },
  {
   "cell_type": "code",
   "source": [
    "# Print the first few rows of results and loss history\n",
    "print(results_df.head())\n",
    "print(losses_df.head())\n",
    "\n",
    "# Plot the training and validation losses over epochs\n",
    "import matplotlib.pyplot as plt\n",
    "plt.plot(losses_df['train_loss'], label='Training Loss')\n",
    "plt.plot(losses_df['val_loss'], label='Validation Loss')\n",
    "plt.title('Training and Validation Loss')\n",
    "plt.xlabel('Epochs')\n",
    "plt.ylabel('Loss')\n",
    "plt.legend()\n",
    "plt.show()\n"
   ],
   "metadata": {
    "colab": {
     "base_uri": "https://localhost:8080/",
     "height": 211
    },
    "id": "-UYwO8O6hI-p",
    "outputId": "ce99947c-4aba-4088-f926-56b921f24559",
    "executionInfo": {
     "status": "error",
     "timestamp": 1729674031580,
     "user_tz": -180,
     "elapsed": 350,
     "user": {
      "displayName": "Tzach Larboni",
      "userId": "10599212143682672342"
     }
    }
   },
   "execution_count": 1,
   "outputs": [
    {
     "output_type": "error",
     "ename": "NameError",
     "evalue": "name 'results_df' is not defined",
     "traceback": [
      "\u001B[0;31m---------------------------------------------------------------------------\u001B[0m",
      "\u001B[0;31mNameError\u001B[0m                                 Traceback (most recent call last)",
      "\u001B[0;32m<ipython-input-1-29a2ee676684>\u001B[0m in \u001B[0;36m<cell line: 2>\u001B[0;34m()\u001B[0m\n\u001B[1;32m      1\u001B[0m \u001B[0;31m# Print the first few rows of results and loss history\u001B[0m\u001B[0;34m\u001B[0m\u001B[0;34m\u001B[0m\u001B[0m\n\u001B[0;32m----> 2\u001B[0;31m \u001B[0mprint\u001B[0m\u001B[0;34m(\u001B[0m\u001B[0mresults_df\u001B[0m\u001B[0;34m.\u001B[0m\u001B[0mhead\u001B[0m\u001B[0;34m(\u001B[0m\u001B[0;34m)\u001B[0m\u001B[0;34m)\u001B[0m\u001B[0;34m\u001B[0m\u001B[0;34m\u001B[0m\u001B[0m\n\u001B[0m\u001B[1;32m      3\u001B[0m \u001B[0mprint\u001B[0m\u001B[0;34m(\u001B[0m\u001B[0mlosses_df\u001B[0m\u001B[0;34m.\u001B[0m\u001B[0mhead\u001B[0m\u001B[0;34m(\u001B[0m\u001B[0;34m)\u001B[0m\u001B[0;34m)\u001B[0m\u001B[0;34m\u001B[0m\u001B[0;34m\u001B[0m\u001B[0m\n\u001B[1;32m      4\u001B[0m \u001B[0;34m\u001B[0m\u001B[0m\n\u001B[1;32m      5\u001B[0m \u001B[0;31m# Plot the training and validation losses over epochs\u001B[0m\u001B[0;34m\u001B[0m\u001B[0;34m\u001B[0m\u001B[0m\n",
      "\u001B[0;31mNameError\u001B[0m: name 'results_df' is not defined"
     ]
    }
   ]
  },
  {
   "cell_type": "code",
   "source": [],
   "metadata": {
    "id": "K8X7mqkLDvny"
   },
   "execution_count": null,
   "outputs": []
  }
 ],
 "metadata": {
  "colab": {
   "provenance": [],
   "gpuType": "T4"
  },
  "kernelspec": {
   "display_name": "Python 3",
   "name": "python3"
  },
  "language_info": {
   "name": "python"
  },
  "accelerator": "GPU"
 },
 "nbformat": 4,
 "nbformat_minor": 0
}
