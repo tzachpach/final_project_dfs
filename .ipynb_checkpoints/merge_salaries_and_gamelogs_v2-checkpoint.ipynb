{
 "cells": [
  {
   "cell_type": "code",
   "execution_count": 1,
   "id": "aa87f182-5b59-470a-a5cd-0b8193a4433c",
   "metadata": {},
   "outputs": [],
   "source": [
    "import pandas as pd\n",
    "import os\n",
    "from dtale import show"
   ]
  },
  {
   "cell_type": "code",
   "execution_count": 2,
   "id": "cc2e7480-7c55-4b35-90a8-81b594940514",
   "metadata": {},
   "outputs": [],
   "source": [
    "gamelog_path = 'data/gamelogs_2015-24'\n",
    "gamelogs_csvs = [file for file in os.listdir(gamelog_path) if file.endswith('.csv')]\n",
    "\n",
    "salaries_path = 'data/salaries_data'\n",
    "salaries_csvs = [file for file in os.listdir(salaries_path) if file.endswith('.csv')]\n"
   ]
  },
  {
   "cell_type": "code",
   "execution_count": 3,
   "id": "c6237c16-9015-4f68-a22c-fff126b5e151",
   "metadata": {},
   "outputs": [],
   "source": [
    "def preprocess_salary_df(salary_df):\n",
    "    salary_df.columns = salary_df.iloc[0]\n",
    "    salary_df = salary_df.drop(0).reset_index(drop=True)\n",
    "    salary_df = salary_df.drop(0).reset_index(drop=True)\n",
    "    salary_df.columns = [i.lower().split(\"\\n\")[0].replace(\" / \", \"/\").replace(\" (\", \"(\").replace(\" - \", \"-\").replace(\" \", \"_\") for i in salary_df.columns]\n",
    "    salary_df = salary_df.drop(['bigdataball', 'nba_season'], axis=1)\n",
    "    salary_df['game_id'] = salary_df['game_id'].astype(int)\n",
    "    salary_df['days_rest'] = salary_df['days_rest'].apply(lambda x: int(str(x.split('+')[0])))\n",
    "    salary_df = salary_df.rename(columns={'player': 'player_name'})\n",
    "    return salary_df"
   ]
  },
  {
   "cell_type": "code",
   "execution_count": 4,
   "id": "43d46196-d08e-4439-9c70-74aee7abdaf1",
   "metadata": {},
   "outputs": [],
   "source": [
    "# df = pd.read_csv(f'{salaries_path}/{salaries_csvs[2]}')\n",
    "# df['days_rest'].value_counts()\n",
    "# df = preprocess_salary_df(df)\n",
    "# show(df['days_rest'].value_counts())"
   ]
  },
  {
   "cell_type": "code",
   "execution_count": 5,
   "id": "5c6c2799-4914-4e24-b5d2-76546d2aa001",
   "metadata": {},
   "outputs": [
    {
     "name": "stdout",
     "output_type": "stream",
     "text": [
      "Merged 2018-19\n",
      "Merged 2020-21\n",
      "Merged 2022-23\n",
      "Merged 2023-24\n",
      "Merged 2021-22\n",
      "Merged 2019-20\n",
      "Merged 2017-18\n",
      "Merged 2016-17\n"
     ]
    }
   ],
   "source": [
    "for f in gamelogs_csvs:\n",
    "    gamelogs_df = pd.read_csv(f'{gamelog_path}/{f}')\n",
    "    year = f.split(\"_\")[-1].split(\".\")[0]\n",
    "    salary_f = [i for i in salaries_csvs if year in i]\n",
    "    if not salary_f:\n",
    "        continue\n",
    "    salary_f = salary_f[0]\n",
    "    salary_df = pd.read_csv(f'{salaries_path}/{salary_f}')\n",
    "\n",
    "    gamelogs_df.columns = gamelogs_df.columns.str.lower()\n",
    "\n",
    "    salary_df = preprocess_salary_df(salary_df)\n",
    "\n",
    "    merged_df = pd.merge(gamelogs_df, salary_df, on=['game_id', 'player_name'])\n",
    "\n",
    "    redundant_columns = ['player_id_y', 'date', 'own', 'minutes']\n",
    "    merged_df = merged_df.drop(columns=redundant_columns)\n",
    "    \n",
    "    # Rename columns to avoid confusion (optional)\n",
    "    merged_df = merged_df.rename(columns={'player_id_x': 'player_id', 'min': 'minutes_played'})\n",
    "\n",
    "    merged_df.to_csv(f'data/merged_gamelogs_salaries_{year}.csv')\n",
    "    print(f'Merged {year}')"
   ]
  },
  {
   "cell_type": "markdown",
   "id": "70ad88af-a3e3-4540-9f38-ff354874bd5d",
   "metadata": {},
   "source": [
    "# Merge all seasons + Handle missing values"
   ]
  },
  {
   "cell_type": "code",
   "execution_count": 6,
   "id": "f1c58987-b31a-4cf6-8a8b-49839d687817",
   "metadata": {},
   "outputs": [
    {
     "name": "stderr",
     "output_type": "stream",
     "text": [
      "/var/folders/0m/f3264ld16q96qjbq5qmzznvm0000gn/T/ipykernel_84813/4059212232.py:2: DtypeWarning:\n",
      "\n",
      "Columns (101) have mixed types. Specify dtype option on import or set low_memory=False.\n",
      "\n"
     ]
    }
   ],
   "source": [
    "all_csvs = [file for file in os.listdir('data/') if file.endswith('.csv') and 'merged_gamelogs_salaries_' in file]\n",
    "dfs = [pd.read_csv(f'data/{csv}') for csv in all_csvs]\n",
    "df = pd.concat(dfs)"
   ]
  },
  {
   "cell_type": "code",
   "execution_count": 7,
   "id": "67ba2c5a-f9a3-4999-9ab4-6c92febe198c",
   "metadata": {},
   "outputs": [
    {
     "data": {
      "text/plain": [
       "(199339, 113)"
      ]
     },
     "execution_count": 7,
     "metadata": {},
     "output_type": "execute_result"
    }
   ],
   "source": [
    "df.shape"
   ]
  },
  {
   "cell_type": "code",
   "execution_count": 8,
   "id": "f327d488-09fc-4b59-b8c4-a5f161778b65",
   "metadata": {},
   "outputs": [],
   "source": [
    "df = df.drop('Unnamed: 0', axis= 1)"
   ]
  },
  {
   "cell_type": "code",
   "execution_count": 9,
   "id": "a5adf2ed-afd2-4b94-81a3-f2bf26b79656",
   "metadata": {},
   "outputs": [
    {
     "data": {
      "text/html": [
       "<div>\n",
       "<style scoped>\n",
       "    .dataframe tbody tr th:only-of-type {\n",
       "        vertical-align: middle;\n",
       "    }\n",
       "\n",
       "    .dataframe tbody tr th {\n",
       "        vertical-align: top;\n",
       "    }\n",
       "\n",
       "    .dataframe thead th {\n",
       "        text-align: right;\n",
       "    }\n",
       "</style>\n",
       "<table border=\"1\" class=\"dataframe\">\n",
       "  <thead>\n",
       "    <tr style=\"text-align: right;\">\n",
       "      <th></th>\n",
       "      <th>season_year</th>\n",
       "      <th>player_id</th>\n",
       "      <th>player_name</th>\n",
       "      <th>team_id</th>\n",
       "      <th>team_abbreviation</th>\n",
       "      <th>game_id</th>\n",
       "      <th>game_date</th>\n",
       "      <th>wl</th>\n",
       "      <th>minutes_played</th>\n",
       "      <th>fgm</th>\n",
       "      <th>...</th>\n",
       "      <th>pos-draftkings</th>\n",
       "      <th>pos-fanduel</th>\n",
       "      <th>pos-yahoo</th>\n",
       "      <th>salary-draftkings</th>\n",
       "      <th>salary-fanduel</th>\n",
       "      <th>salary-yahoo</th>\n",
       "      <th>fp_draftkings</th>\n",
       "      <th>fp_fanduel</th>\n",
       "      <th>fp_yahoo</th>\n",
       "      <th>venue(r/h/n)</th>\n",
       "    </tr>\n",
       "  </thead>\n",
       "  <tbody>\n",
       "    <tr>\n",
       "      <th>0</th>\n",
       "      <td>2022-23</td>\n",
       "      <td>1631100</td>\n",
       "      <td>AJ Griffin</td>\n",
       "      <td>1610612737</td>\n",
       "      <td>ATL</td>\n",
       "      <td>22201216</td>\n",
       "      <td>2023-04-09T00:00:00</td>\n",
       "      <td>L</td>\n",
       "      <td>29.333333</td>\n",
       "      <td>5</td>\n",
       "      <td>...</td>\n",
       "      <td>SG/SF</td>\n",
       "      <td>SF</td>\n",
       "      <td>SF</td>\n",
       "      <td>3400.0</td>\n",
       "      <td>4200.0</td>\n",
       "      <td>10.0</td>\n",
       "      <td>24.25</td>\n",
       "      <td>25.6</td>\n",
       "      <td>25.6</td>\n",
       "      <td>NaN</td>\n",
       "    </tr>\n",
       "    <tr>\n",
       "      <th>1</th>\n",
       "      <td>2022-23</td>\n",
       "      <td>1631121</td>\n",
       "      <td>Bryce McGowens</td>\n",
       "      <td>1610612766</td>\n",
       "      <td>CHA</td>\n",
       "      <td>22201218</td>\n",
       "      <td>2023-04-09T00:00:00</td>\n",
       "      <td>W</td>\n",
       "      <td>32.533333</td>\n",
       "      <td>6</td>\n",
       "      <td>...</td>\n",
       "      <td>SG/SF</td>\n",
       "      <td>SG</td>\n",
       "      <td>SF</td>\n",
       "      <td>6300.0</td>\n",
       "      <td>5200.0</td>\n",
       "      <td>10.0</td>\n",
       "      <td>35.50</td>\n",
       "      <td>34.8</td>\n",
       "      <td>34.8</td>\n",
       "      <td>NaN</td>\n",
       "    </tr>\n",
       "    <tr>\n",
       "      <th>2</th>\n",
       "      <td>2022-23</td>\n",
       "      <td>1630526</td>\n",
       "      <td>Jeremiah Robinson-Earl</td>\n",
       "      <td>1610612760</td>\n",
       "      <td>OKC</td>\n",
       "      <td>22201226</td>\n",
       "      <td>2023-04-09T00:00:00</td>\n",
       "      <td>W</td>\n",
       "      <td>39.766667</td>\n",
       "      <td>3</td>\n",
       "      <td>...</td>\n",
       "      <td>PF/C</td>\n",
       "      <td>C/PF</td>\n",
       "      <td>C</td>\n",
       "      <td>3000.0</td>\n",
       "      <td>3900.0</td>\n",
       "      <td>10.0</td>\n",
       "      <td>25.50</td>\n",
       "      <td>24.1</td>\n",
       "      <td>24.1</td>\n",
       "      <td>NaN</td>\n",
       "    </tr>\n",
       "    <tr>\n",
       "      <th>3</th>\n",
       "      <td>2022-23</td>\n",
       "      <td>1630173</td>\n",
       "      <td>Precious Achiuwa</td>\n",
       "      <td>1610612761</td>\n",
       "      <td>TOR</td>\n",
       "      <td>22201221</td>\n",
       "      <td>2023-04-09T00:00:00</td>\n",
       "      <td>W</td>\n",
       "      <td>28.416667</td>\n",
       "      <td>6</td>\n",
       "      <td>...</td>\n",
       "      <td>C</td>\n",
       "      <td>PF/C</td>\n",
       "      <td>C</td>\n",
       "      <td>4700.0</td>\n",
       "      <td>5500.0</td>\n",
       "      <td>10.0</td>\n",
       "      <td>37.25</td>\n",
       "      <td>35.1</td>\n",
       "      <td>35.1</td>\n",
       "      <td>NaN</td>\n",
       "    </tr>\n",
       "    <tr>\n",
       "      <th>4</th>\n",
       "      <td>2022-23</td>\n",
       "      <td>201609</td>\n",
       "      <td>Goran Dragic</td>\n",
       "      <td>1610612749</td>\n",
       "      <td>MIL</td>\n",
       "      <td>22201221</td>\n",
       "      <td>2023-04-09T00:00:00</td>\n",
       "      <td>L</td>\n",
       "      <td>20.783333</td>\n",
       "      <td>7</td>\n",
       "      <td>...</td>\n",
       "      <td>PG</td>\n",
       "      <td>PG</td>\n",
       "      <td>PG</td>\n",
       "      <td>4700.0</td>\n",
       "      <td>5100.0</td>\n",
       "      <td>10.0</td>\n",
       "      <td>18.75</td>\n",
       "      <td>18.1</td>\n",
       "      <td>18.1</td>\n",
       "      <td>NaN</td>\n",
       "    </tr>\n",
       "  </tbody>\n",
       "</table>\n",
       "<p>5 rows × 112 columns</p>\n",
       "</div>"
      ],
      "text/plain": [
       "  season_year  player_id             player_name     team_id  \\\n",
       "0     2022-23    1631100              AJ Griffin  1610612737   \n",
       "1     2022-23    1631121          Bryce McGowens  1610612766   \n",
       "2     2022-23    1630526  Jeremiah Robinson-Earl  1610612760   \n",
       "3     2022-23    1630173        Precious Achiuwa  1610612761   \n",
       "4     2022-23     201609            Goran Dragic  1610612749   \n",
       "\n",
       "  team_abbreviation   game_id            game_date wl  minutes_played  fgm  \\\n",
       "0               ATL  22201216  2023-04-09T00:00:00  L       29.333333    5   \n",
       "1               CHA  22201218  2023-04-09T00:00:00  W       32.533333    6   \n",
       "2               OKC  22201226  2023-04-09T00:00:00  W       39.766667    3   \n",
       "3               TOR  22201221  2023-04-09T00:00:00  W       28.416667    6   \n",
       "4               MIL  22201221  2023-04-09T00:00:00  L       20.783333    7   \n",
       "\n",
       "   ...  pos-draftkings  pos-fanduel  pos-yahoo  salary-draftkings  \\\n",
       "0  ...           SG/SF           SF         SF             3400.0   \n",
       "1  ...           SG/SF           SG         SF             6300.0   \n",
       "2  ...            PF/C         C/PF          C             3000.0   \n",
       "3  ...               C         PF/C          C             4700.0   \n",
       "4  ...              PG           PG         PG             4700.0   \n",
       "\n",
       "   salary-fanduel  salary-yahoo  fp_draftkings  fp_fanduel  fp_yahoo  \\\n",
       "0          4200.0          10.0          24.25        25.6      25.6   \n",
       "1          5200.0          10.0          35.50        34.8      34.8   \n",
       "2          3900.0          10.0          25.50        24.1      24.1   \n",
       "3          5500.0          10.0          37.25        35.1      35.1   \n",
       "4          5100.0          10.0          18.75        18.1      18.1   \n",
       "\n",
       "   venue(r/h/n)  \n",
       "0           NaN  \n",
       "1           NaN  \n",
       "2           NaN  \n",
       "3           NaN  \n",
       "4           NaN  \n",
       "\n",
       "[5 rows x 112 columns]"
      ]
     },
     "execution_count": 9,
     "metadata": {},
     "output_type": "execute_result"
    }
   ],
   "source": [
    "df.head()"
   ]
  },
  {
   "cell_type": "code",
   "execution_count": 10,
   "id": "23611c41-3b45-4766-9479-2c0f0912ce0e",
   "metadata": {},
   "outputs": [
    {
     "data": {
      "text/plain": [
       "season_year\n",
       "2023-24    26334\n",
       "2021-22    25861\n",
       "2022-23    25630\n",
       "2018-19    25612\n",
       "2017-18    25603\n",
       "2016-17    25251\n",
       "2020-21    22827\n",
       "2019-20    22221\n",
       "Name: count, dtype: int64"
      ]
     },
     "execution_count": 10,
     "metadata": {},
     "output_type": "execute_result"
    }
   ],
   "source": [
    "df.season_year.value_counts()"
   ]
  },
  {
   "cell_type": "markdown",
   "id": "0351e5ef-d860-4311-af85-4fd1b624277a",
   "metadata": {},
   "source": [
    "# Find NA"
   ]
  },
  {
   "cell_type": "code",
   "execution_count": 11,
   "id": "84c3b9cc-2a8b-43df-a165-f1bb12fd7c24",
   "metadata": {},
   "outputs": [
    {
     "data": {
      "text/plain": [
       "venue(r/h/n)         173005\n",
       "venue(r/h)            26334\n",
       "pos-draftkings         4684\n",
       "salary-draftkings      4684\n",
       "pos-yahoo              1497\n",
       "salary-yahoo           1497\n",
       "pos-fanduel            1065\n",
       "salary-fanduel         1065\n",
       "available_flag           20\n",
       "fp_draftkings             1\n",
       "fp_yahoo                  1\n",
       "pct_pts_fb                0\n",
       "pct_uast_fgm              0\n",
       "pct_ast_fgm               0\n",
       "pct_uast_3pm              0\n",
       "pct_ast_3pm               0\n",
       "pct_uast_2pm              0\n",
       "pct_ast_2pm               0\n",
       "pct_pts_paint             0\n",
       "pct_pts_off_tov           0\n",
       "dtype: int64"
      ]
     },
     "execution_count": 11,
     "metadata": {},
     "output_type": "execute_result"
    }
   ],
   "source": [
    "df.isna().sum().sort_values(ascending=False).head(20)"
   ]
  },
  {
   "cell_type": "code",
   "execution_count": 12,
   "id": "f8e75eaa-46ef-449e-9db5-f3c33be99a7b",
   "metadata": {},
   "outputs": [
    {
     "data": {
      "text/html": [
       "<div>\n",
       "<style scoped>\n",
       "    .dataframe tbody tr th:only-of-type {\n",
       "        vertical-align: middle;\n",
       "    }\n",
       "\n",
       "    .dataframe tbody tr th {\n",
       "        vertical-align: top;\n",
       "    }\n",
       "\n",
       "    .dataframe thead th {\n",
       "        text-align: right;\n",
       "    }\n",
       "</style>\n",
       "<table border=\"1\" class=\"dataframe\">\n",
       "  <thead>\n",
       "    <tr style=\"text-align: right;\">\n",
       "      <th></th>\n",
       "      <th>venue(r/h/n)</th>\n",
       "      <th>venue(r/h)</th>\n",
       "      <th>pos-draftkings</th>\n",
       "      <th>salary-draftkings</th>\n",
       "      <th>pos-yahoo</th>\n",
       "      <th>salary-yahoo</th>\n",
       "      <th>pos-fanduel</th>\n",
       "      <th>salary-fanduel</th>\n",
       "      <th>available_flag</th>\n",
       "      <th>fp_draftkings</th>\n",
       "      <th>fp_yahoo</th>\n",
       "    </tr>\n",
       "    <tr>\n",
       "      <th>season_year</th>\n",
       "      <th></th>\n",
       "      <th></th>\n",
       "      <th></th>\n",
       "      <th></th>\n",
       "      <th></th>\n",
       "      <th></th>\n",
       "      <th></th>\n",
       "      <th></th>\n",
       "      <th></th>\n",
       "      <th></th>\n",
       "      <th></th>\n",
       "    </tr>\n",
       "  </thead>\n",
       "  <tbody>\n",
       "    <tr>\n",
       "      <th>2016-17</th>\n",
       "      <td>25251</td>\n",
       "      <td>0</td>\n",
       "      <td>98</td>\n",
       "      <td>98</td>\n",
       "      <td>71</td>\n",
       "      <td>71</td>\n",
       "      <td>107</td>\n",
       "      <td>107</td>\n",
       "      <td>0</td>\n",
       "      <td>0</td>\n",
       "      <td>0</td>\n",
       "    </tr>\n",
       "    <tr>\n",
       "      <th>2017-18</th>\n",
       "      <td>25603</td>\n",
       "      <td>0</td>\n",
       "      <td>519</td>\n",
       "      <td>519</td>\n",
       "      <td>48</td>\n",
       "      <td>48</td>\n",
       "      <td>233</td>\n",
       "      <td>233</td>\n",
       "      <td>20</td>\n",
       "      <td>1</td>\n",
       "      <td>1</td>\n",
       "    </tr>\n",
       "    <tr>\n",
       "      <th>2018-19</th>\n",
       "      <td>25612</td>\n",
       "      <td>0</td>\n",
       "      <td>717</td>\n",
       "      <td>717</td>\n",
       "      <td>47</td>\n",
       "      <td>47</td>\n",
       "      <td>121</td>\n",
       "      <td>121</td>\n",
       "      <td>0</td>\n",
       "      <td>0</td>\n",
       "      <td>0</td>\n",
       "    </tr>\n",
       "    <tr>\n",
       "      <th>2019-20</th>\n",
       "      <td>22221</td>\n",
       "      <td>0</td>\n",
       "      <td>830</td>\n",
       "      <td>830</td>\n",
       "      <td>171</td>\n",
       "      <td>171</td>\n",
       "      <td>131</td>\n",
       "      <td>131</td>\n",
       "      <td>0</td>\n",
       "      <td>0</td>\n",
       "      <td>0</td>\n",
       "    </tr>\n",
       "    <tr>\n",
       "      <th>2020-21</th>\n",
       "      <td>22827</td>\n",
       "      <td>0</td>\n",
       "      <td>519</td>\n",
       "      <td>519</td>\n",
       "      <td>169</td>\n",
       "      <td>169</td>\n",
       "      <td>158</td>\n",
       "      <td>158</td>\n",
       "      <td>0</td>\n",
       "      <td>0</td>\n",
       "      <td>0</td>\n",
       "    </tr>\n",
       "    <tr>\n",
       "      <th>2021-22</th>\n",
       "      <td>25861</td>\n",
       "      <td>0</td>\n",
       "      <td>797</td>\n",
       "      <td>797</td>\n",
       "      <td>592</td>\n",
       "      <td>592</td>\n",
       "      <td>174</td>\n",
       "      <td>174</td>\n",
       "      <td>0</td>\n",
       "      <td>0</td>\n",
       "      <td>0</td>\n",
       "    </tr>\n",
       "    <tr>\n",
       "      <th>2022-23</th>\n",
       "      <td>25630</td>\n",
       "      <td>0</td>\n",
       "      <td>626</td>\n",
       "      <td>626</td>\n",
       "      <td>279</td>\n",
       "      <td>279</td>\n",
       "      <td>96</td>\n",
       "      <td>96</td>\n",
       "      <td>0</td>\n",
       "      <td>0</td>\n",
       "      <td>0</td>\n",
       "    </tr>\n",
       "    <tr>\n",
       "      <th>2023-24</th>\n",
       "      <td>0</td>\n",
       "      <td>26334</td>\n",
       "      <td>578</td>\n",
       "      <td>578</td>\n",
       "      <td>120</td>\n",
       "      <td>120</td>\n",
       "      <td>45</td>\n",
       "      <td>45</td>\n",
       "      <td>0</td>\n",
       "      <td>0</td>\n",
       "      <td>0</td>\n",
       "    </tr>\n",
       "  </tbody>\n",
       "</table>\n",
       "</div>"
      ],
      "text/plain": [
       "             venue(r/h/n)  venue(r/h)  pos-draftkings  salary-draftkings  \\\n",
       "season_year                                                                \n",
       "2016-17             25251           0              98                 98   \n",
       "2017-18             25603           0             519                519   \n",
       "2018-19             25612           0             717                717   \n",
       "2019-20             22221           0             830                830   \n",
       "2020-21             22827           0             519                519   \n",
       "2021-22             25861           0             797                797   \n",
       "2022-23             25630           0             626                626   \n",
       "2023-24                 0       26334             578                578   \n",
       "\n",
       "             pos-yahoo  salary-yahoo  pos-fanduel  salary-fanduel  \\\n",
       "season_year                                                         \n",
       "2016-17             71            71          107             107   \n",
       "2017-18             48            48          233             233   \n",
       "2018-19             47            47          121             121   \n",
       "2019-20            171           171          131             131   \n",
       "2020-21            169           169          158             158   \n",
       "2021-22            592           592          174             174   \n",
       "2022-23            279           279           96              96   \n",
       "2023-24            120           120           45              45   \n",
       "\n",
       "             available_flag  fp_draftkings  fp_yahoo  \n",
       "season_year                                           \n",
       "2016-17                   0              0         0  \n",
       "2017-18                  20              1         1  \n",
       "2018-19                   0              0         0  \n",
       "2019-20                   0              0         0  \n",
       "2020-21                   0              0         0  \n",
       "2021-22                   0              0         0  \n",
       "2022-23                   0              0         0  \n",
       "2023-24                   0              0         0  "
      ]
     },
     "execution_count": 12,
     "metadata": {},
     "output_type": "execute_result"
    }
   ],
   "source": [
    "missing_values_by_season = df.groupby('season_year').apply(lambda x: x.isna().sum())\n",
    "missing_values_by_season = missing_values_by_season[['venue(r/h/n)', 'venue(r/h)', 'pos-draftkings', 'salary-draftkings', 'pos-yahoo', 'salary-yahoo', 'pos-fanduel', 'salary-fanduel', 'available_flag', 'fp_draftkings', 'fp_yahoo']]\n",
    "missing_values_by_season"
   ]
  },
  {
   "cell_type": "code",
   "execution_count": 13,
   "id": "1825d8fb-eb8e-41ad-992d-47348ec4a137",
   "metadata": {},
   "outputs": [],
   "source": [
    "df['venue(r/h)'] = df['venue(r/h)'].fillna(df['venue(r/h/n)'])\n",
    "df.drop(columns=['venue(r/h/n)'], inplace=True)"
   ]
  },
  {
   "cell_type": "code",
   "execution_count": 14,
   "id": "a24fe8a5-26e5-4889-8a3a-608c0356c118",
   "metadata": {},
   "outputs": [],
   "source": [
    "df = df.dropna(subset=['available_flag'])"
   ]
  },
  {
   "cell_type": "code",
   "execution_count": 15,
   "id": "c8e5e673-a657-4259-b50f-60f9435a032e",
   "metadata": {},
   "outputs": [
    {
     "data": {
      "text/plain": [
       "pos-draftkings       4684\n",
       "salary-draftkings    4684\n",
       "pos-yahoo            1497\n",
       "salary-yahoo         1497\n",
       "pos-fanduel          1065\n",
       "salary-fanduel       1065\n",
       "fp_yahoo                1\n",
       "fp_draftkings           1\n",
       "pct_uast_fgm            0\n",
       "pct_pts_3pt             0\n",
       "pct_ast_fgm             0\n",
       "pct_uast_3pm            0\n",
       "pct_ast_3pm             0\n",
       "pct_uast_2pm            0\n",
       "pct_ast_2pm             0\n",
       "pct_pts_paint           0\n",
       "pct_pts_off_tov         0\n",
       "pct_pts_ft              0\n",
       "pct_pts_fb              0\n",
       "pct_fga_2pt             0\n",
       "dtype: int64"
      ]
     },
     "execution_count": 15,
     "metadata": {},
     "output_type": "execute_result"
    }
   ],
   "source": [
    "df.isna().sum().sort_values(ascending=False).head(20)"
   ]
  },
  {
   "cell_type": "markdown",
   "id": "31b98163-93fe-4e6b-8cda-df1691f64b52",
   "metadata": {},
   "source": [
    "# Basic Preprocessing"
   ]
  },
  {
   "cell_type": "code",
   "execution_count": 16,
   "id": "e50a5ec5-2059-4dfa-abf0-f98eb940d5e6",
   "metadata": {},
   "outputs": [],
   "source": [
    "def preprocess_basic(df):\n",
    "    df['starter'] = df['starter(y/n)'].apply(lambda x: 1 if x == 'Y' else 0)\n",
    "    df['venue'] = df['venue(r/h)'].apply(lambda x: 1 if x == 'H' else 0)\n",
    "    df['is_playoff'] = df['regular/playoffs'].apply(lambda x: 0 if x == 'Regular' else 0)\n",
    "    df['is_wl'] = df['wl'].apply(lambda x: 0 if x == 'W' else 0)\n",
    "    df['days_rest_int'] = df['days_rest'].astype(int)\n",
    "    cols_to_drop = ['player_id', 'team_id', 'days_rest', 'starter(y/n)', 'venue(r/h)', 'regular/playoffs', 'wl']\n",
    "    df = df.drop(cols_to_drop, axis=1)\n",
    "    df['minutes_played'] = df['minutes_played'].fillna(0)  # Fill missing values with 0 minutes\n",
    "    return df"
   ]
  },
  {
   "cell_type": "code",
   "execution_count": 17,
   "id": "98f0af40-0657-4323-aed4-32d33d94604d",
   "metadata": {},
   "outputs": [],
   "source": [
    "df = preprocess_basic(df)"
   ]
  },
  {
   "cell_type": "code",
   "execution_count": 18,
   "id": "5617d045-071a-4168-bb96-ae6e8572106c",
   "metadata": {},
   "outputs": [
    {
     "data": {
      "text/plain": [
       "salary-draftkings    4684\n",
       "pos-draftkings       4684\n",
       "salary-yahoo         1497\n",
       "pos-yahoo            1497\n",
       "pos-fanduel          1065\n",
       "salary-fanduel       1065\n",
       "fp_yahoo                1\n",
       "fp_draftkings           1\n",
       "pct_pts_paint           0\n",
       "pct_ast_2pm             0\n",
       "pct_uast_2pm            0\n",
       "season_year             0\n",
       "pct_pts_ft              0\n",
       "pct_ast_3pm             0\n",
       "pct_uast_3pm            0\n",
       "pct_ast_fgm             0\n",
       "pct_uast_fgm            0\n",
       "pct_fgm                 0\n",
       "pct_pts_off_tov         0\n",
       "pct_fga_3pt             0\n",
       "dtype: int64"
      ]
     },
     "execution_count": 18,
     "metadata": {},
     "output_type": "execute_result"
    }
   ],
   "source": [
    "df.isna().sum().sort_values(ascending=False).head(20)"
   ]
  },
  {
   "cell_type": "code",
   "execution_count": 19,
   "id": "54625020-ad2a-435b-bca5-e197d8953192",
   "metadata": {},
   "outputs": [],
   "source": [
    "df.to_csv('data/gamelogs_salaries_all_seasons_merged.csv')"
   ]
  },
  {
   "cell_type": "code",
   "execution_count": 20,
   "id": "839392ae-9100-4b61-b448-0da0df666f48",
   "metadata": {},
   "outputs": [
    {
     "data": {
      "text/plain": [
       "salary-draftkings    4684\n",
       "pos-draftkings       4684\n",
       "salary-yahoo         1497\n",
       "pos-yahoo            1497\n",
       "pos-fanduel          1065\n",
       "salary-fanduel       1065\n",
       "fp_yahoo                1\n",
       "fp_draftkings           1\n",
       "pct_pts_paint           0\n",
       "pct_ast_2pm             0\n",
       "pct_uast_2pm            0\n",
       "season_year             0\n",
       "pct_pts_ft              0\n",
       "pct_ast_3pm             0\n",
       "pct_uast_3pm            0\n",
       "pct_ast_fgm             0\n",
       "pct_uast_fgm            0\n",
       "pct_fgm                 0\n",
       "pct_pts_off_tov         0\n",
       "pct_fga_3pt             0\n",
       "dtype: int64"
      ]
     },
     "execution_count": 20,
     "metadata": {},
     "output_type": "execute_result"
    }
   ],
   "source": [
    "df.isna().sum().sort_values(ascending=False).head(20)"
   ]
  },
  {
   "cell_type": "code",
   "execution_count": 21,
   "id": "e187d7f7-7e37-4bf3-b2d7-6c23b616e3a0",
   "metadata": {},
   "outputs": [
    {
     "name": "stdout",
     "output_type": "stream",
     "text": [
      "2022-23\n",
      "2018-19\n",
      "2020-21\n",
      "2019-20\n",
      "2017-18\n",
      "2023-24\n",
      "2021-22\n",
      "2016-17\n"
     ]
    }
   ],
   "source": [
    "for season in df['season_year'].unique():\n",
    "    season_df = df[df['season_year'] == season]\n",
    "    season_df.to_csv(f'data/gamelogs_salaries_{season}_merged.csv')\n",
    "    print(f\"{season}\")"
   ]
  },
  {
   "cell_type": "code",
   "execution_count": 27,
   "id": "d0272a5c-d58b-4704-94cd-04efd22199c9",
   "metadata": {},
   "outputs": [
    {
     "data": {
      "text/plain": [
       "pos-fanduel          107\n",
       "salary-fanduel       107\n",
       "pos-draftkings        98\n",
       "salary-draftkings     98\n",
       "salary-yahoo          71\n",
       "                    ... \n",
       "off_rating             0\n",
       "e_off_rating           0\n",
       "available_flag         0\n",
       "wnba_fantasy_pts       0\n",
       "days_rest_int          0\n",
       "Length: 109, dtype: int64"
      ]
     },
     "execution_count": 27,
     "metadata": {},
     "output_type": "execute_result"
    }
   ],
   "source": [
    "season_df.isna().sum().sort_values(ascending=False)"
   ]
  },
  {
   "cell_type": "code",
   "execution_count": null,
   "id": "df5a1b09-20e3-492c-ad22-d3973aaf708f",
   "metadata": {},
   "outputs": [],
   "source": []
  }
 ],
 "metadata": {
  "kernelspec": {
   "display_name": "Python 3 (ipykernel)",
   "language": "python",
   "name": "python3"
  },
  "language_info": {
   "codemirror_mode": {
    "name": "ipython",
    "version": 3
   },
   "file_extension": ".py",
   "mimetype": "text/x-python",
   "name": "python",
   "nbconvert_exporter": "python",
   "pygments_lexer": "ipython3",
   "version": "3.12.1"
  }
 },
 "nbformat": 4,
 "nbformat_minor": 5
}
