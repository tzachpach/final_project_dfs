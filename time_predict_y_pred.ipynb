{
 "cells": [
  {
   "cell_type": "code",
   "execution_count": 14,
   "id": "initial_id",
   "metadata": {
    "collapsed": true,
    "ExecuteTime": {
     "end_time": "2024-04-19T12:44:57.551248Z",
     "start_time": "2024-04-19T12:44:49.964557Z"
    }
   },
   "outputs": [],
   "source": [
    "import numpy as np\n",
    "import matplotlib.pyplot as plt\n",
    "import pandas as pd\n",
    "from sklearn.model_selection import train_test_split\n",
    "from sklearn.preprocessing import StandardScaler\n",
    "from sklearn.svm import SVC\n",
    "from sklearn.metrics import confusion_matrix\n",
    "from matplotlib.colors import ListedColormap\n",
    "import warnings\n",
    "warnings.filterwarnings(\"ignore\")"
   ]
  },
  {
   "cell_type": "markdown",
   "source": [
    "# Fetch Data"
   ],
   "metadata": {
    "collapsed": false
   },
   "id": "e3d6b5e5d6a3cec4"
  },
  {
   "cell_type": "code",
   "outputs": [],
   "source": [
    "dataset = pd.read_csv('2021-22_game_by_game.csv')"
   ],
   "metadata": {
    "collapsed": false,
    "ExecuteTime": {
     "end_time": "2024-04-19T12:44:59.533142Z",
     "start_time": "2024-04-19T12:44:58.601229Z"
    }
   },
   "id": "90eb299db0292564",
   "execution_count": 2
  },
  {
   "cell_type": "code",
   "outputs": [
    {
     "data": {
      "text/plain": "    GAME_ID     TEAM_ID TEAM_ABBREVIATION TEAM_CITY  PLAYER_ID    PLAYER_NAME  \\\n0  42000406  1610612756               PHX   Phoenix    1628969  Mikal Bridges   \n1  42000406  1610612756               PHX   Phoenix     203109    Jae Crowder   \n2  42000406  1610612756               PHX   Phoenix    1629028  Deandre Ayton   \n3  42000406  1610612756               PHX   Phoenix    1626164   Devin Booker   \n4  42000406  1610612756               PHX   Phoenix     101108     Chris Paul   \n\n  NICKNAME START_POSITION COMMENT           MIN  ...  OREB_PCT    PACE  \\\n0    Mikal              F     NaN  39.000000:28  ...     0.024  102.76   \n1      Jae              F     NaN  40.000000:33  ...     0.053  102.39   \n2  Deandre              C     NaN  36.000000:12  ...     0.024  104.11   \n3    Devin              G     NaN  46.000000:15  ...     0.000  102.23   \n4    Chris              G     NaN  39.000000:13  ...     0.026  102.81   \n\n   PACE_PER40    PIE  POSS  REB_PCT  TM_TOV_PCT  TS_PCT  USG_PCT   GAME_DATE  \n0       85.63  0.055    84    0.075         0.0   0.444    0.089  2021-07-20  \n1       85.33  0.140    86    0.169        13.3   0.568    0.165  2021-07-20  \n2       86.76  0.043    78    0.077        11.8   0.423    0.190  2021-07-20  \n3       85.19  0.018    98    0.033        17.6   0.407    0.276  2021-07-20  \n4       85.68  0.123    84    0.026        10.7   0.626    0.258  2021-07-20  \n\n[5 rows x 52 columns]",
      "text/html": "<div>\n<style scoped>\n    .dataframe tbody tr th:only-of-type {\n        vertical-align: middle;\n    }\n\n    .dataframe tbody tr th {\n        vertical-align: top;\n    }\n\n    .dataframe thead th {\n        text-align: right;\n    }\n</style>\n<table border=\"1\" class=\"dataframe\">\n  <thead>\n    <tr style=\"text-align: right;\">\n      <th></th>\n      <th>GAME_ID</th>\n      <th>TEAM_ID</th>\n      <th>TEAM_ABBREVIATION</th>\n      <th>TEAM_CITY</th>\n      <th>PLAYER_ID</th>\n      <th>PLAYER_NAME</th>\n      <th>NICKNAME</th>\n      <th>START_POSITION</th>\n      <th>COMMENT</th>\n      <th>MIN</th>\n      <th>...</th>\n      <th>OREB_PCT</th>\n      <th>PACE</th>\n      <th>PACE_PER40</th>\n      <th>PIE</th>\n      <th>POSS</th>\n      <th>REB_PCT</th>\n      <th>TM_TOV_PCT</th>\n      <th>TS_PCT</th>\n      <th>USG_PCT</th>\n      <th>GAME_DATE</th>\n    </tr>\n  </thead>\n  <tbody>\n    <tr>\n      <th>0</th>\n      <td>42000406</td>\n      <td>1610612756</td>\n      <td>PHX</td>\n      <td>Phoenix</td>\n      <td>1628969</td>\n      <td>Mikal Bridges</td>\n      <td>Mikal</td>\n      <td>F</td>\n      <td>NaN</td>\n      <td>39.000000:28</td>\n      <td>...</td>\n      <td>0.024</td>\n      <td>102.76</td>\n      <td>85.63</td>\n      <td>0.055</td>\n      <td>84</td>\n      <td>0.075</td>\n      <td>0.0</td>\n      <td>0.444</td>\n      <td>0.089</td>\n      <td>2021-07-20</td>\n    </tr>\n    <tr>\n      <th>1</th>\n      <td>42000406</td>\n      <td>1610612756</td>\n      <td>PHX</td>\n      <td>Phoenix</td>\n      <td>203109</td>\n      <td>Jae Crowder</td>\n      <td>Jae</td>\n      <td>F</td>\n      <td>NaN</td>\n      <td>40.000000:33</td>\n      <td>...</td>\n      <td>0.053</td>\n      <td>102.39</td>\n      <td>85.33</td>\n      <td>0.140</td>\n      <td>86</td>\n      <td>0.169</td>\n      <td>13.3</td>\n      <td>0.568</td>\n      <td>0.165</td>\n      <td>2021-07-20</td>\n    </tr>\n    <tr>\n      <th>2</th>\n      <td>42000406</td>\n      <td>1610612756</td>\n      <td>PHX</td>\n      <td>Phoenix</td>\n      <td>1629028</td>\n      <td>Deandre Ayton</td>\n      <td>Deandre</td>\n      <td>C</td>\n      <td>NaN</td>\n      <td>36.000000:12</td>\n      <td>...</td>\n      <td>0.024</td>\n      <td>104.11</td>\n      <td>86.76</td>\n      <td>0.043</td>\n      <td>78</td>\n      <td>0.077</td>\n      <td>11.8</td>\n      <td>0.423</td>\n      <td>0.190</td>\n      <td>2021-07-20</td>\n    </tr>\n    <tr>\n      <th>3</th>\n      <td>42000406</td>\n      <td>1610612756</td>\n      <td>PHX</td>\n      <td>Phoenix</td>\n      <td>1626164</td>\n      <td>Devin Booker</td>\n      <td>Devin</td>\n      <td>G</td>\n      <td>NaN</td>\n      <td>46.000000:15</td>\n      <td>...</td>\n      <td>0.000</td>\n      <td>102.23</td>\n      <td>85.19</td>\n      <td>0.018</td>\n      <td>98</td>\n      <td>0.033</td>\n      <td>17.6</td>\n      <td>0.407</td>\n      <td>0.276</td>\n      <td>2021-07-20</td>\n    </tr>\n    <tr>\n      <th>4</th>\n      <td>42000406</td>\n      <td>1610612756</td>\n      <td>PHX</td>\n      <td>Phoenix</td>\n      <td>101108</td>\n      <td>Chris Paul</td>\n      <td>Chris</td>\n      <td>G</td>\n      <td>NaN</td>\n      <td>39.000000:13</td>\n      <td>...</td>\n      <td>0.026</td>\n      <td>102.81</td>\n      <td>85.68</td>\n      <td>0.123</td>\n      <td>84</td>\n      <td>0.026</td>\n      <td>10.7</td>\n      <td>0.626</td>\n      <td>0.258</td>\n      <td>2021-07-20</td>\n    </tr>\n  </tbody>\n</table>\n<p>5 rows × 52 columns</p>\n</div>"
     },
     "execution_count": 3,
     "metadata": {},
     "output_type": "execute_result"
    }
   ],
   "source": [
    "dataset.head()"
   ],
   "metadata": {
    "collapsed": false,
    "ExecuteTime": {
     "end_time": "2024-04-19T12:45:05.297414Z",
     "start_time": "2024-04-19T12:45:05.213854Z"
    }
   },
   "id": "7e03c3bdc17724bd",
   "execution_count": 3
  },
  {
   "cell_type": "markdown",
   "source": [
    "# EDa"
   ],
   "metadata": {
    "collapsed": false
   },
   "id": "dd0f09039c78ef12"
  },
  {
   "cell_type": "code",
   "outputs": [
    {
     "name": "stdout",
     "output_type": "stream",
     "text": [
      "<class 'pandas.core.frame.DataFrame'>\n",
      "RangeIndex: 36860 entries, 0 to 36859\n",
      "Data columns (total 52 columns):\n",
      " #   Column             Non-Null Count  Dtype  \n",
      "---  ------             --------------  -----  \n",
      " 0   GAME_ID            36860 non-null  int64  \n",
      " 1   TEAM_ID            36860 non-null  int64  \n",
      " 2   TEAM_ABBREVIATION  36860 non-null  object \n",
      " 3   TEAM_CITY          36860 non-null  object \n",
      " 4   PLAYER_ID          36860 non-null  int64  \n",
      " 5   PLAYER_NAME        36860 non-null  object \n",
      " 6   NICKNAME           36860 non-null  object \n",
      " 7   START_POSITION     13630 non-null  object \n",
      " 8   COMMENT            7588 non-null   object \n",
      " 9   MIN                29272 non-null  object \n",
      " 10  FGM                29272 non-null  float64\n",
      " 11  FGA                29272 non-null  float64\n",
      " 12  FG_PCT             29272 non-null  float64\n",
      " 13  FG3M               29272 non-null  float64\n",
      " 14  FG3A               29272 non-null  float64\n",
      " 15  FG3_PCT            29272 non-null  float64\n",
      " 16  FTM                29272 non-null  float64\n",
      " 17  FTA                29272 non-null  float64\n",
      " 18  FT_PCT             29272 non-null  float64\n",
      " 19  OREB               29272 non-null  float64\n",
      " 20  DREB               29272 non-null  float64\n",
      " 21  REB                29272 non-null  float64\n",
      " 22  AST                29272 non-null  float64\n",
      " 23  STL                29272 non-null  float64\n",
      " 24  BLK                29272 non-null  float64\n",
      " 25  TO                 29272 non-null  float64\n",
      " 26  PF                 29272 non-null  float64\n",
      " 27  PTS                29272 non-null  float64\n",
      " 28  PLUS_MINUS         29272 non-null  float64\n",
      " 29  AST_PCT            29272 non-null  float64\n",
      " 30  AST_RATIO          29272 non-null  float64\n",
      " 31  AST_TOV            29272 non-null  float64\n",
      " 32  DEF_RATING         36860 non-null  float64\n",
      " 33  DREB_PCT           36860 non-null  float64\n",
      " 34  EFG_PCT            29272 non-null  float64\n",
      " 35  E_DEF_RATING       29272 non-null  float64\n",
      " 36  E_NET_RATING       29272 non-null  float64\n",
      " 37  E_OFF_RATING       29272 non-null  float64\n",
      " 38  E_PACE             29272 non-null  float64\n",
      " 39  E_USG_PCT          36860 non-null  float64\n",
      " 40  NET_RATING         36860 non-null  float64\n",
      " 41  OFF_RATING         36860 non-null  float64\n",
      " 42  OREB_PCT           36860 non-null  float64\n",
      " 43  PACE               29272 non-null  float64\n",
      " 44  PACE_PER40         29272 non-null  float64\n",
      " 45  PIE                29272 non-null  float64\n",
      " 46  POSS               36860 non-null  int64  \n",
      " 47  REB_PCT            36860 non-null  float64\n",
      " 48  TM_TOV_PCT         29272 non-null  float64\n",
      " 49  TS_PCT             29272 non-null  float64\n",
      " 50  USG_PCT            36860 non-null  float64\n",
      " 51  GAME_DATE          36860 non-null  object \n",
      "dtypes: float64(40), int64(4), object(8)\n",
      "memory usage: 14.6+ MB\n"
     ]
    }
   ],
   "source": [
    "dataset.info()"
   ],
   "metadata": {
    "collapsed": false,
    "ExecuteTime": {
     "end_time": "2024-04-19T12:45:30.033074Z",
     "start_time": "2024-04-19T12:45:29.906066Z"
    }
   },
   "id": "f7989bb644ae529e",
   "execution_count": 4
  },
  {
   "cell_type": "code",
   "outputs": [
    {
     "data": {
      "text/plain": "            GAME_ID       TEAM_ID     PLAYER_ID           FGM           FGA  \\\ncount  3.686000e+04  3.686000e+04  3.686000e+04  29272.000000  29272.000000   \nmean   2.120403e+08  1.610811e+09  1.167889e+06      3.815079      8.235344   \nstd    5.849399e+08  6.133752e+05  6.706463e+05      3.179613      5.884624   \nmin    1.200000e+07  1.610613e+09  2.544000e+03      0.000000      0.000000   \n25%    2.200028e+07  1.610613e+09  2.035240e+05      1.000000      4.000000   \n50%    2.200063e+07  1.610613e+09  1.628400e+06      3.000000      7.000000   \n75%    2.200097e+07  1.610613e+09  1.629647e+06      6.000000     12.000000   \nmax    2.042000e+09  1.612710e+09  1.630466e+06     21.000000     37.000000   \n\n             FG_PCT          FG3M          FG3A       FG3_PCT           FTM  \\\ncount  29272.000000  29272.000000  29272.000000  29272.000000  29272.000000   \nmean       0.428196      1.178293      3.248394      0.260143      1.522171   \nstd        0.251505      1.483243      3.006200      0.291851      2.175232   \nmin        0.000000      0.000000      0.000000      0.000000      0.000000   \n25%        0.286000      0.000000      1.000000      0.000000      0.000000   \n50%        0.444000      1.000000      3.000000      0.200000      1.000000   \n75%        0.571000      2.000000      5.000000      0.500000      2.000000   \nmax        1.000000     12.000000     22.000000      1.000000     19.000000   \n\n       ...    OFF_RATING      OREB_PCT          PACE    PACE_PER40  \\\ncount  ...  36860.000000  36860.000000  29272.000000  29272.000000   \nmean   ...     84.670830      0.031788    103.395003     86.162451   \nstd    ...     48.493746      0.057542     88.501947     73.751627   \nmin    ...      0.000000      0.000000     47.010000     39.180000   \n25%    ...     70.000000      0.000000     97.210000     81.010000   \n50%    ...    101.800000      0.000000    101.390000     84.490000   \n75%    ...    117.300000      0.048000    105.970000     88.310000   \nmax    ...    300.000000      1.000000  14405.760000  12004.800000   \n\n                PIE          POSS       REB_PCT    TM_TOV_PCT        TS_PCT  \\\ncount  29272.000000  36860.000000  36860.000000  29272.000000  29272.000000   \nmean       0.088864     37.630521      0.070144     10.025000      0.528814   \nstd        0.162012     27.471117      0.071564     12.678528      0.285133   \nmin       -5.000000      0.000000      0.000000      0.000000      0.000000   \n25%        0.036000      8.000000      0.000000      0.000000      0.375000   \n50%        0.090000     41.000000      0.059000      7.700000      0.543000   \n75%        0.142000     61.000000      0.108000     14.800000      0.698000   \nmax        6.500000    108.000000      1.000000    100.000000      2.273000   \n\n            USG_PCT  \ncount  36860.000000  \nmean       0.145529  \nstd        0.107200  \nmin        0.000000  \n25%        0.054750  \n50%        0.154000  \n75%        0.220000  \nmax        1.000000  \n\n[8 rows x 44 columns]",
      "text/html": "<div>\n<style scoped>\n    .dataframe tbody tr th:only-of-type {\n        vertical-align: middle;\n    }\n\n    .dataframe tbody tr th {\n        vertical-align: top;\n    }\n\n    .dataframe thead th {\n        text-align: right;\n    }\n</style>\n<table border=\"1\" class=\"dataframe\">\n  <thead>\n    <tr style=\"text-align: right;\">\n      <th></th>\n      <th>GAME_ID</th>\n      <th>TEAM_ID</th>\n      <th>PLAYER_ID</th>\n      <th>FGM</th>\n      <th>FGA</th>\n      <th>FG_PCT</th>\n      <th>FG3M</th>\n      <th>FG3A</th>\n      <th>FG3_PCT</th>\n      <th>FTM</th>\n      <th>...</th>\n      <th>OFF_RATING</th>\n      <th>OREB_PCT</th>\n      <th>PACE</th>\n      <th>PACE_PER40</th>\n      <th>PIE</th>\n      <th>POSS</th>\n      <th>REB_PCT</th>\n      <th>TM_TOV_PCT</th>\n      <th>TS_PCT</th>\n      <th>USG_PCT</th>\n    </tr>\n  </thead>\n  <tbody>\n    <tr>\n      <th>count</th>\n      <td>3.686000e+04</td>\n      <td>3.686000e+04</td>\n      <td>3.686000e+04</td>\n      <td>29272.000000</td>\n      <td>29272.000000</td>\n      <td>29272.000000</td>\n      <td>29272.000000</td>\n      <td>29272.000000</td>\n      <td>29272.000000</td>\n      <td>29272.000000</td>\n      <td>...</td>\n      <td>36860.000000</td>\n      <td>36860.000000</td>\n      <td>29272.000000</td>\n      <td>29272.000000</td>\n      <td>29272.000000</td>\n      <td>36860.000000</td>\n      <td>36860.000000</td>\n      <td>29272.000000</td>\n      <td>29272.000000</td>\n      <td>36860.000000</td>\n    </tr>\n    <tr>\n      <th>mean</th>\n      <td>2.120403e+08</td>\n      <td>1.610811e+09</td>\n      <td>1.167889e+06</td>\n      <td>3.815079</td>\n      <td>8.235344</td>\n      <td>0.428196</td>\n      <td>1.178293</td>\n      <td>3.248394</td>\n      <td>0.260143</td>\n      <td>1.522171</td>\n      <td>...</td>\n      <td>84.670830</td>\n      <td>0.031788</td>\n      <td>103.395003</td>\n      <td>86.162451</td>\n      <td>0.088864</td>\n      <td>37.630521</td>\n      <td>0.070144</td>\n      <td>10.025000</td>\n      <td>0.528814</td>\n      <td>0.145529</td>\n    </tr>\n    <tr>\n      <th>std</th>\n      <td>5.849399e+08</td>\n      <td>6.133752e+05</td>\n      <td>6.706463e+05</td>\n      <td>3.179613</td>\n      <td>5.884624</td>\n      <td>0.251505</td>\n      <td>1.483243</td>\n      <td>3.006200</td>\n      <td>0.291851</td>\n      <td>2.175232</td>\n      <td>...</td>\n      <td>48.493746</td>\n      <td>0.057542</td>\n      <td>88.501947</td>\n      <td>73.751627</td>\n      <td>0.162012</td>\n      <td>27.471117</td>\n      <td>0.071564</td>\n      <td>12.678528</td>\n      <td>0.285133</td>\n      <td>0.107200</td>\n    </tr>\n    <tr>\n      <th>min</th>\n      <td>1.200000e+07</td>\n      <td>1.610613e+09</td>\n      <td>2.544000e+03</td>\n      <td>0.000000</td>\n      <td>0.000000</td>\n      <td>0.000000</td>\n      <td>0.000000</td>\n      <td>0.000000</td>\n      <td>0.000000</td>\n      <td>0.000000</td>\n      <td>...</td>\n      <td>0.000000</td>\n      <td>0.000000</td>\n      <td>47.010000</td>\n      <td>39.180000</td>\n      <td>-5.000000</td>\n      <td>0.000000</td>\n      <td>0.000000</td>\n      <td>0.000000</td>\n      <td>0.000000</td>\n      <td>0.000000</td>\n    </tr>\n    <tr>\n      <th>25%</th>\n      <td>2.200028e+07</td>\n      <td>1.610613e+09</td>\n      <td>2.035240e+05</td>\n      <td>1.000000</td>\n      <td>4.000000</td>\n      <td>0.286000</td>\n      <td>0.000000</td>\n      <td>1.000000</td>\n      <td>0.000000</td>\n      <td>0.000000</td>\n      <td>...</td>\n      <td>70.000000</td>\n      <td>0.000000</td>\n      <td>97.210000</td>\n      <td>81.010000</td>\n      <td>0.036000</td>\n      <td>8.000000</td>\n      <td>0.000000</td>\n      <td>0.000000</td>\n      <td>0.375000</td>\n      <td>0.054750</td>\n    </tr>\n    <tr>\n      <th>50%</th>\n      <td>2.200063e+07</td>\n      <td>1.610613e+09</td>\n      <td>1.628400e+06</td>\n      <td>3.000000</td>\n      <td>7.000000</td>\n      <td>0.444000</td>\n      <td>1.000000</td>\n      <td>3.000000</td>\n      <td>0.200000</td>\n      <td>1.000000</td>\n      <td>...</td>\n      <td>101.800000</td>\n      <td>0.000000</td>\n      <td>101.390000</td>\n      <td>84.490000</td>\n      <td>0.090000</td>\n      <td>41.000000</td>\n      <td>0.059000</td>\n      <td>7.700000</td>\n      <td>0.543000</td>\n      <td>0.154000</td>\n    </tr>\n    <tr>\n      <th>75%</th>\n      <td>2.200097e+07</td>\n      <td>1.610613e+09</td>\n      <td>1.629647e+06</td>\n      <td>6.000000</td>\n      <td>12.000000</td>\n      <td>0.571000</td>\n      <td>2.000000</td>\n      <td>5.000000</td>\n      <td>0.500000</td>\n      <td>2.000000</td>\n      <td>...</td>\n      <td>117.300000</td>\n      <td>0.048000</td>\n      <td>105.970000</td>\n      <td>88.310000</td>\n      <td>0.142000</td>\n      <td>61.000000</td>\n      <td>0.108000</td>\n      <td>14.800000</td>\n      <td>0.698000</td>\n      <td>0.220000</td>\n    </tr>\n    <tr>\n      <th>max</th>\n      <td>2.042000e+09</td>\n      <td>1.612710e+09</td>\n      <td>1.630466e+06</td>\n      <td>21.000000</td>\n      <td>37.000000</td>\n      <td>1.000000</td>\n      <td>12.000000</td>\n      <td>22.000000</td>\n      <td>1.000000</td>\n      <td>19.000000</td>\n      <td>...</td>\n      <td>300.000000</td>\n      <td>1.000000</td>\n      <td>14405.760000</td>\n      <td>12004.800000</td>\n      <td>6.500000</td>\n      <td>108.000000</td>\n      <td>1.000000</td>\n      <td>100.000000</td>\n      <td>2.273000</td>\n      <td>1.000000</td>\n    </tr>\n  </tbody>\n</table>\n<p>8 rows × 44 columns</p>\n</div>"
     },
     "execution_count": 5,
     "metadata": {},
     "output_type": "execute_result"
    }
   ],
   "source": [
    "dataset.describe()"
   ],
   "metadata": {
    "collapsed": false,
    "ExecuteTime": {
     "end_time": "2024-04-19T12:46:34.523850Z",
     "start_time": "2024-04-19T12:46:34.057900Z"
    }
   },
   "id": "210c514bd38ab43f",
   "execution_count": 5
  },
  {
   "cell_type": "code",
   "outputs": [],
   "source": [
    "dataset['GAME_DATE'] = pd.to_datetime(dataset['GAME_DATE'])"
   ],
   "metadata": {
    "collapsed": false,
    "ExecuteTime": {
     "end_time": "2024-04-19T12:47:07.876073Z",
     "start_time": "2024-04-19T12:47:07.833471Z"
    }
   },
   "id": "49c1367e2d5578be",
   "execution_count": 6
  },
  {
   "cell_type": "code",
   "outputs": [
    {
     "name": "stderr",
     "output_type": "stream",
     "text": [
      "/Users/yafo/miniconda3/envs/nlp/lib/python3.10/site-packages/fuzzywuzzy/fuzz.py:11: UserWarning: Using slow pure-python SequenceMatcher. Install python-Levenshtein to remove this warning\n",
      "  warnings.warn('Using slow pure-python SequenceMatcher. Install python-Levenshtein to remove this warning')\n"
     ]
    },
    {
     "ename": "KeyboardInterrupt",
     "evalue": "",
     "output_type": "error",
     "traceback": [
      "\u001B[0;31m---------------------------------------------------------------------------\u001B[0m",
      "\u001B[0;31mKeyboardInterrupt\u001B[0m                         Traceback (most recent call last)",
      "Input \u001B[0;32mIn [8]\u001B[0m, in \u001B[0;36m<cell line: 1>\u001B[0;34m()\u001B[0m\n\u001B[0;32m----> 1\u001B[0m \u001B[38;5;28;01mfrom\u001B[39;00m \u001B[38;5;21;01mdata_loader\u001B[39;00m \u001B[38;5;28;01mimport\u001B[39;00m calculate_fanduel_fantasy_points\n\u001B[1;32m      3\u001B[0m dataset[\u001B[38;5;124m'\u001B[39m\u001B[38;5;124mDFS_VALUE\u001B[39m\u001B[38;5;124m'\u001B[39m] \u001B[38;5;241m=\u001B[39m dataset\u001B[38;5;241m.\u001B[39mapply(\u001B[38;5;28;01mlambda\u001B[39;00m row: calculate_fanduel_fantasy_points(row), axis\u001B[38;5;241m=\u001B[39m\u001B[38;5;241m1\u001B[39m)\n",
      "File \u001B[0;32m~/Library/Mobile Documents/com~apple~CloudDocs/IDC MLDS MSc 2021/GPT_AI_Research/DFS/final_project_dfs/data_loader.py:247\u001B[0m, in \u001B[0;36m<module>\u001B[0;34m\u001B[0m\n\u001B[1;32m    242\u001B[0m     \u001B[38;5;28;01mreturn\u001B[39;00m all_game_data_df\n\u001B[1;32m    245\u001B[0m \u001B[38;5;66;03m# get_contest_data(\"2022-03-06\")\u001B[39;00m\n\u001B[0;32m--> 247\u001B[0m \u001B[43mget_game_by_game_data\u001B[49m\u001B[43m(\u001B[49m\u001B[38;5;124;43m'\u001B[39;49m\u001B[38;5;124;43m2020-21\u001B[39;49m\u001B[38;5;124;43m'\u001B[39;49m\u001B[43m)\u001B[49m\u001B[38;5;241m.\u001B[39mto_csv(\u001B[38;5;124m'\u001B[39m\u001B[38;5;124m2021-22_game_by_game.csv\u001B[39m\u001B[38;5;124m'\u001B[39m, index\u001B[38;5;241m=\u001B[39m\u001B[38;5;28;01mFalse\u001B[39;00m)\n",
      "File \u001B[0;32m~/Library/Mobile Documents/com~apple~CloudDocs/IDC MLDS MSc 2021/GPT_AI_Research/DFS/final_project_dfs/data_loader.py:215\u001B[0m, in \u001B[0;36mget_game_by_game_data\u001B[0;34m(season)\u001B[0m\n\u001B[1;32m    212\u001B[0m i \u001B[38;5;241m=\u001B[39m \u001B[38;5;241m0\u001B[39m\n\u001B[1;32m    213\u001B[0m \u001B[38;5;28;01mfor\u001B[39;00m game_id \u001B[38;5;129;01min\u001B[39;00m game_ids:\n\u001B[1;32m    214\u001B[0m     \u001B[38;5;66;03m# Fetch data for each game\u001B[39;00m\n\u001B[0;32m--> 215\u001B[0m     traditional_boxscore \u001B[38;5;241m=\u001B[39m \u001B[43mboxscoretraditionalv2\u001B[49m\u001B[38;5;241;43m.\u001B[39;49m\u001B[43mBoxScoreTraditionalV2\u001B[49m\u001B[43m(\u001B[49m\u001B[43mgame_id\u001B[49m\u001B[38;5;241;43m=\u001B[39;49m\u001B[43mgame_id\u001B[49m\u001B[43m)\u001B[49m\n\u001B[1;32m    216\u001B[0m     traditional_df \u001B[38;5;241m=\u001B[39m traditional_boxscore\u001B[38;5;241m.\u001B[39mplayer_stats\u001B[38;5;241m.\u001B[39mget_data_frame()\n\u001B[1;32m    218\u001B[0m     \u001B[38;5;66;03m# Fetch advanced stats data\u001B[39;00m\n",
      "File \u001B[0;32m/Users/yafo/miniconda3/envs/nlp/lib/python3.10/site-packages/nba_api/stats/endpoints/boxscoretraditionalv2.py:133\u001B[0m, in \u001B[0;36mBoxScoreTraditionalV2.__init__\u001B[0;34m(self, game_id, end_period, end_range, range_type, start_period, start_range, proxy, headers, timeout, get_request)\u001B[0m\n\u001B[1;32m    124\u001B[0m \u001B[38;5;28mself\u001B[39m\u001B[38;5;241m.\u001B[39mparameters \u001B[38;5;241m=\u001B[39m {\n\u001B[1;32m    125\u001B[0m     \u001B[38;5;124m\"\u001B[39m\u001B[38;5;124mGameID\u001B[39m\u001B[38;5;124m\"\u001B[39m: game_id,\n\u001B[1;32m    126\u001B[0m     \u001B[38;5;124m\"\u001B[39m\u001B[38;5;124mEndPeriod\u001B[39m\u001B[38;5;124m\"\u001B[39m: end_period,\n\u001B[0;32m   (...)\u001B[0m\n\u001B[1;32m    130\u001B[0m     \u001B[38;5;124m\"\u001B[39m\u001B[38;5;124mStartRange\u001B[39m\u001B[38;5;124m\"\u001B[39m: start_range,\n\u001B[1;32m    131\u001B[0m }\n\u001B[1;32m    132\u001B[0m \u001B[38;5;28;01mif\u001B[39;00m get_request:\n\u001B[0;32m--> 133\u001B[0m     \u001B[38;5;28;43mself\u001B[39;49m\u001B[38;5;241;43m.\u001B[39;49m\u001B[43mget_request\u001B[49m\u001B[43m(\u001B[49m\u001B[43m)\u001B[49m\n",
      "File \u001B[0;32m/Users/yafo/miniconda3/envs/nlp/lib/python3.10/site-packages/nba_api/stats/endpoints/boxscoretraditionalv2.py:136\u001B[0m, in \u001B[0;36mBoxScoreTraditionalV2.get_request\u001B[0;34m(self)\u001B[0m\n\u001B[1;32m    135\u001B[0m \u001B[38;5;28;01mdef\u001B[39;00m \u001B[38;5;21mget_request\u001B[39m(\u001B[38;5;28mself\u001B[39m):\n\u001B[0;32m--> 136\u001B[0m     \u001B[38;5;28mself\u001B[39m\u001B[38;5;241m.\u001B[39mnba_response \u001B[38;5;241m=\u001B[39m \u001B[43mNBAStatsHTTP\u001B[49m\u001B[43m(\u001B[49m\u001B[43m)\u001B[49m\u001B[38;5;241;43m.\u001B[39;49m\u001B[43msend_api_request\u001B[49m\u001B[43m(\u001B[49m\n\u001B[1;32m    137\u001B[0m \u001B[43m        \u001B[49m\u001B[43mendpoint\u001B[49m\u001B[38;5;241;43m=\u001B[39;49m\u001B[38;5;28;43mself\u001B[39;49m\u001B[38;5;241;43m.\u001B[39;49m\u001B[43mendpoint\u001B[49m\u001B[43m,\u001B[49m\n\u001B[1;32m    138\u001B[0m \u001B[43m        \u001B[49m\u001B[43mparameters\u001B[49m\u001B[38;5;241;43m=\u001B[39;49m\u001B[38;5;28;43mself\u001B[39;49m\u001B[38;5;241;43m.\u001B[39;49m\u001B[43mparameters\u001B[49m\u001B[43m,\u001B[49m\n\u001B[1;32m    139\u001B[0m \u001B[43m        \u001B[49m\u001B[43mproxy\u001B[49m\u001B[38;5;241;43m=\u001B[39;49m\u001B[38;5;28;43mself\u001B[39;49m\u001B[38;5;241;43m.\u001B[39;49m\u001B[43mproxy\u001B[49m\u001B[43m,\u001B[49m\n\u001B[1;32m    140\u001B[0m \u001B[43m        \u001B[49m\u001B[43mheaders\u001B[49m\u001B[38;5;241;43m=\u001B[39;49m\u001B[38;5;28;43mself\u001B[39;49m\u001B[38;5;241;43m.\u001B[39;49m\u001B[43mheaders\u001B[49m\u001B[43m,\u001B[49m\n\u001B[1;32m    141\u001B[0m \u001B[43m        \u001B[49m\u001B[43mtimeout\u001B[49m\u001B[38;5;241;43m=\u001B[39;49m\u001B[38;5;28;43mself\u001B[39;49m\u001B[38;5;241;43m.\u001B[39;49m\u001B[43mtimeout\u001B[49m\u001B[43m,\u001B[49m\n\u001B[1;32m    142\u001B[0m \u001B[43m    \u001B[49m\u001B[43m)\u001B[49m\n\u001B[1;32m    143\u001B[0m     \u001B[38;5;28mself\u001B[39m\u001B[38;5;241m.\u001B[39mload_response()\n",
      "File \u001B[0;32m/Users/yafo/miniconda3/envs/nlp/lib/python3.10/site-packages/nba_api/library/http.py:146\u001B[0m, in \u001B[0;36mNBAHTTP.send_api_request\u001B[0;34m(self, endpoint, parameters, referer, proxy, headers, timeout, raise_exception_on_error)\u001B[0m\n\u001B[1;32m    143\u001B[0m         \u001B[38;5;28mprint\u001B[39m(\u001B[38;5;124m\"\u001B[39m\u001B[38;5;124mloading from file...\u001B[39m\u001B[38;5;124m\"\u001B[39m)\n\u001B[1;32m    145\u001B[0m \u001B[38;5;28;01mif\u001B[39;00m \u001B[38;5;129;01mnot\u001B[39;00m contents:\n\u001B[0;32m--> 146\u001B[0m     response \u001B[38;5;241m=\u001B[39m \u001B[43mrequests\u001B[49m\u001B[38;5;241;43m.\u001B[39;49m\u001B[43mget\u001B[49m\u001B[43m(\u001B[49m\n\u001B[1;32m    147\u001B[0m \u001B[43m        \u001B[49m\u001B[43murl\u001B[49m\u001B[38;5;241;43m=\u001B[39;49m\u001B[43mbase_url\u001B[49m\u001B[43m,\u001B[49m\n\u001B[1;32m    148\u001B[0m \u001B[43m        \u001B[49m\u001B[43mparams\u001B[49m\u001B[38;5;241;43m=\u001B[39;49m\u001B[43mparameters\u001B[49m\u001B[43m,\u001B[49m\n\u001B[1;32m    149\u001B[0m \u001B[43m        \u001B[49m\u001B[43mheaders\u001B[49m\u001B[38;5;241;43m=\u001B[39;49m\u001B[43mrequest_headers\u001B[49m\u001B[43m,\u001B[49m\n\u001B[1;32m    150\u001B[0m \u001B[43m        \u001B[49m\u001B[43mproxies\u001B[49m\u001B[38;5;241;43m=\u001B[39;49m\u001B[43mproxies\u001B[49m\u001B[43m,\u001B[49m\n\u001B[1;32m    151\u001B[0m \u001B[43m        \u001B[49m\u001B[43mtimeout\u001B[49m\u001B[38;5;241;43m=\u001B[39;49m\u001B[43mtimeout\u001B[49m\u001B[43m,\u001B[49m\n\u001B[1;32m    152\u001B[0m \u001B[43m    \u001B[49m\u001B[43m)\u001B[49m\n\u001B[1;32m    153\u001B[0m     url \u001B[38;5;241m=\u001B[39m response\u001B[38;5;241m.\u001B[39murl\n\u001B[1;32m    154\u001B[0m     status_code \u001B[38;5;241m=\u001B[39m response\u001B[38;5;241m.\u001B[39mstatus_code\n",
      "File \u001B[0;32m/Users/yafo/miniconda3/envs/nlp/lib/python3.10/site-packages/requests/api.py:73\u001B[0m, in \u001B[0;36mget\u001B[0;34m(url, params, **kwargs)\u001B[0m\n\u001B[1;32m     62\u001B[0m \u001B[38;5;28;01mdef\u001B[39;00m \u001B[38;5;21mget\u001B[39m(url, params\u001B[38;5;241m=\u001B[39m\u001B[38;5;28;01mNone\u001B[39;00m, \u001B[38;5;241m*\u001B[39m\u001B[38;5;241m*\u001B[39mkwargs):\n\u001B[1;32m     63\u001B[0m     \u001B[38;5;124mr\u001B[39m\u001B[38;5;124;03m\"\"\"Sends a GET request.\u001B[39;00m\n\u001B[1;32m     64\u001B[0m \n\u001B[1;32m     65\u001B[0m \u001B[38;5;124;03m    :param url: URL for the new :class:`Request` object.\u001B[39;00m\n\u001B[0;32m   (...)\u001B[0m\n\u001B[1;32m     70\u001B[0m \u001B[38;5;124;03m    :rtype: requests.Response\u001B[39;00m\n\u001B[1;32m     71\u001B[0m \u001B[38;5;124;03m    \"\"\"\u001B[39;00m\n\u001B[0;32m---> 73\u001B[0m     \u001B[38;5;28;01mreturn\u001B[39;00m \u001B[43mrequest\u001B[49m\u001B[43m(\u001B[49m\u001B[38;5;124;43m\"\u001B[39;49m\u001B[38;5;124;43mget\u001B[39;49m\u001B[38;5;124;43m\"\u001B[39;49m\u001B[43m,\u001B[49m\u001B[43m \u001B[49m\u001B[43murl\u001B[49m\u001B[43m,\u001B[49m\u001B[43m \u001B[49m\u001B[43mparams\u001B[49m\u001B[38;5;241;43m=\u001B[39;49m\u001B[43mparams\u001B[49m\u001B[43m,\u001B[49m\u001B[43m \u001B[49m\u001B[38;5;241;43m*\u001B[39;49m\u001B[38;5;241;43m*\u001B[39;49m\u001B[43mkwargs\u001B[49m\u001B[43m)\u001B[49m\n",
      "File \u001B[0;32m/Users/yafo/miniconda3/envs/nlp/lib/python3.10/site-packages/requests/api.py:59\u001B[0m, in \u001B[0;36mrequest\u001B[0;34m(method, url, **kwargs)\u001B[0m\n\u001B[1;32m     55\u001B[0m \u001B[38;5;66;03m# By using the 'with' statement we are sure the session is closed, thus we\u001B[39;00m\n\u001B[1;32m     56\u001B[0m \u001B[38;5;66;03m# avoid leaving sockets open which can trigger a ResourceWarning in some\u001B[39;00m\n\u001B[1;32m     57\u001B[0m \u001B[38;5;66;03m# cases, and look like a memory leak in others.\u001B[39;00m\n\u001B[1;32m     58\u001B[0m \u001B[38;5;28;01mwith\u001B[39;00m sessions\u001B[38;5;241m.\u001B[39mSession() \u001B[38;5;28;01mas\u001B[39;00m session:\n\u001B[0;32m---> 59\u001B[0m     \u001B[38;5;28;01mreturn\u001B[39;00m \u001B[43msession\u001B[49m\u001B[38;5;241;43m.\u001B[39;49m\u001B[43mrequest\u001B[49m\u001B[43m(\u001B[49m\u001B[43mmethod\u001B[49m\u001B[38;5;241;43m=\u001B[39;49m\u001B[43mmethod\u001B[49m\u001B[43m,\u001B[49m\u001B[43m \u001B[49m\u001B[43murl\u001B[49m\u001B[38;5;241;43m=\u001B[39;49m\u001B[43murl\u001B[49m\u001B[43m,\u001B[49m\u001B[43m \u001B[49m\u001B[38;5;241;43m*\u001B[39;49m\u001B[38;5;241;43m*\u001B[39;49m\u001B[43mkwargs\u001B[49m\u001B[43m)\u001B[49m\n",
      "File \u001B[0;32m/Users/yafo/miniconda3/envs/nlp/lib/python3.10/site-packages/requests/sessions.py:589\u001B[0m, in \u001B[0;36mSession.request\u001B[0;34m(self, method, url, params, data, headers, cookies, files, auth, timeout, allow_redirects, proxies, hooks, stream, verify, cert, json)\u001B[0m\n\u001B[1;32m    584\u001B[0m send_kwargs \u001B[38;5;241m=\u001B[39m {\n\u001B[1;32m    585\u001B[0m     \u001B[38;5;124m\"\u001B[39m\u001B[38;5;124mtimeout\u001B[39m\u001B[38;5;124m\"\u001B[39m: timeout,\n\u001B[1;32m    586\u001B[0m     \u001B[38;5;124m\"\u001B[39m\u001B[38;5;124mallow_redirects\u001B[39m\u001B[38;5;124m\"\u001B[39m: allow_redirects,\n\u001B[1;32m    587\u001B[0m }\n\u001B[1;32m    588\u001B[0m send_kwargs\u001B[38;5;241m.\u001B[39mupdate(settings)\n\u001B[0;32m--> 589\u001B[0m resp \u001B[38;5;241m=\u001B[39m \u001B[38;5;28;43mself\u001B[39;49m\u001B[38;5;241;43m.\u001B[39;49m\u001B[43msend\u001B[49m\u001B[43m(\u001B[49m\u001B[43mprep\u001B[49m\u001B[43m,\u001B[49m\u001B[43m \u001B[49m\u001B[38;5;241;43m*\u001B[39;49m\u001B[38;5;241;43m*\u001B[39;49m\u001B[43msend_kwargs\u001B[49m\u001B[43m)\u001B[49m\n\u001B[1;32m    591\u001B[0m \u001B[38;5;28;01mreturn\u001B[39;00m resp\n",
      "File \u001B[0;32m/Users/yafo/miniconda3/envs/nlp/lib/python3.10/site-packages/requests/sessions.py:703\u001B[0m, in \u001B[0;36mSession.send\u001B[0;34m(self, request, **kwargs)\u001B[0m\n\u001B[1;32m    700\u001B[0m start \u001B[38;5;241m=\u001B[39m preferred_clock()\n\u001B[1;32m    702\u001B[0m \u001B[38;5;66;03m# Send the request\u001B[39;00m\n\u001B[0;32m--> 703\u001B[0m r \u001B[38;5;241m=\u001B[39m \u001B[43madapter\u001B[49m\u001B[38;5;241;43m.\u001B[39;49m\u001B[43msend\u001B[49m\u001B[43m(\u001B[49m\u001B[43mrequest\u001B[49m\u001B[43m,\u001B[49m\u001B[43m \u001B[49m\u001B[38;5;241;43m*\u001B[39;49m\u001B[38;5;241;43m*\u001B[39;49m\u001B[43mkwargs\u001B[49m\u001B[43m)\u001B[49m\n\u001B[1;32m    705\u001B[0m \u001B[38;5;66;03m# Total elapsed time of the request (approximately)\u001B[39;00m\n\u001B[1;32m    706\u001B[0m elapsed \u001B[38;5;241m=\u001B[39m preferred_clock() \u001B[38;5;241m-\u001B[39m start\n",
      "File \u001B[0;32m/Users/yafo/miniconda3/envs/nlp/lib/python3.10/site-packages/requests/adapters.py:486\u001B[0m, in \u001B[0;36mHTTPAdapter.send\u001B[0;34m(self, request, stream, timeout, verify, cert, proxies)\u001B[0m\n\u001B[1;32m    483\u001B[0m     timeout \u001B[38;5;241m=\u001B[39m TimeoutSauce(connect\u001B[38;5;241m=\u001B[39mtimeout, read\u001B[38;5;241m=\u001B[39mtimeout)\n\u001B[1;32m    485\u001B[0m \u001B[38;5;28;01mtry\u001B[39;00m:\n\u001B[0;32m--> 486\u001B[0m     resp \u001B[38;5;241m=\u001B[39m \u001B[43mconn\u001B[49m\u001B[38;5;241;43m.\u001B[39;49m\u001B[43murlopen\u001B[49m\u001B[43m(\u001B[49m\n\u001B[1;32m    487\u001B[0m \u001B[43m        \u001B[49m\u001B[43mmethod\u001B[49m\u001B[38;5;241;43m=\u001B[39;49m\u001B[43mrequest\u001B[49m\u001B[38;5;241;43m.\u001B[39;49m\u001B[43mmethod\u001B[49m\u001B[43m,\u001B[49m\n\u001B[1;32m    488\u001B[0m \u001B[43m        \u001B[49m\u001B[43murl\u001B[49m\u001B[38;5;241;43m=\u001B[39;49m\u001B[43murl\u001B[49m\u001B[43m,\u001B[49m\n\u001B[1;32m    489\u001B[0m \u001B[43m        \u001B[49m\u001B[43mbody\u001B[49m\u001B[38;5;241;43m=\u001B[39;49m\u001B[43mrequest\u001B[49m\u001B[38;5;241;43m.\u001B[39;49m\u001B[43mbody\u001B[49m\u001B[43m,\u001B[49m\n\u001B[1;32m    490\u001B[0m \u001B[43m        \u001B[49m\u001B[43mheaders\u001B[49m\u001B[38;5;241;43m=\u001B[39;49m\u001B[43mrequest\u001B[49m\u001B[38;5;241;43m.\u001B[39;49m\u001B[43mheaders\u001B[49m\u001B[43m,\u001B[49m\n\u001B[1;32m    491\u001B[0m \u001B[43m        \u001B[49m\u001B[43mredirect\u001B[49m\u001B[38;5;241;43m=\u001B[39;49m\u001B[38;5;28;43;01mFalse\u001B[39;49;00m\u001B[43m,\u001B[49m\n\u001B[1;32m    492\u001B[0m \u001B[43m        \u001B[49m\u001B[43massert_same_host\u001B[49m\u001B[38;5;241;43m=\u001B[39;49m\u001B[38;5;28;43;01mFalse\u001B[39;49;00m\u001B[43m,\u001B[49m\n\u001B[1;32m    493\u001B[0m \u001B[43m        \u001B[49m\u001B[43mpreload_content\u001B[49m\u001B[38;5;241;43m=\u001B[39;49m\u001B[38;5;28;43;01mFalse\u001B[39;49;00m\u001B[43m,\u001B[49m\n\u001B[1;32m    494\u001B[0m \u001B[43m        \u001B[49m\u001B[43mdecode_content\u001B[49m\u001B[38;5;241;43m=\u001B[39;49m\u001B[38;5;28;43;01mFalse\u001B[39;49;00m\u001B[43m,\u001B[49m\n\u001B[1;32m    495\u001B[0m \u001B[43m        \u001B[49m\u001B[43mretries\u001B[49m\u001B[38;5;241;43m=\u001B[39;49m\u001B[38;5;28;43mself\u001B[39;49m\u001B[38;5;241;43m.\u001B[39;49m\u001B[43mmax_retries\u001B[49m\u001B[43m,\u001B[49m\n\u001B[1;32m    496\u001B[0m \u001B[43m        \u001B[49m\u001B[43mtimeout\u001B[49m\u001B[38;5;241;43m=\u001B[39;49m\u001B[43mtimeout\u001B[49m\u001B[43m,\u001B[49m\n\u001B[1;32m    497\u001B[0m \u001B[43m        \u001B[49m\u001B[43mchunked\u001B[49m\u001B[38;5;241;43m=\u001B[39;49m\u001B[43mchunked\u001B[49m\u001B[43m,\u001B[49m\n\u001B[1;32m    498\u001B[0m \u001B[43m    \u001B[49m\u001B[43m)\u001B[49m\n\u001B[1;32m    500\u001B[0m \u001B[38;5;28;01mexcept\u001B[39;00m (ProtocolError, \u001B[38;5;167;01mOSError\u001B[39;00m) \u001B[38;5;28;01mas\u001B[39;00m err:\n\u001B[1;32m    501\u001B[0m     \u001B[38;5;28;01mraise\u001B[39;00m \u001B[38;5;167;01mConnectionError\u001B[39;00m(err, request\u001B[38;5;241m=\u001B[39mrequest)\n",
      "File \u001B[0;32m/Users/yafo/miniconda3/envs/nlp/lib/python3.10/site-packages/urllib3/connectionpool.py:714\u001B[0m, in \u001B[0;36mHTTPConnectionPool.urlopen\u001B[0;34m(self, method, url, body, headers, retries, redirect, assert_same_host, timeout, pool_timeout, release_conn, chunked, body_pos, **response_kw)\u001B[0m\n\u001B[1;32m    711\u001B[0m     \u001B[38;5;28mself\u001B[39m\u001B[38;5;241m.\u001B[39m_prepare_proxy(conn)\n\u001B[1;32m    713\u001B[0m \u001B[38;5;66;03m# Make the request on the httplib connection object.\u001B[39;00m\n\u001B[0;32m--> 714\u001B[0m httplib_response \u001B[38;5;241m=\u001B[39m \u001B[38;5;28;43mself\u001B[39;49m\u001B[38;5;241;43m.\u001B[39;49m\u001B[43m_make_request\u001B[49m\u001B[43m(\u001B[49m\n\u001B[1;32m    715\u001B[0m \u001B[43m    \u001B[49m\u001B[43mconn\u001B[49m\u001B[43m,\u001B[49m\n\u001B[1;32m    716\u001B[0m \u001B[43m    \u001B[49m\u001B[43mmethod\u001B[49m\u001B[43m,\u001B[49m\n\u001B[1;32m    717\u001B[0m \u001B[43m    \u001B[49m\u001B[43murl\u001B[49m\u001B[43m,\u001B[49m\n\u001B[1;32m    718\u001B[0m \u001B[43m    \u001B[49m\u001B[43mtimeout\u001B[49m\u001B[38;5;241;43m=\u001B[39;49m\u001B[43mtimeout_obj\u001B[49m\u001B[43m,\u001B[49m\n\u001B[1;32m    719\u001B[0m \u001B[43m    \u001B[49m\u001B[43mbody\u001B[49m\u001B[38;5;241;43m=\u001B[39;49m\u001B[43mbody\u001B[49m\u001B[43m,\u001B[49m\n\u001B[1;32m    720\u001B[0m \u001B[43m    \u001B[49m\u001B[43mheaders\u001B[49m\u001B[38;5;241;43m=\u001B[39;49m\u001B[43mheaders\u001B[49m\u001B[43m,\u001B[49m\n\u001B[1;32m    721\u001B[0m \u001B[43m    \u001B[49m\u001B[43mchunked\u001B[49m\u001B[38;5;241;43m=\u001B[39;49m\u001B[43mchunked\u001B[49m\u001B[43m,\u001B[49m\n\u001B[1;32m    722\u001B[0m \u001B[43m\u001B[49m\u001B[43m)\u001B[49m\n\u001B[1;32m    724\u001B[0m \u001B[38;5;66;03m# If we're going to release the connection in ``finally:``, then\u001B[39;00m\n\u001B[1;32m    725\u001B[0m \u001B[38;5;66;03m# the response doesn't need to know about the connection. Otherwise\u001B[39;00m\n\u001B[1;32m    726\u001B[0m \u001B[38;5;66;03m# it will also try to release it and we'll have a double-release\u001B[39;00m\n\u001B[1;32m    727\u001B[0m \u001B[38;5;66;03m# mess.\u001B[39;00m\n\u001B[1;32m    728\u001B[0m response_conn \u001B[38;5;241m=\u001B[39m conn \u001B[38;5;28;01mif\u001B[39;00m \u001B[38;5;129;01mnot\u001B[39;00m release_conn \u001B[38;5;28;01melse\u001B[39;00m \u001B[38;5;28;01mNone\u001B[39;00m\n",
      "File \u001B[0;32m/Users/yafo/miniconda3/envs/nlp/lib/python3.10/site-packages/urllib3/connectionpool.py:466\u001B[0m, in \u001B[0;36mHTTPConnectionPool._make_request\u001B[0;34m(self, conn, method, url, timeout, chunked, **httplib_request_kw)\u001B[0m\n\u001B[1;32m    461\u001B[0m             httplib_response \u001B[38;5;241m=\u001B[39m conn\u001B[38;5;241m.\u001B[39mgetresponse()\n\u001B[1;32m    462\u001B[0m         \u001B[38;5;28;01mexcept\u001B[39;00m \u001B[38;5;167;01mBaseException\u001B[39;00m \u001B[38;5;28;01mas\u001B[39;00m e:\n\u001B[1;32m    463\u001B[0m             \u001B[38;5;66;03m# Remove the TypeError from the exception chain in\u001B[39;00m\n\u001B[1;32m    464\u001B[0m             \u001B[38;5;66;03m# Python 3 (including for exceptions like SystemExit).\u001B[39;00m\n\u001B[1;32m    465\u001B[0m             \u001B[38;5;66;03m# Otherwise it looks like a bug in the code.\u001B[39;00m\n\u001B[0;32m--> 466\u001B[0m             \u001B[43msix\u001B[49m\u001B[38;5;241;43m.\u001B[39;49m\u001B[43mraise_from\u001B[49m\u001B[43m(\u001B[49m\u001B[43me\u001B[49m\u001B[43m,\u001B[49m\u001B[43m \u001B[49m\u001B[38;5;28;43;01mNone\u001B[39;49;00m\u001B[43m)\u001B[49m\n\u001B[1;32m    467\u001B[0m \u001B[38;5;28;01mexcept\u001B[39;00m (SocketTimeout, BaseSSLError, SocketError) \u001B[38;5;28;01mas\u001B[39;00m e:\n\u001B[1;32m    468\u001B[0m     \u001B[38;5;28mself\u001B[39m\u001B[38;5;241m.\u001B[39m_raise_timeout(err\u001B[38;5;241m=\u001B[39me, url\u001B[38;5;241m=\u001B[39murl, timeout_value\u001B[38;5;241m=\u001B[39mread_timeout)\n",
      "File \u001B[0;32m<string>:3\u001B[0m, in \u001B[0;36mraise_from\u001B[0;34m(value, from_value)\u001B[0m\n",
      "File \u001B[0;32m/Users/yafo/miniconda3/envs/nlp/lib/python3.10/site-packages/urllib3/connectionpool.py:461\u001B[0m, in \u001B[0;36mHTTPConnectionPool._make_request\u001B[0;34m(self, conn, method, url, timeout, chunked, **httplib_request_kw)\u001B[0m\n\u001B[1;32m    458\u001B[0m \u001B[38;5;28;01mexcept\u001B[39;00m \u001B[38;5;167;01mTypeError\u001B[39;00m:\n\u001B[1;32m    459\u001B[0m     \u001B[38;5;66;03m# Python 3\u001B[39;00m\n\u001B[1;32m    460\u001B[0m     \u001B[38;5;28;01mtry\u001B[39;00m:\n\u001B[0;32m--> 461\u001B[0m         httplib_response \u001B[38;5;241m=\u001B[39m \u001B[43mconn\u001B[49m\u001B[38;5;241;43m.\u001B[39;49m\u001B[43mgetresponse\u001B[49m\u001B[43m(\u001B[49m\u001B[43m)\u001B[49m\n\u001B[1;32m    462\u001B[0m     \u001B[38;5;28;01mexcept\u001B[39;00m \u001B[38;5;167;01mBaseException\u001B[39;00m \u001B[38;5;28;01mas\u001B[39;00m e:\n\u001B[1;32m    463\u001B[0m         \u001B[38;5;66;03m# Remove the TypeError from the exception chain in\u001B[39;00m\n\u001B[1;32m    464\u001B[0m         \u001B[38;5;66;03m# Python 3 (including for exceptions like SystemExit).\u001B[39;00m\n\u001B[1;32m    465\u001B[0m         \u001B[38;5;66;03m# Otherwise it looks like a bug in the code.\u001B[39;00m\n\u001B[1;32m    466\u001B[0m         six\u001B[38;5;241m.\u001B[39mraise_from(e, \u001B[38;5;28;01mNone\u001B[39;00m)\n",
      "File \u001B[0;32m/Users/yafo/miniconda3/envs/nlp/lib/python3.10/http/client.py:1375\u001B[0m, in \u001B[0;36mHTTPConnection.getresponse\u001B[0;34m(self)\u001B[0m\n\u001B[1;32m   1373\u001B[0m \u001B[38;5;28;01mtry\u001B[39;00m:\n\u001B[1;32m   1374\u001B[0m     \u001B[38;5;28;01mtry\u001B[39;00m:\n\u001B[0;32m-> 1375\u001B[0m         \u001B[43mresponse\u001B[49m\u001B[38;5;241;43m.\u001B[39;49m\u001B[43mbegin\u001B[49m\u001B[43m(\u001B[49m\u001B[43m)\u001B[49m\n\u001B[1;32m   1376\u001B[0m     \u001B[38;5;28;01mexcept\u001B[39;00m \u001B[38;5;167;01mConnectionError\u001B[39;00m:\n\u001B[1;32m   1377\u001B[0m         \u001B[38;5;28mself\u001B[39m\u001B[38;5;241m.\u001B[39mclose()\n",
      "File \u001B[0;32m/Users/yafo/miniconda3/envs/nlp/lib/python3.10/http/client.py:318\u001B[0m, in \u001B[0;36mHTTPResponse.begin\u001B[0;34m(self)\u001B[0m\n\u001B[1;32m    316\u001B[0m \u001B[38;5;66;03m# read until we get a non-100 response\u001B[39;00m\n\u001B[1;32m    317\u001B[0m \u001B[38;5;28;01mwhile\u001B[39;00m \u001B[38;5;28;01mTrue\u001B[39;00m:\n\u001B[0;32m--> 318\u001B[0m     version, status, reason \u001B[38;5;241m=\u001B[39m \u001B[38;5;28;43mself\u001B[39;49m\u001B[38;5;241;43m.\u001B[39;49m\u001B[43m_read_status\u001B[49m\u001B[43m(\u001B[49m\u001B[43m)\u001B[49m\n\u001B[1;32m    319\u001B[0m     \u001B[38;5;28;01mif\u001B[39;00m status \u001B[38;5;241m!=\u001B[39m CONTINUE:\n\u001B[1;32m    320\u001B[0m         \u001B[38;5;28;01mbreak\u001B[39;00m\n",
      "File \u001B[0;32m/Users/yafo/miniconda3/envs/nlp/lib/python3.10/http/client.py:279\u001B[0m, in \u001B[0;36mHTTPResponse._read_status\u001B[0;34m(self)\u001B[0m\n\u001B[1;32m    278\u001B[0m \u001B[38;5;28;01mdef\u001B[39;00m \u001B[38;5;21m_read_status\u001B[39m(\u001B[38;5;28mself\u001B[39m):\n\u001B[0;32m--> 279\u001B[0m     line \u001B[38;5;241m=\u001B[39m \u001B[38;5;28mstr\u001B[39m(\u001B[38;5;28;43mself\u001B[39;49m\u001B[38;5;241;43m.\u001B[39;49m\u001B[43mfp\u001B[49m\u001B[38;5;241;43m.\u001B[39;49m\u001B[43mreadline\u001B[49m\u001B[43m(\u001B[49m\u001B[43m_MAXLINE\u001B[49m\u001B[43m \u001B[49m\u001B[38;5;241;43m+\u001B[39;49m\u001B[43m \u001B[49m\u001B[38;5;241;43m1\u001B[39;49m\u001B[43m)\u001B[49m, \u001B[38;5;124m\"\u001B[39m\u001B[38;5;124miso-8859-1\u001B[39m\u001B[38;5;124m\"\u001B[39m)\n\u001B[1;32m    280\u001B[0m     \u001B[38;5;28;01mif\u001B[39;00m \u001B[38;5;28mlen\u001B[39m(line) \u001B[38;5;241m>\u001B[39m _MAXLINE:\n\u001B[1;32m    281\u001B[0m         \u001B[38;5;28;01mraise\u001B[39;00m LineTooLong(\u001B[38;5;124m\"\u001B[39m\u001B[38;5;124mstatus line\u001B[39m\u001B[38;5;124m\"\u001B[39m)\n",
      "File \u001B[0;32m/Users/yafo/miniconda3/envs/nlp/lib/python3.10/socket.py:705\u001B[0m, in \u001B[0;36mSocketIO.readinto\u001B[0;34m(self, b)\u001B[0m\n\u001B[1;32m    703\u001B[0m \u001B[38;5;28;01mwhile\u001B[39;00m \u001B[38;5;28;01mTrue\u001B[39;00m:\n\u001B[1;32m    704\u001B[0m     \u001B[38;5;28;01mtry\u001B[39;00m:\n\u001B[0;32m--> 705\u001B[0m         \u001B[38;5;28;01mreturn\u001B[39;00m \u001B[38;5;28;43mself\u001B[39;49m\u001B[38;5;241;43m.\u001B[39;49m\u001B[43m_sock\u001B[49m\u001B[38;5;241;43m.\u001B[39;49m\u001B[43mrecv_into\u001B[49m\u001B[43m(\u001B[49m\u001B[43mb\u001B[49m\u001B[43m)\u001B[49m\n\u001B[1;32m    706\u001B[0m     \u001B[38;5;28;01mexcept\u001B[39;00m timeout:\n\u001B[1;32m    707\u001B[0m         \u001B[38;5;28mself\u001B[39m\u001B[38;5;241m.\u001B[39m_timeout_occurred \u001B[38;5;241m=\u001B[39m \u001B[38;5;28;01mTrue\u001B[39;00m\n",
      "File \u001B[0;32m/Users/yafo/miniconda3/envs/nlp/lib/python3.10/ssl.py:1274\u001B[0m, in \u001B[0;36mSSLSocket.recv_into\u001B[0;34m(self, buffer, nbytes, flags)\u001B[0m\n\u001B[1;32m   1270\u001B[0m     \u001B[38;5;28;01mif\u001B[39;00m flags \u001B[38;5;241m!=\u001B[39m \u001B[38;5;241m0\u001B[39m:\n\u001B[1;32m   1271\u001B[0m         \u001B[38;5;28;01mraise\u001B[39;00m \u001B[38;5;167;01mValueError\u001B[39;00m(\n\u001B[1;32m   1272\u001B[0m           \u001B[38;5;124m\"\u001B[39m\u001B[38;5;124mnon-zero flags not allowed in calls to recv_into() on \u001B[39m\u001B[38;5;132;01m%s\u001B[39;00m\u001B[38;5;124m\"\u001B[39m \u001B[38;5;241m%\u001B[39m\n\u001B[1;32m   1273\u001B[0m           \u001B[38;5;28mself\u001B[39m\u001B[38;5;241m.\u001B[39m\u001B[38;5;18m__class__\u001B[39m)\n\u001B[0;32m-> 1274\u001B[0m     \u001B[38;5;28;01mreturn\u001B[39;00m \u001B[38;5;28;43mself\u001B[39;49m\u001B[38;5;241;43m.\u001B[39;49m\u001B[43mread\u001B[49m\u001B[43m(\u001B[49m\u001B[43mnbytes\u001B[49m\u001B[43m,\u001B[49m\u001B[43m \u001B[49m\u001B[43mbuffer\u001B[49m\u001B[43m)\u001B[49m\n\u001B[1;32m   1275\u001B[0m \u001B[38;5;28;01melse\u001B[39;00m:\n\u001B[1;32m   1276\u001B[0m     \u001B[38;5;28;01mreturn\u001B[39;00m \u001B[38;5;28msuper\u001B[39m()\u001B[38;5;241m.\u001B[39mrecv_into(buffer, nbytes, flags)\n",
      "File \u001B[0;32m/Users/yafo/miniconda3/envs/nlp/lib/python3.10/ssl.py:1130\u001B[0m, in \u001B[0;36mSSLSocket.read\u001B[0;34m(self, len, buffer)\u001B[0m\n\u001B[1;32m   1128\u001B[0m \u001B[38;5;28;01mtry\u001B[39;00m:\n\u001B[1;32m   1129\u001B[0m     \u001B[38;5;28;01mif\u001B[39;00m buffer \u001B[38;5;129;01mis\u001B[39;00m \u001B[38;5;129;01mnot\u001B[39;00m \u001B[38;5;28;01mNone\u001B[39;00m:\n\u001B[0;32m-> 1130\u001B[0m         \u001B[38;5;28;01mreturn\u001B[39;00m \u001B[38;5;28;43mself\u001B[39;49m\u001B[38;5;241;43m.\u001B[39;49m\u001B[43m_sslobj\u001B[49m\u001B[38;5;241;43m.\u001B[39;49m\u001B[43mread\u001B[49m\u001B[43m(\u001B[49m\u001B[38;5;28;43mlen\u001B[39;49m\u001B[43m,\u001B[49m\u001B[43m \u001B[49m\u001B[43mbuffer\u001B[49m\u001B[43m)\u001B[49m\n\u001B[1;32m   1131\u001B[0m     \u001B[38;5;28;01melse\u001B[39;00m:\n\u001B[1;32m   1132\u001B[0m         \u001B[38;5;28;01mreturn\u001B[39;00m \u001B[38;5;28mself\u001B[39m\u001B[38;5;241m.\u001B[39m_sslobj\u001B[38;5;241m.\u001B[39mread(\u001B[38;5;28mlen\u001B[39m)\n",
      "\u001B[0;31mKeyboardInterrupt\u001B[0m: "
     ]
    }
   ],
   "source": [
    "from data_loader import calculate_fanduel_fantasy_points\n",
    "\n",
    "dataset['DFS_VALUE'] = dataset.apply(lambda row: calculate_fanduel_fantasy_points(row), axis=1)\n",
    "# this column should be called 'FP' or 'FP_FanDuel', DFS Value is confusing as hell\n",
    "# and why aren't we doing this inside the data loader?\n",
    "# 42 minutes and counting just for this simple arithmetic operation...yikes! :-(\n",
    "# turns out part of the problem is that turnovers in this data are labeled 'TO' and not 'TOV'"
   ],
   "metadata": {
    "collapsed": false,
    "is_executing": true,
    "ExecuteTime": {
     "start_time": "2024-04-19T12:54:53.889672Z"
    }
   },
   "id": "cb87dda453e8954d",
   "execution_count": 8
  },
  {
   "cell_type": "code",
   "execution_count": 10,
   "outputs": [],
   "source": [
    "# replacing the above with vectorized direct calculation which took under 1 second to complete\n",
    "# might be more complicated with DK and the cats > 10 thing\n",
    "\n",
    "dataset['FP_fanduel'] = (\n",
    "    dataset['PTS'] +\n",
    "    dataset['REB'] * 1.2 +\n",
    "    dataset['AST'] * 1.5 +\n",
    "    dataset['STL'] * 3 +\n",
    "    dataset['BLK'] * 3 -\n",
    "    dataset['TO'] * 1\n",
    ").fillna(0)"
   ],
   "metadata": {
    "collapsed": false
   }
  },
  {
   "cell_type": "code",
   "outputs": [],
   "source": [
    "!pip install prophet"
   ],
   "metadata": {
    "collapsed": false,
    "is_executing": true
   },
   "id": "b49c3bf917594556"
  },
  {
   "cell_type": "code",
   "outputs": [
    {
     "data": {
      "text/plain": "    GAME_ID     TEAM_ID TEAM_ABBREVIATION TEAM_CITY  PLAYER_ID    PLAYER_NAME  \\\n0  42000406  1610612756               PHX   Phoenix    1628969  Mikal Bridges   \n1  42000406  1610612756               PHX   Phoenix     203109    Jae Crowder   \n2  42000406  1610612756               PHX   Phoenix    1629028  Deandre Ayton   \n3  42000406  1610612756               PHX   Phoenix    1626164   Devin Booker   \n4  42000406  1610612756               PHX   Phoenix     101108     Chris Paul   \n\n  NICKNAME START_POSITION COMMENT           MIN  ...    PACE  PACE_PER40  \\\n0    Mikal              F     NaN  39.000000:28  ...  102.76       85.63   \n1      Jae              F     NaN  40.000000:33  ...  102.39       85.33   \n2  Deandre              C     NaN  36.000000:12  ...  104.11       86.76   \n3    Devin              G     NaN  46.000000:15  ...  102.23       85.19   \n4    Chris              G     NaN  39.000000:13  ...  102.81       85.68   \n\n     PIE  POSS  REB_PCT  TM_TOV_PCT  TS_PCT  USG_PCT  GAME_DATE  FP_fanduel  \n0  0.055    84    0.075         0.0   0.444    0.089 2021-07-20        23.2  \n1  0.140    86    0.169        13.3   0.568    0.165 2021-07-20        43.6  \n2  0.043    78    0.077        11.8   0.423    0.190 2021-07-20        30.7  \n3  0.018    98    0.033        17.6   0.407    0.276 2021-07-20        24.1  \n4  0.123    84    0.026        10.7   0.626    0.258 2021-07-20        35.9  \n\n[5 rows x 53 columns]",
      "text/html": "<div>\n<style scoped>\n    .dataframe tbody tr th:only-of-type {\n        vertical-align: middle;\n    }\n\n    .dataframe tbody tr th {\n        vertical-align: top;\n    }\n\n    .dataframe thead th {\n        text-align: right;\n    }\n</style>\n<table border=\"1\" class=\"dataframe\">\n  <thead>\n    <tr style=\"text-align: right;\">\n      <th></th>\n      <th>GAME_ID</th>\n      <th>TEAM_ID</th>\n      <th>TEAM_ABBREVIATION</th>\n      <th>TEAM_CITY</th>\n      <th>PLAYER_ID</th>\n      <th>PLAYER_NAME</th>\n      <th>NICKNAME</th>\n      <th>START_POSITION</th>\n      <th>COMMENT</th>\n      <th>MIN</th>\n      <th>...</th>\n      <th>PACE</th>\n      <th>PACE_PER40</th>\n      <th>PIE</th>\n      <th>POSS</th>\n      <th>REB_PCT</th>\n      <th>TM_TOV_PCT</th>\n      <th>TS_PCT</th>\n      <th>USG_PCT</th>\n      <th>GAME_DATE</th>\n      <th>FP_fanduel</th>\n    </tr>\n  </thead>\n  <tbody>\n    <tr>\n      <th>0</th>\n      <td>42000406</td>\n      <td>1610612756</td>\n      <td>PHX</td>\n      <td>Phoenix</td>\n      <td>1628969</td>\n      <td>Mikal Bridges</td>\n      <td>Mikal</td>\n      <td>F</td>\n      <td>NaN</td>\n      <td>39.000000:28</td>\n      <td>...</td>\n      <td>102.76</td>\n      <td>85.63</td>\n      <td>0.055</td>\n      <td>84</td>\n      <td>0.075</td>\n      <td>0.0</td>\n      <td>0.444</td>\n      <td>0.089</td>\n      <td>2021-07-20</td>\n      <td>23.2</td>\n    </tr>\n    <tr>\n      <th>1</th>\n      <td>42000406</td>\n      <td>1610612756</td>\n      <td>PHX</td>\n      <td>Phoenix</td>\n      <td>203109</td>\n      <td>Jae Crowder</td>\n      <td>Jae</td>\n      <td>F</td>\n      <td>NaN</td>\n      <td>40.000000:33</td>\n      <td>...</td>\n      <td>102.39</td>\n      <td>85.33</td>\n      <td>0.140</td>\n      <td>86</td>\n      <td>0.169</td>\n      <td>13.3</td>\n      <td>0.568</td>\n      <td>0.165</td>\n      <td>2021-07-20</td>\n      <td>43.6</td>\n    </tr>\n    <tr>\n      <th>2</th>\n      <td>42000406</td>\n      <td>1610612756</td>\n      <td>PHX</td>\n      <td>Phoenix</td>\n      <td>1629028</td>\n      <td>Deandre Ayton</td>\n      <td>Deandre</td>\n      <td>C</td>\n      <td>NaN</td>\n      <td>36.000000:12</td>\n      <td>...</td>\n      <td>104.11</td>\n      <td>86.76</td>\n      <td>0.043</td>\n      <td>78</td>\n      <td>0.077</td>\n      <td>11.8</td>\n      <td>0.423</td>\n      <td>0.190</td>\n      <td>2021-07-20</td>\n      <td>30.7</td>\n    </tr>\n    <tr>\n      <th>3</th>\n      <td>42000406</td>\n      <td>1610612756</td>\n      <td>PHX</td>\n      <td>Phoenix</td>\n      <td>1626164</td>\n      <td>Devin Booker</td>\n      <td>Devin</td>\n      <td>G</td>\n      <td>NaN</td>\n      <td>46.000000:15</td>\n      <td>...</td>\n      <td>102.23</td>\n      <td>85.19</td>\n      <td>0.018</td>\n      <td>98</td>\n      <td>0.033</td>\n      <td>17.6</td>\n      <td>0.407</td>\n      <td>0.276</td>\n      <td>2021-07-20</td>\n      <td>24.1</td>\n    </tr>\n    <tr>\n      <th>4</th>\n      <td>42000406</td>\n      <td>1610612756</td>\n      <td>PHX</td>\n      <td>Phoenix</td>\n      <td>101108</td>\n      <td>Chris Paul</td>\n      <td>Chris</td>\n      <td>G</td>\n      <td>NaN</td>\n      <td>39.000000:13</td>\n      <td>...</td>\n      <td>102.81</td>\n      <td>85.68</td>\n      <td>0.123</td>\n      <td>84</td>\n      <td>0.026</td>\n      <td>10.7</td>\n      <td>0.626</td>\n      <td>0.258</td>\n      <td>2021-07-20</td>\n      <td>35.9</td>\n    </tr>\n  </tbody>\n</table>\n<p>5 rows × 53 columns</p>\n</div>"
     },
     "execution_count": 11,
     "metadata": {},
     "output_type": "execute_result"
    }
   ],
   "source": [
    "dataset.head()"
   ],
   "metadata": {
    "collapsed": false
   },
   "id": "2302748ef2a7cba8",
   "execution_count": 11
  },
  {
   "cell_type": "code",
   "execution_count": 12,
   "outputs": [],
   "source": [
    "dataset.to_csv('2021-22_with_FP.csv')"
   ],
   "metadata": {
    "collapsed": false
   }
  },
  {
   "cell_type": "code",
   "execution_count": 18,
   "outputs": [
    {
     "name": "stdout",
     "output_type": "stream",
     "text": [
      "RMSE: 16.128475376784998\n"
     ]
    }
   ],
   "source": [
    "from sklearn.metrics import mean_squared_error\n",
    "from statsmodels.tsa.arima.model import ARIMA\n",
    "\n",
    "# Sort the data by game_date\n",
    "dataset = dataset.sort_values('GAME_DATE')\n",
    "\n",
    "# Split the data into training and testing sets (80% train, 20% test)\n",
    "train_size = int(len(dataset) * 0.8)\n",
    "train, test = dataset[:train_size], dataset[train_size:]\n",
    "\n",
    "# Extract the target variable\n",
    "y_train = train['FP_fanduel']\n",
    "y_test = test['FP_fanduel']\n",
    "\n",
    "# Fit an ARIMA model\n",
    "model = ARIMA(y_train, order=(5, 1, 0))\n",
    "model_fit = model.fit()\n",
    "\n",
    "# Make predictions\n",
    "y_pred = model_fit.forecast(steps=len(test))\n",
    "\n",
    "# Calculate RMSE\n",
    "rmse = np.sqrt(mean_squared_error(y_test, y_pred))\n",
    "\n",
    "print(f'RMSE: {rmse}')\n"
   ],
   "metadata": {
    "collapsed": false
   }
  },
  {
   "cell_type": "code",
   "execution_count": null,
   "outputs": [],
   "source": [],
   "metadata": {
    "collapsed": false,
    "pycharm": {
     "is_executing": true
    }
   }
  },
  {
   "cell_type": "code",
   "execution_count": 17,
   "outputs": [],
   "source": [],
   "metadata": {
    "collapsed": false
   }
  }
 ],
 "metadata": {
  "kernelspec": {
   "display_name": "Python 3",
   "language": "python",
   "name": "python3"
  },
  "language_info": {
   "codemirror_mode": {
    "name": "ipython",
    "version": 2
   },
   "file_extension": ".py",
   "mimetype": "text/x-python",
   "name": "python",
   "nbconvert_exporter": "python",
   "pygments_lexer": "ipython2",
   "version": "2.7.6"
  }
 },
 "nbformat": 4,
 "nbformat_minor": 5
}
