{
 "cells": [
  {
   "cell_type": "code",
   "execution_count": 1,
   "id": "initial_id",
   "metadata": {
    "collapsed": true,
    "ExecuteTime": {
     "end_time": "2024-04-19T12:44:57.551248Z",
     "start_time": "2024-04-19T12:44:49.964557Z"
    }
   },
   "outputs": [],
   "source": [
    "import numpy as np\n",
    "import matplotlib.pyplot as plt\n",
    "import pandas as pd\n",
    "from sklearn.model_selection import train_test_split\n",
    "from sklearn.preprocessing import StandardScaler\n",
    "from sklearn.svm import SVC\n",
    "from sklearn.metrics import confusion_matrix\n",
    "from matplotlib.colors import ListedColormap\n"
   ]
  },
  {
   "cell_type": "markdown",
   "source": [
    "# Fetch Data"
   ],
   "metadata": {
    "collapsed": false
   },
   "id": "e3d6b5e5d6a3cec4"
  },
  {
   "cell_type": "code",
   "outputs": [],
   "source": [
    "dataset = pd.read_csv('2021-22_game_by_game.csv')"
   ],
   "metadata": {
    "collapsed": false,
    "ExecuteTime": {
     "end_time": "2024-04-19T12:44:59.533142Z",
     "start_time": "2024-04-19T12:44:58.601229Z"
    }
   },
   "id": "90eb299db0292564",
   "execution_count": 2
  },
  {
   "cell_type": "code",
   "outputs": [
    {
     "data": {
      "text/plain": "    GAME_ID     TEAM_ID TEAM_ABBREVIATION TEAM_CITY  PLAYER_ID    PLAYER_NAME  \\\n0  42000406  1610612756               PHX   Phoenix    1628969  Mikal Bridges   \n1  42000406  1610612756               PHX   Phoenix     203109    Jae Crowder   \n2  42000406  1610612756               PHX   Phoenix    1629028  Deandre Ayton   \n3  42000406  1610612756               PHX   Phoenix    1626164   Devin Booker   \n4  42000406  1610612756               PHX   Phoenix     101108     Chris Paul   \n\n  NICKNAME START_POSITION COMMENT           MIN  ...  OREB_PCT    PACE  \\\n0    Mikal              F     NaN  39.000000:28  ...     0.024  102.76   \n1      Jae              F     NaN  40.000000:33  ...     0.053  102.39   \n2  Deandre              C     NaN  36.000000:12  ...     0.024  104.11   \n3    Devin              G     NaN  46.000000:15  ...     0.000  102.23   \n4    Chris              G     NaN  39.000000:13  ...     0.026  102.81   \n\n   PACE_PER40    PIE  POSS  REB_PCT  TM_TOV_PCT  TS_PCT  USG_PCT   GAME_DATE  \n0       85.63  0.055    84    0.075         0.0   0.444    0.089  2021-07-20  \n1       85.33  0.140    86    0.169        13.3   0.568    0.165  2021-07-20  \n2       86.76  0.043    78    0.077        11.8   0.423    0.190  2021-07-20  \n3       85.19  0.018    98    0.033        17.6   0.407    0.276  2021-07-20  \n4       85.68  0.123    84    0.026        10.7   0.626    0.258  2021-07-20  \n\n[5 rows x 52 columns]",
      "text/html": "<div>\n<style scoped>\n    .dataframe tbody tr th:only-of-type {\n        vertical-align: middle;\n    }\n\n    .dataframe tbody tr th {\n        vertical-align: top;\n    }\n\n    .dataframe thead th {\n        text-align: right;\n    }\n</style>\n<table border=\"1\" class=\"dataframe\">\n  <thead>\n    <tr style=\"text-align: right;\">\n      <th></th>\n      <th>GAME_ID</th>\n      <th>TEAM_ID</th>\n      <th>TEAM_ABBREVIATION</th>\n      <th>TEAM_CITY</th>\n      <th>PLAYER_ID</th>\n      <th>PLAYER_NAME</th>\n      <th>NICKNAME</th>\n      <th>START_POSITION</th>\n      <th>COMMENT</th>\n      <th>MIN</th>\n      <th>...</th>\n      <th>OREB_PCT</th>\n      <th>PACE</th>\n      <th>PACE_PER40</th>\n      <th>PIE</th>\n      <th>POSS</th>\n      <th>REB_PCT</th>\n      <th>TM_TOV_PCT</th>\n      <th>TS_PCT</th>\n      <th>USG_PCT</th>\n      <th>GAME_DATE</th>\n    </tr>\n  </thead>\n  <tbody>\n    <tr>\n      <th>0</th>\n      <td>42000406</td>\n      <td>1610612756</td>\n      <td>PHX</td>\n      <td>Phoenix</td>\n      <td>1628969</td>\n      <td>Mikal Bridges</td>\n      <td>Mikal</td>\n      <td>F</td>\n      <td>NaN</td>\n      <td>39.000000:28</td>\n      <td>...</td>\n      <td>0.024</td>\n      <td>102.76</td>\n      <td>85.63</td>\n      <td>0.055</td>\n      <td>84</td>\n      <td>0.075</td>\n      <td>0.0</td>\n      <td>0.444</td>\n      <td>0.089</td>\n      <td>2021-07-20</td>\n    </tr>\n    <tr>\n      <th>1</th>\n      <td>42000406</td>\n      <td>1610612756</td>\n      <td>PHX</td>\n      <td>Phoenix</td>\n      <td>203109</td>\n      <td>Jae Crowder</td>\n      <td>Jae</td>\n      <td>F</td>\n      <td>NaN</td>\n      <td>40.000000:33</td>\n      <td>...</td>\n      <td>0.053</td>\n      <td>102.39</td>\n      <td>85.33</td>\n      <td>0.140</td>\n      <td>86</td>\n      <td>0.169</td>\n      <td>13.3</td>\n      <td>0.568</td>\n      <td>0.165</td>\n      <td>2021-07-20</td>\n    </tr>\n    <tr>\n      <th>2</th>\n      <td>42000406</td>\n      <td>1610612756</td>\n      <td>PHX</td>\n      <td>Phoenix</td>\n      <td>1629028</td>\n      <td>Deandre Ayton</td>\n      <td>Deandre</td>\n      <td>C</td>\n      <td>NaN</td>\n      <td>36.000000:12</td>\n      <td>...</td>\n      <td>0.024</td>\n      <td>104.11</td>\n      <td>86.76</td>\n      <td>0.043</td>\n      <td>78</td>\n      <td>0.077</td>\n      <td>11.8</td>\n      <td>0.423</td>\n      <td>0.190</td>\n      <td>2021-07-20</td>\n    </tr>\n    <tr>\n      <th>3</th>\n      <td>42000406</td>\n      <td>1610612756</td>\n      <td>PHX</td>\n      <td>Phoenix</td>\n      <td>1626164</td>\n      <td>Devin Booker</td>\n      <td>Devin</td>\n      <td>G</td>\n      <td>NaN</td>\n      <td>46.000000:15</td>\n      <td>...</td>\n      <td>0.000</td>\n      <td>102.23</td>\n      <td>85.19</td>\n      <td>0.018</td>\n      <td>98</td>\n      <td>0.033</td>\n      <td>17.6</td>\n      <td>0.407</td>\n      <td>0.276</td>\n      <td>2021-07-20</td>\n    </tr>\n    <tr>\n      <th>4</th>\n      <td>42000406</td>\n      <td>1610612756</td>\n      <td>PHX</td>\n      <td>Phoenix</td>\n      <td>101108</td>\n      <td>Chris Paul</td>\n      <td>Chris</td>\n      <td>G</td>\n      <td>NaN</td>\n      <td>39.000000:13</td>\n      <td>...</td>\n      <td>0.026</td>\n      <td>102.81</td>\n      <td>85.68</td>\n      <td>0.123</td>\n      <td>84</td>\n      <td>0.026</td>\n      <td>10.7</td>\n      <td>0.626</td>\n      <td>0.258</td>\n      <td>2021-07-20</td>\n    </tr>\n  </tbody>\n</table>\n<p>5 rows × 52 columns</p>\n</div>"
     },
     "execution_count": 3,
     "metadata": {},
     "output_type": "execute_result"
    }
   ],
   "source": [
    "dataset.head()"
   ],
   "metadata": {
    "collapsed": false,
    "ExecuteTime": {
     "end_time": "2024-04-19T12:45:05.297414Z",
     "start_time": "2024-04-19T12:45:05.213854Z"
    }
   },
   "id": "7e03c3bdc17724bd",
   "execution_count": 3
  },
  {
   "cell_type": "markdown",
   "source": [
    "# EDa"
   ],
   "metadata": {
    "collapsed": false
   },
   "id": "dd0f09039c78ef12"
  },
  {
   "cell_type": "code",
   "outputs": [
    {
     "name": "stdout",
     "output_type": "stream",
     "text": [
      "<class 'pandas.core.frame.DataFrame'>\n",
      "RangeIndex: 36860 entries, 0 to 36859\n",
      "Data columns (total 52 columns):\n",
      " #   Column             Non-Null Count  Dtype  \n",
      "---  ------             --------------  -----  \n",
      " 0   GAME_ID            36860 non-null  int64  \n",
      " 1   TEAM_ID            36860 non-null  int64  \n",
      " 2   TEAM_ABBREVIATION  36860 non-null  object \n",
      " 3   TEAM_CITY          36860 non-null  object \n",
      " 4   PLAYER_ID          36860 non-null  int64  \n",
      " 5   PLAYER_NAME        36860 non-null  object \n",
      " 6   NICKNAME           36860 non-null  object \n",
      " 7   START_POSITION     13630 non-null  object \n",
      " 8   COMMENT            7588 non-null   object \n",
      " 9   MIN                29272 non-null  object \n",
      " 10  FGM                29272 non-null  float64\n",
      " 11  FGA                29272 non-null  float64\n",
      " 12  FG_PCT             29272 non-null  float64\n",
      " 13  FG3M               29272 non-null  float64\n",
      " 14  FG3A               29272 non-null  float64\n",
      " 15  FG3_PCT            29272 non-null  float64\n",
      " 16  FTM                29272 non-null  float64\n",
      " 17  FTA                29272 non-null  float64\n",
      " 18  FT_PCT             29272 non-null  float64\n",
      " 19  OREB               29272 non-null  float64\n",
      " 20  DREB               29272 non-null  float64\n",
      " 21  REB                29272 non-null  float64\n",
      " 22  AST                29272 non-null  float64\n",
      " 23  STL                29272 non-null  float64\n",
      " 24  BLK                29272 non-null  float64\n",
      " 25  TO                 29272 non-null  float64\n",
      " 26  PF                 29272 non-null  float64\n",
      " 27  PTS                29272 non-null  float64\n",
      " 28  PLUS_MINUS         29272 non-null  float64\n",
      " 29  AST_PCT            29272 non-null  float64\n",
      " 30  AST_RATIO          29272 non-null  float64\n",
      " 31  AST_TOV            29272 non-null  float64\n",
      " 32  DEF_RATING         36860 non-null  float64\n",
      " 33  DREB_PCT           36860 non-null  float64\n",
      " 34  EFG_PCT            29272 non-null  float64\n",
      " 35  E_DEF_RATING       29272 non-null  float64\n",
      " 36  E_NET_RATING       29272 non-null  float64\n",
      " 37  E_OFF_RATING       29272 non-null  float64\n",
      " 38  E_PACE             29272 non-null  float64\n",
      " 39  E_USG_PCT          36860 non-null  float64\n",
      " 40  NET_RATING         36860 non-null  float64\n",
      " 41  OFF_RATING         36860 non-null  float64\n",
      " 42  OREB_PCT           36860 non-null  float64\n",
      " 43  PACE               29272 non-null  float64\n",
      " 44  PACE_PER40         29272 non-null  float64\n",
      " 45  PIE                29272 non-null  float64\n",
      " 46  POSS               36860 non-null  int64  \n",
      " 47  REB_PCT            36860 non-null  float64\n",
      " 48  TM_TOV_PCT         29272 non-null  float64\n",
      " 49  TS_PCT             29272 non-null  float64\n",
      " 50  USG_PCT            36860 non-null  float64\n",
      " 51  GAME_DATE          36860 non-null  object \n",
      "dtypes: float64(40), int64(4), object(8)\n",
      "memory usage: 14.6+ MB\n"
     ]
    }
   ],
   "source": [
    "dataset.info()"
   ],
   "metadata": {
    "collapsed": false,
    "ExecuteTime": {
     "end_time": "2024-04-19T12:45:30.033074Z",
     "start_time": "2024-04-19T12:45:29.906066Z"
    }
   },
   "id": "f7989bb644ae529e",
   "execution_count": 4
  },
  {
   "cell_type": "code",
   "outputs": [
    {
     "data": {
      "text/plain": "            GAME_ID       TEAM_ID     PLAYER_ID           FGM           FGA  \\\ncount  3.686000e+04  3.686000e+04  3.686000e+04  29272.000000  29272.000000   \nmean   2.120403e+08  1.610811e+09  1.167889e+06      3.815079      8.235344   \nstd    5.849399e+08  6.133752e+05  6.706463e+05      3.179613      5.884624   \nmin    1.200000e+07  1.610613e+09  2.544000e+03      0.000000      0.000000   \n25%    2.200028e+07  1.610613e+09  2.035240e+05      1.000000      4.000000   \n50%    2.200063e+07  1.610613e+09  1.628400e+06      3.000000      7.000000   \n75%    2.200097e+07  1.610613e+09  1.629647e+06      6.000000     12.000000   \nmax    2.042000e+09  1.612710e+09  1.630466e+06     21.000000     37.000000   \n\n             FG_PCT          FG3M          FG3A       FG3_PCT           FTM  \\\ncount  29272.000000  29272.000000  29272.000000  29272.000000  29272.000000   \nmean       0.428196      1.178293      3.248394      0.260143      1.522171   \nstd        0.251505      1.483243      3.006200      0.291851      2.175232   \nmin        0.000000      0.000000      0.000000      0.000000      0.000000   \n25%        0.286000      0.000000      1.000000      0.000000      0.000000   \n50%        0.444000      1.000000      3.000000      0.200000      1.000000   \n75%        0.571000      2.000000      5.000000      0.500000      2.000000   \nmax        1.000000     12.000000     22.000000      1.000000     19.000000   \n\n       ...    OFF_RATING      OREB_PCT          PACE    PACE_PER40  \\\ncount  ...  36860.000000  36860.000000  29272.000000  29272.000000   \nmean   ...     84.670830      0.031788    103.395003     86.162451   \nstd    ...     48.493746      0.057542     88.501947     73.751627   \nmin    ...      0.000000      0.000000     47.010000     39.180000   \n25%    ...     70.000000      0.000000     97.210000     81.010000   \n50%    ...    101.800000      0.000000    101.390000     84.490000   \n75%    ...    117.300000      0.048000    105.970000     88.310000   \nmax    ...    300.000000      1.000000  14405.760000  12004.800000   \n\n                PIE          POSS       REB_PCT    TM_TOV_PCT        TS_PCT  \\\ncount  29272.000000  36860.000000  36860.000000  29272.000000  29272.000000   \nmean       0.088864     37.630521      0.070144     10.025000      0.528814   \nstd        0.162012     27.471117      0.071564     12.678528      0.285133   \nmin       -5.000000      0.000000      0.000000      0.000000      0.000000   \n25%        0.036000      8.000000      0.000000      0.000000      0.375000   \n50%        0.090000     41.000000      0.059000      7.700000      0.543000   \n75%        0.142000     61.000000      0.108000     14.800000      0.698000   \nmax        6.500000    108.000000      1.000000    100.000000      2.273000   \n\n            USG_PCT  \ncount  36860.000000  \nmean       0.145529  \nstd        0.107200  \nmin        0.000000  \n25%        0.054750  \n50%        0.154000  \n75%        0.220000  \nmax        1.000000  \n\n[8 rows x 44 columns]",
      "text/html": "<div>\n<style scoped>\n    .dataframe tbody tr th:only-of-type {\n        vertical-align: middle;\n    }\n\n    .dataframe tbody tr th {\n        vertical-align: top;\n    }\n\n    .dataframe thead th {\n        text-align: right;\n    }\n</style>\n<table border=\"1\" class=\"dataframe\">\n  <thead>\n    <tr style=\"text-align: right;\">\n      <th></th>\n      <th>GAME_ID</th>\n      <th>TEAM_ID</th>\n      <th>PLAYER_ID</th>\n      <th>FGM</th>\n      <th>FGA</th>\n      <th>FG_PCT</th>\n      <th>FG3M</th>\n      <th>FG3A</th>\n      <th>FG3_PCT</th>\n      <th>FTM</th>\n      <th>...</th>\n      <th>OFF_RATING</th>\n      <th>OREB_PCT</th>\n      <th>PACE</th>\n      <th>PACE_PER40</th>\n      <th>PIE</th>\n      <th>POSS</th>\n      <th>REB_PCT</th>\n      <th>TM_TOV_PCT</th>\n      <th>TS_PCT</th>\n      <th>USG_PCT</th>\n    </tr>\n  </thead>\n  <tbody>\n    <tr>\n      <th>count</th>\n      <td>3.686000e+04</td>\n      <td>3.686000e+04</td>\n      <td>3.686000e+04</td>\n      <td>29272.000000</td>\n      <td>29272.000000</td>\n      <td>29272.000000</td>\n      <td>29272.000000</td>\n      <td>29272.000000</td>\n      <td>29272.000000</td>\n      <td>29272.000000</td>\n      <td>...</td>\n      <td>36860.000000</td>\n      <td>36860.000000</td>\n      <td>29272.000000</td>\n      <td>29272.000000</td>\n      <td>29272.000000</td>\n      <td>36860.000000</td>\n      <td>36860.000000</td>\n      <td>29272.000000</td>\n      <td>29272.000000</td>\n      <td>36860.000000</td>\n    </tr>\n    <tr>\n      <th>mean</th>\n      <td>2.120403e+08</td>\n      <td>1.610811e+09</td>\n      <td>1.167889e+06</td>\n      <td>3.815079</td>\n      <td>8.235344</td>\n      <td>0.428196</td>\n      <td>1.178293</td>\n      <td>3.248394</td>\n      <td>0.260143</td>\n      <td>1.522171</td>\n      <td>...</td>\n      <td>84.670830</td>\n      <td>0.031788</td>\n      <td>103.395003</td>\n      <td>86.162451</td>\n      <td>0.088864</td>\n      <td>37.630521</td>\n      <td>0.070144</td>\n      <td>10.025000</td>\n      <td>0.528814</td>\n      <td>0.145529</td>\n    </tr>\n    <tr>\n      <th>std</th>\n      <td>5.849399e+08</td>\n      <td>6.133752e+05</td>\n      <td>6.706463e+05</td>\n      <td>3.179613</td>\n      <td>5.884624</td>\n      <td>0.251505</td>\n      <td>1.483243</td>\n      <td>3.006200</td>\n      <td>0.291851</td>\n      <td>2.175232</td>\n      <td>...</td>\n      <td>48.493746</td>\n      <td>0.057542</td>\n      <td>88.501947</td>\n      <td>73.751627</td>\n      <td>0.162012</td>\n      <td>27.471117</td>\n      <td>0.071564</td>\n      <td>12.678528</td>\n      <td>0.285133</td>\n      <td>0.107200</td>\n    </tr>\n    <tr>\n      <th>min</th>\n      <td>1.200000e+07</td>\n      <td>1.610613e+09</td>\n      <td>2.544000e+03</td>\n      <td>0.000000</td>\n      <td>0.000000</td>\n      <td>0.000000</td>\n      <td>0.000000</td>\n      <td>0.000000</td>\n      <td>0.000000</td>\n      <td>0.000000</td>\n      <td>...</td>\n      <td>0.000000</td>\n      <td>0.000000</td>\n      <td>47.010000</td>\n      <td>39.180000</td>\n      <td>-5.000000</td>\n      <td>0.000000</td>\n      <td>0.000000</td>\n      <td>0.000000</td>\n      <td>0.000000</td>\n      <td>0.000000</td>\n    </tr>\n    <tr>\n      <th>25%</th>\n      <td>2.200028e+07</td>\n      <td>1.610613e+09</td>\n      <td>2.035240e+05</td>\n      <td>1.000000</td>\n      <td>4.000000</td>\n      <td>0.286000</td>\n      <td>0.000000</td>\n      <td>1.000000</td>\n      <td>0.000000</td>\n      <td>0.000000</td>\n      <td>...</td>\n      <td>70.000000</td>\n      <td>0.000000</td>\n      <td>97.210000</td>\n      <td>81.010000</td>\n      <td>0.036000</td>\n      <td>8.000000</td>\n      <td>0.000000</td>\n      <td>0.000000</td>\n      <td>0.375000</td>\n      <td>0.054750</td>\n    </tr>\n    <tr>\n      <th>50%</th>\n      <td>2.200063e+07</td>\n      <td>1.610613e+09</td>\n      <td>1.628400e+06</td>\n      <td>3.000000</td>\n      <td>7.000000</td>\n      <td>0.444000</td>\n      <td>1.000000</td>\n      <td>3.000000</td>\n      <td>0.200000</td>\n      <td>1.000000</td>\n      <td>...</td>\n      <td>101.800000</td>\n      <td>0.000000</td>\n      <td>101.390000</td>\n      <td>84.490000</td>\n      <td>0.090000</td>\n      <td>41.000000</td>\n      <td>0.059000</td>\n      <td>7.700000</td>\n      <td>0.543000</td>\n      <td>0.154000</td>\n    </tr>\n    <tr>\n      <th>75%</th>\n      <td>2.200097e+07</td>\n      <td>1.610613e+09</td>\n      <td>1.629647e+06</td>\n      <td>6.000000</td>\n      <td>12.000000</td>\n      <td>0.571000</td>\n      <td>2.000000</td>\n      <td>5.000000</td>\n      <td>0.500000</td>\n      <td>2.000000</td>\n      <td>...</td>\n      <td>117.300000</td>\n      <td>0.048000</td>\n      <td>105.970000</td>\n      <td>88.310000</td>\n      <td>0.142000</td>\n      <td>61.000000</td>\n      <td>0.108000</td>\n      <td>14.800000</td>\n      <td>0.698000</td>\n      <td>0.220000</td>\n    </tr>\n    <tr>\n      <th>max</th>\n      <td>2.042000e+09</td>\n      <td>1.612710e+09</td>\n      <td>1.630466e+06</td>\n      <td>21.000000</td>\n      <td>37.000000</td>\n      <td>1.000000</td>\n      <td>12.000000</td>\n      <td>22.000000</td>\n      <td>1.000000</td>\n      <td>19.000000</td>\n      <td>...</td>\n      <td>300.000000</td>\n      <td>1.000000</td>\n      <td>14405.760000</td>\n      <td>12004.800000</td>\n      <td>6.500000</td>\n      <td>108.000000</td>\n      <td>1.000000</td>\n      <td>100.000000</td>\n      <td>2.273000</td>\n      <td>1.000000</td>\n    </tr>\n  </tbody>\n</table>\n<p>8 rows × 44 columns</p>\n</div>"
     },
     "execution_count": 5,
     "metadata": {},
     "output_type": "execute_result"
    }
   ],
   "source": [
    "dataset.describe()"
   ],
   "metadata": {
    "collapsed": false,
    "ExecuteTime": {
     "end_time": "2024-04-19T12:46:34.523850Z",
     "start_time": "2024-04-19T12:46:34.057900Z"
    }
   },
   "id": "210c514bd38ab43f",
   "execution_count": 5
  },
  {
   "cell_type": "code",
   "outputs": [],
   "source": [
    "dataset['GAME_DATE'] = pd.to_datetime(dataset['GAME_DATE'])"
   ],
   "metadata": {
    "collapsed": false,
    "ExecuteTime": {
     "end_time": "2024-04-19T12:47:07.876073Z",
     "start_time": "2024-04-19T12:47:07.833471Z"
    }
   },
   "id": "49c1367e2d5578be",
   "execution_count": 6
  },
  {
   "cell_type": "code",
   "outputs": [],
   "source": [
    "from final_project_dfs.data_loader import calculate_fanduel_fantasy_points\n",
    "\n",
    "dataset['DFS_VALUE'] = dataset.apply(lambda row: calculate_fanduel_fantasy_points(row), axis=1)"
   ],
   "metadata": {
    "collapsed": false,
    "is_executing": true,
    "ExecuteTime": {
     "start_time": "2024-04-19T12:54:53.889672Z"
    }
   },
   "id": "cb87dda453e8954d",
   "execution_count": null
  },
  {
   "cell_type": "code",
   "outputs": [],
   "source": [
    "!pip install prophet"
   ],
   "metadata": {
    "collapsed": false,
    "is_executing": true
   },
   "id": "b49c3bf917594556"
  },
  {
   "cell_type": "code",
   "outputs": [],
   "source": [],
   "metadata": {
    "collapsed": false
   },
   "id": "2302748ef2a7cba8"
  }
 ],
 "metadata": {
  "kernelspec": {
   "display_name": "Python 3",
   "language": "python",
   "name": "python3"
  },
  "language_info": {
   "codemirror_mode": {
    "name": "ipython",
    "version": 2
   },
   "file_extension": ".py",
   "mimetype": "text/x-python",
   "name": "python",
   "nbconvert_exporter": "python",
   "pygments_lexer": "ipython2",
   "version": "2.7.6"
  }
 },
 "nbformat": 4,
 "nbformat_minor": 5
}
